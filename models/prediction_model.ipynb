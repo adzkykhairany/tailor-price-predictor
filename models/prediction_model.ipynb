{
 "cells": [
  {
   "cell_type": "markdown",
   "id": "22a3b038-b664-4844-af17-80fb4d20a5c9",
   "metadata": {},
   "source": [
    "### Library"
   ]
  },
  {
   "cell_type": "code",
   "execution_count": 1,
   "id": "a32cf106-94d7-492e-a659-5b209cd916d0",
   "metadata": {},
   "outputs": [],
   "source": [
    "import re\n",
    "import glob\n",
    "import numpy as np\n",
    "import pandas as pd\n",
    "import joblib\n",
    "import seaborn as sns\n",
    "import matplotlib.pyplot as plt\n",
    "from sklearn.model_selection import train_test_split, RandomizedSearchCV, GridSearchCV, cross_val_score\n",
    "from sklearn.compose import ColumnTransformer\n",
    "from sklearn.preprocessing import OneHotEncoder, StandardScaler\n",
    "from sklearn.linear_model import LinearRegression, Ridge, Lasso, ElasticNet\n",
    "from sklearn.ensemble import RandomForestRegressor, GradientBoostingRegressor\n",
    "from sklearn.pipeline import Pipeline\n",
    "from sklearn.metrics import mean_absolute_error, r2_score, make_scorer\n",
    "from scipy import stats\n",
    "from scipy.stats import uniform, zscore"
   ]
  },
  {
   "cell_type": "markdown",
   "id": "c89ee4bf-e392-4fa3-8f00-50b298afb20c",
   "metadata": {},
   "source": [
    "### Dataset"
   ]
  },
  {
   "cell_type": "code",
   "execution_count": 2,
   "id": "c01a1df9-c278-4ac8-a4f2-8cf051899c38",
   "metadata": {
    "scrolled": true
   },
   "outputs": [
    {
     "name": "stdout",
     "output_type": "stream",
     "text": [
      "✅ Successfully combined 8 CSV files\n"
     ]
    }
   ],
   "source": [
    "file_paths = glob.glob('C:/Users/Kayaki/ta_project/data/raw/*.csv')\n",
    "if not file_paths:\n",
    "    raise FileNotFoundError(\"No CSV files found in the specified directory.\")\n",
    "\n",
    "data = pd.concat([pd.read_csv(file) for file in file_paths], ignore_index=True)\n",
    "data.to_csv('C:/Users/Kayaki/ta_project/data/processed/combined_data.csv', index=False)\n",
    "print(f\"✅ Successfully combined {len(file_paths)} CSV files\")"
   ]
  },
  {
   "cell_type": "code",
   "execution_count": 3,
   "id": "e81a5335-aa03-4fa4-9b87-bb129f2bffef",
   "metadata": {},
   "outputs": [
    {
     "data": {
      "text/html": [
       "<div>\n",
       "<style scoped>\n",
       "    .dataframe tbody tr th:only-of-type {\n",
       "        vertical-align: middle;\n",
       "    }\n",
       "\n",
       "    .dataframe tbody tr th {\n",
       "        vertical-align: top;\n",
       "    }\n",
       "\n",
       "    .dataframe thead th {\n",
       "        text-align: right;\n",
       "    }\n",
       "</style>\n",
       "<table border=\"1\" class=\"dataframe\">\n",
       "  <thead>\n",
       "    <tr style=\"text-align: right;\">\n",
       "      <th></th>\n",
       "      <th>No</th>\n",
       "      <th>Model Pakaian</th>\n",
       "      <th>Jenis Bahan</th>\n",
       "      <th>Waktu Pengerjaan (hari)</th>\n",
       "      <th>Detail Tambahan</th>\n",
       "      <th>Harga Jasa (Rp)</th>\n",
       "    </tr>\n",
       "  </thead>\n",
       "  <tbody>\n",
       "    <tr>\n",
       "      <th>0</th>\n",
       "      <td>1</td>\n",
       "      <td>Kebaya Tradisional</td>\n",
       "      <td>Katun</td>\n",
       "      <td>25</td>\n",
       "      <td>bordir tangan, bawah, payet aksen</td>\n",
       "      <td>Rp750.000</td>\n",
       "    </tr>\n",
       "    <tr>\n",
       "      <th>1</th>\n",
       "      <td>2</td>\n",
       "      <td>Kebaya Tradisional</td>\n",
       "      <td>Katun</td>\n",
       "      <td>7</td>\n",
       "      <td>renda</td>\n",
       "      <td>Rp250.000</td>\n",
       "    </tr>\n",
       "    <tr>\n",
       "      <th>2</th>\n",
       "      <td>3</td>\n",
       "      <td>Kebaya Tradisional</td>\n",
       "      <td>Sutra</td>\n",
       "      <td>10</td>\n",
       "      <td>-</td>\n",
       "      <td>Rp350.000</td>\n",
       "    </tr>\n",
       "    <tr>\n",
       "      <th>736</th>\n",
       "      <td>45</td>\n",
       "      <td>Gaun maxi</td>\n",
       "      <td>Brokat</td>\n",
       "      <td>20</td>\n",
       "      <td>payet dada, tangan aksen</td>\n",
       "      <td>Rp500.000</td>\n",
       "    </tr>\n",
       "    <tr>\n",
       "      <th>737</th>\n",
       "      <td>46</td>\n",
       "      <td>Gaun maxi</td>\n",
       "      <td>Sifon</td>\n",
       "      <td>14</td>\n",
       "      <td>renda panel, payet aksen panel</td>\n",
       "      <td>Rp650.000</td>\n",
       "    </tr>\n",
       "    <tr>\n",
       "      <th>738</th>\n",
       "      <td>47</td>\n",
       "      <td>Gaun maxi</td>\n",
       "      <td>Sifon</td>\n",
       "      <td>10</td>\n",
       "      <td>payet dada aksen</td>\n",
       "      <td>Rp450.000</td>\n",
       "    </tr>\n",
       "  </tbody>\n",
       "</table>\n",
       "</div>"
      ],
      "text/plain": [
       "     No       Model Pakaian Jenis Bahan  Waktu Pengerjaan (hari)  \\\n",
       "0     1  Kebaya Tradisional       Katun                       25   \n",
       "1     2  Kebaya Tradisional       Katun                        7   \n",
       "2     3  Kebaya Tradisional       Sutra                       10   \n",
       "736  45           Gaun maxi      Brokat                       20   \n",
       "737  46           Gaun maxi       Sifon                       14   \n",
       "738  47           Gaun maxi       Sifon                       10   \n",
       "\n",
       "                       Detail Tambahan Harga Jasa (Rp)  \n",
       "0    bordir tangan, bawah, payet aksen       Rp750.000  \n",
       "1                                renda       Rp250.000  \n",
       "2                                    -       Rp350.000  \n",
       "736           payet dada, tangan aksen       Rp500.000  \n",
       "737     renda panel, payet aksen panel       Rp650.000  \n",
       "738                   payet dada aksen       Rp450.000  "
      ]
     },
     "execution_count": 3,
     "metadata": {},
     "output_type": "execute_result"
    }
   ],
   "source": [
    "df = pd.read_csv('C:/Users/Kayaki/ta_project/data/processed/combined_data.csv')\n",
    "pd.concat([df.head(3), df.tail(3)])"
   ]
  },
  {
   "cell_type": "code",
   "execution_count": 4,
   "id": "e5c6c1e8-a1cc-4df8-8294-720c18df609e",
   "metadata": {},
   "outputs": [
    {
     "name": "stdout",
     "output_type": "stream",
     "text": [
      "<class 'pandas.core.frame.DataFrame'>\n",
      "RangeIndex: 739 entries, 0 to 738\n",
      "Data columns (total 6 columns):\n",
      " #   Column                   Non-Null Count  Dtype \n",
      "---  ------                   --------------  ----- \n",
      " 0   No                       739 non-null    int64 \n",
      " 1   Model Pakaian            739 non-null    object\n",
      " 2   Jenis Bahan              739 non-null    object\n",
      " 3   Waktu Pengerjaan (hari)  739 non-null    int64 \n",
      " 4   Detail Tambahan          739 non-null    object\n",
      " 5   Harga Jasa (Rp)          739 non-null    object\n",
      "dtypes: int64(2), object(4)\n",
      "memory usage: 34.8+ KB\n"
     ]
    }
   ],
   "source": [
    "df.info()"
   ]
  },
  {
   "cell_type": "code",
   "execution_count": 5,
   "id": "35773f16-5bd1-4f8d-8abf-015af963ee33",
   "metadata": {},
   "outputs": [
    {
     "name": "stdout",
     "output_type": "stream",
     "text": [
      "No                         0\n",
      "Model Pakaian              0\n",
      "Jenis Bahan                0\n",
      "Waktu Pengerjaan (hari)    0\n",
      "Detail Tambahan            0\n",
      "Harga Jasa (Rp)            0\n",
      "dtype: int64\n"
     ]
    }
   ],
   "source": [
    "print(df.isnull().sum())"
   ]
  },
  {
   "cell_type": "markdown",
   "id": "009af0de-593f-4a0f-849f-cb75966d4433",
   "metadata": {},
   "source": [
    "### Data Cleaning"
   ]
  },
  {
   "cell_type": "code",
   "execution_count": 6,
   "id": "25e61517-fde8-4a37-bf07-07858d69e199",
   "metadata": {},
   "outputs": [],
   "source": [
    "if 'No' in df.columns:\n",
    "    df.drop(labels=['No'], axis=1, inplace=True)"
   ]
  },
  {
   "cell_type": "code",
   "execution_count": 7,
   "id": "0b2d2f7b-ebb3-4c44-8a72-4a7bf934149a",
   "metadata": {},
   "outputs": [],
   "source": [
    "df = df.rename(columns={\n",
    "    'Model Pakaian': 'model',\n",
    "    'Jenis Bahan': 'bahan',\n",
    "    'Waktu Pengerjaan (hari)': 'waktu_pengerjaan',\n",
    "    'Detail Tambahan': 'ornamen',\n",
    "    'Harga Jasa (Rp)': 'harga_jasa'\n",
    "})"
   ]
  },
  {
   "cell_type": "code",
   "execution_count": 8,
   "id": "40d4fced-752a-45d8-bd7b-9bbff0c1658f",
   "metadata": {},
   "outputs": [],
   "source": [
    "def clean_price(price):\n",
    "    cleaned = re.sub(r'[^\\d]', '', str(price))\n",
    "    return int(cleaned) if cleaned else None\n",
    "\n",
    "df['harga_jasa'] = df['harga_jasa'].apply(clean_price)\n",
    "df = df.dropna(subset=['harga_jasa'])"
   ]
  },
  {
   "cell_type": "code",
   "execution_count": 9,
   "id": "0c8b9138-f7d4-4bfe-b926-066a87a5fa0e",
   "metadata": {},
   "outputs": [],
   "source": [
    "model_mapping = {\n",
    "    'Gaun midi': 'midi dress',\n",
    "    'Gaun maxi': 'maxi dress'\n",
    "}\n",
    "\n",
    "df['model'] = df['model'].replace(model_mapping)"
   ]
  },
  {
   "cell_type": "code",
   "execution_count": 10,
   "id": "aa8784af-a87c-4f78-89bb-2c7c4406acbb",
   "metadata": {},
   "outputs": [],
   "source": [
    "cat_cols = ['model', 'bahan', 'ornamen']\n",
    "\n",
    "for col in cat_cols:\n",
    "    df[col] = df[col].str.title().str.strip()"
   ]
  },
  {
   "cell_type": "code",
   "execution_count": 11,
   "id": "b92e858e-fbab-434a-961a-6650c74a54c0",
   "metadata": {},
   "outputs": [],
   "source": [
    "# Ornament keyword mapping\n",
    "ornament_keywords = {\n",
    "    'Bordir': ['Bordir', 'Bordit'],\n",
    "    'Payet': ['Payet', 'Payat'],\n",
    "    'Renda': ['Renda'],\n",
    "    'Opneisel': ['Opneisel', '0pneisel'],\n",
    "    'None': ['-']\n",
    "}\n",
    "\n",
    "# Detect ornament labels\n",
    "def labels_detection(text):\n",
    "    if pd.isna(text):\n",
    "        return []\n",
    "    labels = set()\n",
    "    for label, keywords in ornament_keywords.items():\n",
    "        if any(kw in text for kw in keywords):\n",
    "            labels.add(label)\n",
    "    return list(labels)\n",
    "\n",
    "# Apply detection and store as list\n",
    "df['ornament_list'] = df['ornamen'].apply(labels_detection)"
   ]
  },
  {
   "cell_type": "code",
   "execution_count": 12,
   "id": "dc884806-f8ad-41fa-a733-60838c09fa8a",
   "metadata": {},
   "outputs": [],
   "source": [
    "# Filter rows with only one ornament\n",
    "df = df[df['ornament_list'].apply(len) == 1].copy()\n",
    "\n",
    "# Convert list back to string\n",
    "df['ornamen'] = df['ornament_list'].apply(lambda x: x[0] if x else 'none')\n",
    "df.drop(columns=['ornament_list'], inplace=True)"
   ]
  },
  {
   "cell_type": "code",
   "execution_count": 13,
   "id": "f8468e43-c637-400a-99ec-9af65e6c2730",
   "metadata": {},
   "outputs": [
    {
     "name": "stdout",
     "output_type": "stream",
     "text": [
      "✅ Preprocessing complete! Final dataset shape: (676, 5)\n"
     ]
    }
   ],
   "source": [
    "print(\"✅ Preprocessing complete! Final dataset shape:\", df.shape)"
   ]
  },
  {
   "cell_type": "markdown",
   "id": "1ce626cc-0000-4206-a388-7168d20b56b0",
   "metadata": {},
   "source": [
    "### Exploratory Data Analysis"
   ]
  },
  {
   "cell_type": "code",
   "execution_count": 14,
   "id": "0645cf22-661a-49b6-a115-f51afc9d48f7",
   "metadata": {},
   "outputs": [
    {
     "data": {
      "image/png": "[encoded data removed]",
      "text/plain": [
       "<Figure size 800x600 with 1 Axes>"
      ]
     },
     "metadata": {},
     "output_type": "display_data"
    }
   ],
   "source": [
    "plt.figure(figsize=(8, 6))\n",
    "plt.hist(df['harga_jasa'], bins=20, color='#8aafc9', edgecolor='black')\n",
    "plt.title('Histogram of Harga Jasa')\n",
    "plt.xlabel('Harga')\n",
    "plt.ylabel('Count')\n",
    "plt.show()"
   ]
  },
  {
   "cell_type": "code",
   "execution_count": 63,
   "id": "557d6ff4-d61d-49ca-a484-a69d9fe52d14",
   "metadata": {},
   "outputs": [
    {
     "data": {
      "image/png": "[encoded data removed]",
      "text/plain": [
       "<Figure size 1000x400 with 1 Axes>"
      ]
     },
     "metadata": {},
     "output_type": "display_data"
    }
   ],
   "source": [
    "plt.figure(figsize=(10, 4))\n",
    "sns.barplot(x='model', y='harga_jasa', data=df, errorbar='sd', palette='Set3', hue='model')\n",
    "plt.title('Rata-Rata Harga Jasa pada Model Pakaian')\n",
    "plt.xlabel('')\n",
    "plt.ylabel('Price')\n",
    "plt.show()"
   ]
  },
  {
   "cell_type": "code",
   "execution_count": 64,
   "id": "532ad4fd-c453-4fed-9e8c-70a0f3b27b39",
   "metadata": {},
   "outputs": [
    {
     "data": {
      "image/png": "[encoded data removed]",
      "text/plain": [
       "<Figure size 800x400 with 1 Axes>"
      ]
     },
     "metadata": {},
     "output_type": "display_data"
    }
   ],
   "source": [
    "plt.figure(figsize=(8, 4))\n",
    "sns.barplot(x='bahan', y='harga_jasa', data=df, errorbar='sd', palette='Set3', hue='bahan')\n",
    "plt.title('Rata-Rata Harga Jasa pada Jenis Bahan')\n",
    "plt.xlabel('')\n",
    "plt.ylabel('Price')\n",
    "plt.show()"
   ]
  },
  {
   "cell_type": "code",
   "execution_count": 57,
   "id": "cd9d539c-e34d-4125-9b5a-69aa0a67b9be",
   "metadata": {},
   "outputs": [
    {
     "data": {
      "image/png": "[encoded data removed]",
      "text/plain": [
       "<Figure size 600x400 with 1 Axes>"
      ]
     },
     "metadata": {},
     "output_type": "display_data"
    }
   ],
   "source": [
    "plt.figure(figsize=(6, 4))\n",
    "plt.scatter(df['waktu_pengerjaan'], df['harga_jasa'], alpha=0.3)\n",
    "plt.title('Harga Jasa vs Waktu Pengerjaan')\n",
    "plt.xlabel('')\n",
    "plt.ylabel('Price')\n",
    "plt.show()"
   ]
  },
  {
   "cell_type": "markdown",
   "id": "d64a0101-6663-44e4-945a-8b8e3e327b80",
   "metadata": {},
   "source": [
    "### Outlier Handling"
   ]
  },
  {
   "cell_type": "code",
   "execution_count": 18,
   "id": "635e2d3e-e649-448c-9e5f-9dfc81914cdf",
   "metadata": {},
   "outputs": [],
   "source": [
    "# Z-score\n",
    "z_scores = abs(zscore(df[['waktu_pengerjaan', 'harga_jasa']]))\n",
    "threshold = 3  # Outlier jika Z-score > 3\n",
    "df_no_outliers = df[(z_scores < threshold).all(axis=1)]"
   ]
  },
  {
   "cell_type": "markdown",
   "id": "6d08b5f3-efa8-460f-a2f4-ff28d9948474",
   "metadata": {},
   "source": [
    "### Train Test Split"
   ]
  },
  {
   "cell_type": "code",
   "execution_count": 19,
   "id": "2b96c1d5-fd41-415d-9e31-055711721711",
   "metadata": {},
   "outputs": [],
   "source": [
    "# # Split data\n",
    "X = df_no_outliers.drop('harga_jasa', axis=1)\n",
    "y = df_no_outliers['harga_jasa']\n",
    "X_train, X_test, y_train, y_test = train_test_split(X, y, test_size=0.4, random_state=42)"
   ]
  },
  {
   "cell_type": "markdown",
   "id": "da05bdea-73c5-4fdf-bf55-ffa28823a34e",
   "metadata": {},
   "source": [
    "### Modelling"
   ]
  },
  {
   "cell_type": "code",
   "execution_count": 20,
   "id": "e9c948b2-1022-4dea-bd02-dedb2aebe066",
   "metadata": {},
   "outputs": [],
   "source": [
    "# Tranformation\n",
    "trans = ColumnTransformer(\n",
    "    transformers=[\n",
    "        ('col', OneHotEncoder(sparse_output=False, drop='first'), cat_cols)\n",
    "    ], \n",
    "    remainder='passthrough'\n",
    ")"
   ]
  },
  {
   "cell_type": "code",
   "execution_count": 21,
   "id": "bfbc8017-1925-4cde-8931-07487f84cc05",
   "metadata": {},
   "outputs": [],
   "source": [
    "# Linear Regression\n",
    "lr = LinearRegression()\n",
    "\n",
    "pipe1 = Pipeline([\n",
    "    ('transform', trans),\n",
    "    ('model', lr)\n",
    "])\n",
    "\n",
    "pipe1.fit(X_train, y_train)\n",
    "\n",
    "y_pred1 = pipe1.predict(X_test)\n",
    "\n",
    "r2_lr = r2_score(y_test, y_pred1)\n",
    "mae_lr = mean_absolute_error(y_test, y_pred1)"
   ]
  },
  {
   "cell_type": "code",
   "execution_count": 22,
   "id": "2caaca50-e7aa-4586-a6fe-bb70ddd5f29f",
   "metadata": {},
   "outputs": [],
   "source": [
    "# Random Forest Regressor\n",
    "rfr = RandomForestRegressor(n_estimators=100, \n",
    "                            max_depth=15, \n",
    "                            max_features=0.75, \n",
    "                            max_samples=0.5, \n",
    "                            random_state=3)\n",
    "\n",
    "pipe2 = Pipeline([\n",
    "    ('transform', trans),\n",
    "    ('model', rfr)\n",
    "])\n",
    "\n",
    "pipe2.fit(X_train, y_train)\n",
    "\n",
    "y_pred2 = pipe2.predict(X_test)\n",
    "\n",
    "r2_rfr = r2_score(y_test, y_pred2)\n",
    "mae_rfr = mean_absolute_error(y_test, y_pred2)"
   ]
  },
  {
   "cell_type": "code",
   "execution_count": 23,
   "id": "da591be0-87d0-4ea3-a743-0b22aba0a059",
   "metadata": {},
   "outputs": [],
   "source": [
    "# Gradient Boosting Regressor\n",
    "gbr = GradientBoostingRegressor(n_estimators=500, \n",
    "                                learning_rate=0.1,\n",
    "                                max_depth=3,\n",
    "                                subsample=0.8,\n",
    "                                random_state=3)\n",
    "\n",
    "pipe3 = Pipeline([\n",
    "    ('transform', trans),\n",
    "    ('model', gbr)\n",
    "])\n",
    "\n",
    "pipe3.fit(X_train, y_train)\n",
    "\n",
    "y_pred3 = pipe3.predict(X_test)\n",
    "\n",
    "r2_gbr = r2_score(y_test, y_pred3)\n",
    "mae_gbr = mean_absolute_error(y_test, y_pred3)"
   ]
  },
  {
   "cell_type": "code",
   "execution_count": 24,
   "id": "0a8d5e4a-d3be-4d9e-ad65-02124af77920",
   "metadata": {},
   "outputs": [
    {
     "data": {
      "text/html": [
       "<div>\n",
       "<style scoped>\n",
       "    .dataframe tbody tr th:only-of-type {\n",
       "        vertical-align: middle;\n",
       "    }\n",
       "\n",
       "    .dataframe tbody tr th {\n",
       "        vertical-align: top;\n",
       "    }\n",
       "\n",
       "    .dataframe thead th {\n",
       "        text-align: right;\n",
       "    }\n",
       "</style>\n",
       "<table border=\"1\" class=\"dataframe\">\n",
       "  <thead>\n",
       "    <tr style=\"text-align: right;\">\n",
       "      <th></th>\n",
       "      <th>R2</th>\n",
       "      <th>MAE</th>\n",
       "    </tr>\n",
       "  </thead>\n",
       "  <tbody>\n",
       "    <tr>\n",
       "      <th>Linear Regression</th>\n",
       "      <td>0.741377</td>\n",
       "      <td>48132.677792</td>\n",
       "    </tr>\n",
       "    <tr>\n",
       "      <th>Random Forest Regressor</th>\n",
       "      <td>0.788630</td>\n",
       "      <td>44454.739039</td>\n",
       "    </tr>\n",
       "    <tr>\n",
       "      <th>Gradient Boosting Regressor</th>\n",
       "      <td>0.792503</td>\n",
       "      <td>44619.830130</td>\n",
       "    </tr>\n",
       "  </tbody>\n",
       "</table>\n",
       "</div>"
      ],
      "text/plain": [
       "                                   R2           MAE\n",
       "Linear Regression            0.741377  48132.677792\n",
       "Random Forest Regressor      0.788630  44454.739039\n",
       "Gradient Boosting Regressor  0.792503  44619.830130"
      ]
     },
     "execution_count": 24,
     "metadata": {},
     "output_type": "execute_result"
    }
   ],
   "source": [
    "basic_test_eval = pd.DataFrame({\n",
    "    'R2': [r2_lr, r2_rfr, r2_gbr], \n",
    "    'MAE': [mae_lr, mae_rfr, mae_gbr]\n",
    "}, index=['Linear Regression', 'Random Forest Regressor','Gradient Boosting Regressor'])\n",
    "\n",
    "basic_test_eval"
   ]
  },
  {
   "cell_type": "markdown",
   "id": "02598d86-021c-4212-97b4-19209537977b",
   "metadata": {},
   "source": [
    "### Tuning RandomSearh + GridSearch"
   ]
  },
  {
   "cell_type": "code",
   "execution_count": 25,
   "id": "a357993a-48e8-4e0b-89e9-97c6d7fa1bdd",
   "metadata": {},
   "outputs": [],
   "source": [
    "# 1. Definisi model dan parameter search space\n",
    "regularization_models = {\n",
    "    'Linear Regression': (LinearRegression(), {}),\n",
    "    'Ridge Regression': (Ridge(), {'model__alpha': uniform(0.0001, 50)}),\n",
    "    'Lasso Regression': (Lasso(max_iter=10000), {'model__alpha': uniform(0.0001, 100)}),\n",
    "    'ElasticNet': (ElasticNet(max_iter=10000), {\n",
    "        'model__alpha': uniform(0.0001, 0.5),\n",
    "        'model__l1_ratio': uniform(0.1, 0.8)\n",
    "    })\n",
    "}\n",
    "\n",
    "# 2. Menyimpan hasil evaluasi\n",
    "r2_scores = {}\n",
    "mae_scores = {}"
   ]
  },
  {
   "cell_type": "code",
   "execution_count": 26,
   "id": "7e376a35-5859-4e99-8239-e6b0f640f2fe",
   "metadata": {},
   "outputs": [
    {
     "name": "stdout",
     "output_type": "stream",
     "text": [
      "🔍 Model: Linear Regression\n",
      "➡️ Tidak ada parameter untuk dituning. Langsung fit.\n",
      "📊 Hasil evaluasi di data uji:\n",
      "R² Score: 0.7414\n",
      "MAE: 48132.6778\n",
      "\n",
      "🔍 Model: Ridge Regression\n",
      "➡️ Melakukan RandomizedSearchCV...\n",
      "➡️ Parameter distribusi untuk RandomizedSearchCV:\n",
      "{'model__alpha': <scipy.stats._distn_infrastructure.rv_continuous_frozen object at 0x0000022A7C68D110>}\n",
      "✅ Best params dari RandomizedSearchCV:\n",
      "{'model__alpha': np.float64(1.0293247147901223)}\n",
      "🔢 Best score (neg MSE): -4207645259.109276\n",
      "🔧 Refined grid untuk GridSearchCV:\n",
      "{'model__alpha': [np.float64(0.3087974144370367), np.float64(0.4117298859160489), np.float64(0.5146623573950612), np.float64(0.6175948288740734), np.float64(0.7205273003530857), np.float64(0.8234597718320978), np.float64(0.92639224331111), np.float64(1.0293247147901223), np.float64(1.1322571862691344), np.float64(1.2351896577481467), np.float64(1.338122129227159), np.float64(1.4410546007061713), np.float64(1.5439870721851834), np.float64(1.6469195436641957), np.float64(1.749852015143208)]}\n",
      "➡️ Melakukan GridSearchCV dengan refined grid...\n",
      "✅ Best params dari GridSearchCV:\n",
      "{'model__alpha': np.float64(0.6175948288740734)}\n",
      "🔢 Best score (neg MSE): -4205144630.0810103\n",
      "📊 Hasil evaluasi di data uji:\n",
      "R² Score: 0.7416\n",
      "MAE: 48087.9161\n",
      "\n",
      "🔍 Model: Lasso Regression\n",
      "➡️ Melakukan RandomizedSearchCV...\n",
      "➡️ Parameter distribusi untuk RandomizedSearchCV:\n",
      "{'model__alpha': <scipy.stats._distn_infrastructure.rv_continuous_frozen object at 0x0000022A7EFD7C90>}\n",
      "✅ Best params dari RandomizedSearchCV:\n",
      "{'model__alpha': np.float64(96.99108521619944)}\n",
      "🔢 Best score (neg MSE): -4204541042.1530395\n",
      "🔧 Refined grid untuk GridSearchCV:\n",
      "{'model__alpha': [np.float64(29.09732556485983), np.float64(38.79643408647978), np.float64(48.49554260809972), np.float64(58.19465112971966), np.float64(67.89375965133961), np.float64(77.59286817295956), np.float64(87.29197669457949), np.float64(96.99108521619944), np.float64(106.69019373781938), np.float64(116.38930225943933), np.float64(126.08841078105928), np.float64(135.78751930267921), np.float64(145.48662782429915), np.float64(155.1857363459191), np.float64(164.88484486753904)]}\n",
      "➡️ Melakukan GridSearchCV dengan refined grid...\n",
      "✅ Best params dari GridSearchCV:\n",
      "{'model__alpha': np.float64(155.1857363459191)}\n",
      "🔢 Best score (neg MSE): -4203723973.662057\n",
      "📊 Hasil evaluasi di data uji:\n",
      "R² Score: 0.7418\n",
      "MAE: 48146.5757\n",
      "\n",
      "🔍 Model: ElasticNet\n",
      "➡️ Melakukan RandomizedSearchCV...\n",
      "➡️ Parameter distribusi untuk RandomizedSearchCV:\n",
      "{'model__alpha': <scipy.stats._distn_infrastructure.rv_continuous_frozen object at 0x0000022A7C6C5090>, 'model__l1_ratio': <scipy.stats._distn_infrastructure.rv_continuous_frozen object at 0x0000022A7EFE1A90>}\n",
      "✅ Best params dari RandomizedSearchCV:\n",
      "{'model__alpha': np.float64(0.010392247147901223), 'model__l1_ratio': np.float64(0.8759278817295955)}\n",
      "🔢 Best score (neg MSE): -4205433490.079581\n",
      "🔧 Refined grid untuk GridSearchCV:\n",
      "{'model__alpha': [np.float64(0.0031176741443703668), np.float64(0.004156898859160489), np.float64(0.005196123573950611), np.float64(0.006235348288740734), np.float64(0.007274573003530856), np.float64(0.008313797718320979), np.float64(0.009353022433111102), np.float64(0.010392247147901223), np.float64(0.011431471862691346), np.float64(0.012470696577481469), np.float64(0.01350992129227159), np.float64(0.014549146007061713), np.float64(0.015588370721851836), np.float64(0.016627595436641957), np.float64(0.01766682015143208)], 'model__l1_ratio': [np.float64(0.7007423053836764), np.float64(0.8759278817295955), 1.0]}\n",
      "➡️ Melakukan GridSearchCV dengan refined grid...\n",
      "✅ Best params dari GridSearchCV:\n",
      "{'model__alpha': np.float64(0.014549146007061713), 'model__l1_ratio': np.float64(0.8759278817295955)}\n",
      "🔢 Best score (neg MSE): -4205094519.3208017\n",
      "📊 Hasil evaluasi di data uji:\n",
      "R² Score: 0.7417\n",
      "MAE: 48083.6868\n",
      "\n"
     ]
    }
   ],
   "source": [
    "## 3. Training dan evaluasi\n",
    "for name, (model, param_dist) in regularization_models.items():\n",
    "    print(f\"🔍 Model: {name}\")\n",
    "    \n",
    "    pipe = Pipeline([\n",
    "        ('transform', trans), \n",
    "        ('model', model)\n",
    "    ])\n",
    "    \n",
    "    if param_dist:\n",
    "        # ➡️ Random Search\n",
    "        print(\"➡️ Melakukan RandomizedSearchCV...\")\n",
    "        print(\"➡️ Parameter distribusi untuk RandomizedSearchCV:\")\n",
    "        print(param_dist)\n",
    "        \n",
    "        random_search = RandomizedSearchCV(\n",
    "            pipe, \n",
    "            param_distributions=param_dist, \n",
    "            n_iter=20, \n",
    "            cv=5, \n",
    "            scoring='neg_mean_squared_error',\n",
    "            error_score='raise',\n",
    "            random_state=42\n",
    "        )\n",
    "        random_search.fit(X_train, y_train)\n",
    "\n",
    "        # Ambil parameter terbaik dari random search\n",
    "        print(\"✅ Best params dari RandomizedSearchCV:\")\n",
    "        print(random_search.best_params_)\n",
    "        print(\"🔢 Best score (neg MSE):\", random_search.best_score_)\n",
    "        \n",
    "        # ➡️ Fokuskan Grid Search di sekitar best_params\n",
    "        best_params = random_search.best_params_\n",
    "        refined_grid = {}\n",
    "        for param_name, best_val in best_params.items():\n",
    "            if 'l1_ratio' in param_name:\n",
    "                lower = max(0.0, best_val * 0.8)\n",
    "                center = min(1.0, best_val)\n",
    "                upper = min(1.0, best_val * 1.2)\n",
    "                refined_grid[param_name] = sorted(set([lower, center, upper]))\n",
    "            else:\n",
    "                refined_grid[param_name] = list(np.linspace(0.3 * best_val, 1.7 * best_val, 15))\n",
    "        \n",
    "        print(\"🔧 Refined grid untuk GridSearchCV:\")\n",
    "        print(refined_grid)\n",
    "        \n",
    "        print(\"➡️ Melakukan GridSearchCV dengan refined grid...\")\n",
    "        grid_search = GridSearchCV(\n",
    "            pipe, \n",
    "            param_grid=refined_grid, \n",
    "            cv=5, \n",
    "            scoring='neg_mean_squared_error'\n",
    "        )\n",
    "        grid_search.fit(X_train, y_train)\n",
    "\n",
    "        print(\"✅ Best params dari GridSearchCV:\")\n",
    "        print(grid_search.best_params_)\n",
    "        print(\"🔢 Best score (neg MSE):\", grid_search.best_score_)\n",
    "\n",
    "        best_model = grid_search.best_estimator_\n",
    "    else:\n",
    "        print(\"➡️ Tidak ada parameter untuk dituning. Langsung fit.\")\n",
    "        pipe.fit(X_train, y_train)\n",
    "        best_model = pipe\n",
    "\n",
    "    # Prediksi dan evaluasi\n",
    "    y_pred = best_model.predict(X_test)\n",
    "    r2_scores[name] = r2_score(y_test, y_pred)\n",
    "    mae_scores[name] = mean_absolute_error(y_test, y_pred)\n",
    "    \n",
    "    print(\"📊 Hasil evaluasi di data uji:\")\n",
    "    print(f\"R² Score: {r2_scores[name]:.4f}\")\n",
    "    print(f\"MAE: {mae_scores[name]:.4f}\\n\")"
   ]
  },
  {
   "cell_type": "code",
   "execution_count": 27,
   "id": "67509c43-f67d-4970-9c0e-34b22aca36b7",
   "metadata": {},
   "outputs": [
    {
     "data": {
      "text/html": [
       "<div>\n",
       "<style scoped>\n",
       "    .dataframe tbody tr th:only-of-type {\n",
       "        vertical-align: middle;\n",
       "    }\n",
       "\n",
       "    .dataframe tbody tr th {\n",
       "        vertical-align: top;\n",
       "    }\n",
       "\n",
       "    .dataframe thead th {\n",
       "        text-align: right;\n",
       "    }\n",
       "</style>\n",
       "<table border=\"1\" class=\"dataframe\">\n",
       "  <thead>\n",
       "    <tr style=\"text-align: right;\">\n",
       "      <th></th>\n",
       "      <th>R2</th>\n",
       "      <th>MAE</th>\n",
       "    </tr>\n",
       "  </thead>\n",
       "  <tbody>\n",
       "    <tr>\n",
       "      <th>Linear Regression</th>\n",
       "      <td>0.741377</td>\n",
       "      <td>48132.677792</td>\n",
       "    </tr>\n",
       "    <tr>\n",
       "      <th>Ridge Regression</th>\n",
       "      <td>0.741646</td>\n",
       "      <td>48087.916084</td>\n",
       "    </tr>\n",
       "    <tr>\n",
       "      <th>Lasso Regression</th>\n",
       "      <td>0.741787</td>\n",
       "      <td>48146.575715</td>\n",
       "    </tr>\n",
       "    <tr>\n",
       "      <th>ElasticNet</th>\n",
       "      <td>0.741655</td>\n",
       "      <td>48083.686808</td>\n",
       "    </tr>\n",
       "  </tbody>\n",
       "</table>\n",
       "</div>"
      ],
      "text/plain": [
       "                         R2           MAE\n",
       "Linear Regression  0.741377  48132.677792\n",
       "Ridge Regression   0.741646  48087.916084\n",
       "Lasso Regression   0.741787  48146.575715\n",
       "ElasticNet         0.741655  48083.686808"
      ]
     },
     "execution_count": 27,
     "metadata": {},
     "output_type": "execute_result"
    }
   ],
   "source": [
    "# 4. Buat tabel hasil evaluasi\n",
    "test_eval = pd.DataFrame({\n",
    "    'R2': [\n",
    "        r2_scores['Linear Regression'],\n",
    "        r2_scores['Ridge Regression'],\n",
    "        r2_scores['Lasso Regression'],\n",
    "        r2_scores['ElasticNet']\n",
    "    ],\n",
    "    'MAE': [\n",
    "        mae_scores['Linear Regression'],\n",
    "        mae_scores['Ridge Regression'],\n",
    "        mae_scores['Lasso Regression'],\n",
    "        mae_scores['ElasticNet']\n",
    "    ]\n",
    "}, index=['Linear Regression', 'Ridge Regression', 'Lasso Regression', 'ElasticNet'])\n",
    "\n",
    "test_eval"
   ]
  },
  {
   "cell_type": "code",
   "execution_count": 28,
   "id": "2ba69df5-95a9-43ee-806e-ecbab830ce62",
   "metadata": {},
   "outputs": [
    {
     "data": {
      "image/png": "[encoded data removed]",
      "text/plain": [
       "<Figure size 800x500 with 1 Axes>"
      ]
     },
     "metadata": {},
     "output_type": "display_data"
    }
   ],
   "source": [
    "# Misal kamu punya random_search dari salah satu model\n",
    "# random_search = hasil RandomizedSearchCV tadi\n",
    "\n",
    "# Ambil skor dari hasil random search\n",
    "search_results = random_search.cv_results_\n",
    "mean_test_scores = -search_results['mean_test_score']  # karena scoring = neg_mean_squared_error\n",
    "iterations = np.arange(1, len(mean_test_scores) + 1)\n",
    "\n",
    "# Plot\n",
    "plt.figure(figsize=(8,5))\n",
    "plt.plot(iterations, mean_test_scores, marker='o')\n",
    "plt.xlabel('Iterasi')\n",
    "plt.ylabel('Mean Squared Error (MSE)')\n",
    "plt.title('Performa vs Iterasi di Random Search')\n",
    "plt.grid(True)\n",
    "plt.show()"
   ]
  },
  {
   "cell_type": "markdown",
   "id": "4b1452de-eef5-44e2-bfb2-ce90fce79f51",
   "metadata": {},
   "source": [
    "### Tuning GridSearch"
   ]
  },
  {
   "cell_type": "code",
   "execution_count": 29,
   "id": "d3a7db16-6e64-4fbf-b6b6-084bd85c2cea",
   "metadata": {},
   "outputs": [
    {
     "data": {
      "text/html": [
       "<div>\n",
       "<style scoped>\n",
       "    .dataframe tbody tr th:only-of-type {\n",
       "        vertical-align: middle;\n",
       "    }\n",
       "\n",
       "    .dataframe tbody tr th {\n",
       "        vertical-align: top;\n",
       "    }\n",
       "\n",
       "    .dataframe thead th {\n",
       "        text-align: right;\n",
       "    }\n",
       "</style>\n",
       "<table border=\"1\" class=\"dataframe\">\n",
       "  <thead>\n",
       "    <tr style=\"text-align: right;\">\n",
       "      <th></th>\n",
       "      <th>R2</th>\n",
       "      <th>MAE</th>\n",
       "    </tr>\n",
       "  </thead>\n",
       "  <tbody>\n",
       "    <tr>\n",
       "      <th>Linear Regression</th>\n",
       "      <td>0.741377</td>\n",
       "      <td>48132.677792</td>\n",
       "    </tr>\n",
       "    <tr>\n",
       "      <th>Ridge Regression</th>\n",
       "      <td>0.741636</td>\n",
       "      <td>48073.816604</td>\n",
       "    </tr>\n",
       "    <tr>\n",
       "      <th>Lasso Regression</th>\n",
       "      <td>0.741417</td>\n",
       "      <td>48132.812912</td>\n",
       "    </tr>\n",
       "    <tr>\n",
       "      <th>ElasticNet</th>\n",
       "      <td>0.741656</td>\n",
       "      <td>48080.742244</td>\n",
       "    </tr>\n",
       "  </tbody>\n",
       "</table>\n",
       "</div>"
      ],
      "text/plain": [
       "                         R2           MAE\n",
       "Linear Regression  0.741377  48132.677792\n",
       "Ridge Regression   0.741636  48073.816604\n",
       "Lasso Regression   0.741417  48132.812912\n",
       "ElasticNet         0.741656  48080.742244"
      ]
     },
     "execution_count": 29,
     "metadata": {},
     "output_type": "execute_result"
    }
   ],
   "source": [
    "# Linear Regression\n",
    "# 1. Definisi model dan parameter grid\n",
    "regularization_models = {\n",
    "    'Linear Regression': (LinearRegression(), {}),\n",
    "    'Ridge Regression': (Ridge(), {'model__alpha': [0.0001, 0.001, 0.01, 0.1, 1, 10, 50, 100]}),\n",
    "    'Lasso Regression': (Lasso(max_iter=10000), {'model__alpha': [0.0001, 0.001, 0.01, 0.1, 1, 10]}),\n",
    "    'ElasticNet': (ElasticNet(max_iter=10000), {\n",
    "        'model__alpha': [0.0001, 0.001, 0.01, 0.1, 0.5, 1],\n",
    "        'model__l1_ratio': [0.1, 0.5, 0.7, 0.8, 0.9, 1]\n",
    "    })\n",
    "}\n",
    "\n",
    "# 2. Menyimpan hasil evaluasi\n",
    "r2_scores = {}\n",
    "mae_scores = {}\n",
    "\n",
    "# 3. Training dan evaluasi\n",
    "for name, (model, param_grid) in regularization_models.items():\n",
    "    pipe = Pipeline([\n",
    "        ('transform', trans),  # pastikan 'trans' sudah didefinisikan sebelumnya\n",
    "        ('model', model)\n",
    "    ])\n",
    "    \n",
    "    if param_grid:\n",
    "        grid = GridSearchCV(pipe, param_grid, cv=5, scoring='neg_mean_squared_error')\n",
    "        grid.fit(X_train, y_train)\n",
    "        best_model = grid.best_estimator_\n",
    "    else:\n",
    "        pipe.fit(X_train, y_train)\n",
    "        best_model = pipe\n",
    "\n",
    "    y_pred = best_model.predict(X_test)\n",
    "    r2_scores[name] = r2_score(y_test, y_pred)\n",
    "    mae_scores[name] = mean_absolute_error(y_test, y_pred)\n",
    "\n",
    "# 4. Buat tabel hasil evaluasi\n",
    "test_eval = pd.DataFrame({\n",
    "    'R2': [\n",
    "        r2_scores['Linear Regression'],\n",
    "        r2_scores['Ridge Regression'],\n",
    "        r2_scores['Lasso Regression'],\n",
    "        r2_scores['ElasticNet']\n",
    "    ],\n",
    "    'MAE': [\n",
    "        mae_scores['Linear Regression'],\n",
    "        mae_scores['Ridge Regression'],\n",
    "        mae_scores['Lasso Regression'],\n",
    "        mae_scores['ElasticNet']\n",
    "    ]\n",
    "}, index=['Linear Regression', 'Ridge Regression', 'Lasso Regression', 'ElasticNet'])\n",
    "\n",
    "test_eval"
   ]
  },
  {
   "cell_type": "code",
   "execution_count": 30,
   "id": "e0c8ab27-b5fa-4d64-96a6-26037c452a01",
   "metadata": {},
   "outputs": [],
   "source": [
    "# best_reg_model = 'Ridge Regression'"
   ]
  },
  {
   "cell_type": "code",
   "execution_count": 31,
   "id": "cf726f72-a462-4fdd-9db9-82891d9d9349",
   "metadata": {},
   "outputs": [],
   "source": [
    "# # Random Forest\n",
    "# rfr = RandomForestRegressor(random_state=3)\n",
    "\n",
    "# pipe2 = Pipeline([\n",
    "#     ('transform', trans),\n",
    "#     ('model', rfr)\n",
    "# ])\n",
    "\n",
    "# # Hyperparameter Grid\n",
    "# param_grid = {\n",
    "#     'model__n_estimators': [100, 200, 500],\n",
    "#     'model__max_depth': [10, 20, 30],\n",
    "#     'model__max_features': [0.5, 0.75, 'sqrt', 'log2'],\n",
    "#     'model__min_samples_split': [2, 5, 10],\n",
    "#     'model__min_samples_leaf': [1, 2, 4],\n",
    "#     'model__max_samples': [0.5, 0.75, 1.0]\n",
    "# }\n",
    "\n",
    "# # Grid Search\n",
    "# grid_rf = GridSearchCV(pipe2, param_grid, cv=3, scoring='neg_mean_squared_error', verbose=1, n_jobs=-1)\n",
    "# grid_rf.fit(X_train, y_train)\n",
    "\n",
    "# # Best hyperparameters\n",
    "# print(\"Best Params (Random Forest):\", grid_rf.best_params_)\n",
    "\n",
    "# # Prediction\n",
    "# y_pred2 = grid_rf.best_estimator_.predict(X_test)"
   ]
  },
  {
   "cell_type": "code",
   "execution_count": 32,
   "id": "7a86c241-6850-4722-ac6c-016ac0f897a4",
   "metadata": {},
   "outputs": [],
   "source": [
    "# gbr = GradientBoostingRegressor(random_state=3)\n",
    "\n",
    "# pipe3 = Pipeline([\n",
    "#     ('transform', trans),\n",
    "#     ('model', gbr)\n",
    "# ])\n",
    "\n",
    "# # Hyperparameter grid\n",
    "# param_grid = {\n",
    "#     'model__n_estimators': [100, 300, 500],\n",
    "#     'model__learning_rate': [0.01, 0.05, 0.1],\n",
    "#     'model__max_depth': [3, 5, 7],\n",
    "#     'model__subsample': [0.6, 0.8, 1.0],\n",
    "#     'model__min_samples_split': [2, 5, 10],\n",
    "#     'model__min_samples_leaf': [1, 2, 4]\n",
    "# }\n",
    "\n",
    "# # Grid Search\n",
    "# grid_gbr = GridSearchCV(pipe3, param_grid, cv=3, scoring='neg_mean_squared_error', verbose=1, n_jobs=-1)\n",
    "# grid_gbr.fit(X_train, y_train)\n",
    "\n",
    "# # Best hyperparameters\n",
    "# print(\"Best Params (Gradient Boosting):\", grid_gbr.best_params_)\n",
    "\n",
    "# # Prediction\n",
    "# y_pred3 = grid_gbr.best_estimator_.predict(X_test)"
   ]
  },
  {
   "cell_type": "code",
   "execution_count": 33,
   "id": "cdb91dcf-d063-47d5-92a8-52029594c94c",
   "metadata": {},
   "outputs": [],
   "source": [
    "# r2_lr = r2_scores[best_reg_model]\n",
    "# mae_lr = mae_scores[best_reg_model]\n",
    "\n",
    "# r2_rfr = r2_score(y_test, y_pred2)\n",
    "# mae_rfr = mean_absolute_error(y_test, y_pred2)\n",
    "\n",
    "# r2_gbr = r2_score(y_test, y_pred3)\n",
    "# mae_gbr = mean_absolute_error(y_test, y_pred3)"
   ]
  },
  {
   "cell_type": "code",
   "execution_count": 34,
   "id": "a006b1ae-be5d-4c97-9035-772066f9790f",
   "metadata": {},
   "outputs": [],
   "source": [
    "# tuning_test_eval = pd.DataFrame({\n",
    "#     'R2': [r2_lr, r2_rfr, r2_gbr], \n",
    "#     'MAE': [mae_lr, mae_rfr, mae_gbr]\n",
    "# }, index=['Ridge Regression', 'Random Forest Regressor','Gradient Boosting Regressor'])\n",
    "\n",
    "# tuning_test_eval"
   ]
  },
  {
   "cell_type": "markdown",
   "id": "7a009fb4-3842-481c-bd88-744843b39885",
   "metadata": {},
   "source": [
    "### Prediction"
   ]
  },
  {
   "cell_type": "code",
   "execution_count": 35,
   "id": "48eec6dc-9132-44c6-8f03-1e3eb9cb6fe5",
   "metadata": {},
   "outputs": [],
   "source": [
    "# def predict_price(model_input, bahan_input, ornamen_input, waktu_input):\n",
    "#     df_input = pd.DataFrame([{\n",
    "#         'model': model_input,\n",
    "#         'bahan': bahan_input,\n",
    "#         'ornamen': ornamen_input,\n",
    "#         'waktu_pengerjaan': waktu_input\n",
    "#     }])\n",
    "    \n",
    "#     # Prediksi langsung pakai pipeline\n",
    "#     pred = pipe1.predict(df_input)[0]\n",
    "#     rentang = (int(pred - 100000), int(pred + 100000))\n",
    "#     return f\"Estimasi harga jasa jahit: Rp{rentang[0]:,} - Rp{rentang[1]:,}\""
   ]
  },
  {
   "cell_type": "code",
   "execution_count": 36,
   "id": "478b908b-95f9-4cac-8bbc-3be2a26130c8",
   "metadata": {},
   "outputs": [],
   "source": [
    "# # Contoh prediksi\n",
    "# print(predict_price(\"Kebaya Tradisional\", \"Brokat\", \"Payet\", 7))"
   ]
  },
  {
   "cell_type": "code",
   "execution_count": 37,
   "id": "57d46788-f3f5-43de-900b-20d6bbf242de",
   "metadata": {},
   "outputs": [],
   "source": [
    "# # Save model\n",
    "# joblib.dump(pipe1, 'C:/Users/Kayaki/ta_project/models/model.pkl')"
   ]
  },
  {
   "cell_type": "markdown",
   "id": "48a9ff9b-ade3-44a3-8884-4e9e3ab7bf0a",
   "metadata": {},
   "source": [
    "### Evaluation"
   ]
  },
  {
   "cell_type": "code",
   "execution_count": 38,
   "id": "6ac7932f-1db3-400e-aa5d-ec1ef45e30c0",
   "metadata": {},
   "outputs": [],
   "source": [
    "# plt.figure(figsize=(8, 6))\n",
    "# plt.scatter(y_test, y_pred2, alpha=0.7)\n",
    "# plt.xlabel(\"Actual\")\n",
    "# plt.ylabel(\"Predicted\")\n",
    "# plt.title(\"Actual vs Predicted Harga Jasa\")\n",
    "# plt.plot([y_test.min(), y_test.max()], [y_test.min(), y_test.max()])\n",
    "# plt.show()"
   ]
  }
 ],
 "metadata": {
  "kernelspec": {
   "display_name": "Python 3 (ipykernel)",
   "language": "python",
   "name": "python3"
  },
  "language_info": {
   "codemirror_mode": {
    "name": "ipython",
    "version": 3
   },
   "file_extension": ".py",
   "mimetype": "text/x-python",
   "name": "python",
   "nbconvert_exporter": "python",
   "pygments_lexer": "ipython3",
   "version": "3.11.9"
  }
 },
 "nbformat": 4,
 "nbformat_minor": 5
}
