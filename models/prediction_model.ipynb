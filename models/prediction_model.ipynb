{
 "cells": [
  {
   "cell_type": "markdown",
   "id": "7641c800-4b61-4e3b-a45d-3aed035e23db",
   "metadata": {},
   "source": [
    "### Library"
   ]
  },
  {
   "cell_type": "code",
   "execution_count": 82,
   "id": "c556ec24-e089-46fb-b553-4cbb26b1d3e1",
   "metadata": {},
   "outputs": [],
   "source": [
    "import re\n",
    "import glob\n",
    "import numpy as np\n",
    "import pandas as pd\n",
    "import joblib\n",
    "import seaborn as sns\n",
    "import matplotlib.pyplot as plt\n",
    "from sklearn.model_selection import train_test_split,cross_val_score\n",
    "from sklearn.compose import ColumnTransformer\n",
    "from sklearn.model_selection import RandomizedSearchCV\n",
    "from sklearn.preprocessing import OneHotEncoder, StandardScaler\n",
    "from sklearn.multioutput import MultiOutputRegressor\n",
    "from sklearn.linear_model import LinearRegression, Ridge\n",
    "from sklearn.pipeline import Pipeline\n",
    "from sklearn.metrics import mean_absolute_error, r2_score, make_scorer, mean_absolute_percentage_error, mean_squared_error\n",
    "from scipy import stats\n",
    "from scipy.stats import zscore, uniform, randint"
   ]
  },
  {
   "cell_type": "markdown",
   "id": "75c8078c-922a-4a33-9711-006cee7eeeba",
   "metadata": {},
   "source": [
    "### Dataset"
   ]
  },
  {
   "cell_type": "code",
   "execution_count": 83,
   "id": "f2edfd90-3804-4be7-aa6b-413c972e22ff",
   "metadata": {},
   "outputs": [],
   "source": [
    "df = pd.read_csv('../data/data.csv')"
   ]
  },
  {
   "cell_type": "markdown",
   "id": "5f921f8e-0b7d-4773-ab33-47065f914ec1",
   "metadata": {},
   "source": [
    "### Data Preparation"
   ]
  },
  {
   "cell_type": "code",
   "execution_count": 84,
   "id": "c3b4f336-5ae7-4564-a6cf-79aaac308bc7",
   "metadata": {},
   "outputs": [],
   "source": [
    "# Mengubah nama kolom\n",
    "df = df.rename(columns={\n",
    "    'Model Pakaian': 'model',\n",
    "    'Jenis Bahan': 'bahan',\n",
    "    'Waktu Pengerjaan (hari)': 'waktu_pengerjaan',\n",
    "    'Detail Tambahan': 'ornamen',\n",
    "    'Harga Jasa (Rp)': 'harga_jasa'\n",
    "})"
   ]
  },
  {
   "cell_type": "code",
   "execution_count": 85,
   "id": "4c0a3541-72c6-429e-b96d-a1e2df69fa5d",
   "metadata": {},
   "outputs": [],
   "source": [
    "# Merubah data pada kolom 'harga_jasa' menjadi numerik\n",
    "def clean_price(price):\n",
    "    return int(str(price).replace('Rp', '').replace('.', '').replace(',', '').strip()) if pd.notna(price) else None\n",
    "\n",
    "df['harga_jasa'] = df['harga_jasa'].apply(clean_price)\n",
    "df = df.dropna(subset=['harga_jasa'])"
   ]
  },
  {
   "cell_type": "code",
   "execution_count": 86,
   "id": "c20cfae7-f799-4db8-b547-3767240079d1",
   "metadata": {},
   "outputs": [
    {
     "name": "stdout",
     "output_type": "stream",
     "text": [
      "Model:\n",
      " ['Blus' 'Gaun maxi' 'Gaun midi' 'Kebaya modern' 'Kebaya Tradisional'\n",
      " 'Kebaya Modern' 'Maxi Dress' 'Midi Dress'] \n",
      "\n",
      "Bahan:\n",
      " ['Katun' 'Satin' 'Sifon' 'Sutra' 'Brokat'] \n",
      "\n",
      "Ornamen:\n",
      " ['bordir tempel' 'renda' '-' 'opneisel terbuka' 'payet aksen kecil'\n",
      " 'payet aksen sedang' 'payet aksen besar' 'bordir besar'\n",
      " 'opneisel tertutup' 'payet  aksen kecil' 'payet motif besar'\n",
      " 'payet  motif sedang' 'renda ' 'payet motif sedang' 'bordir sedang'\n",
      " 'bordir kecil' 'payet motif  sedang' 'payet  aksen besar' ' bordir kecil'\n",
      " 'bordir  sedang' 'bordir sedang ' 'bordir kecil ' 'bordir tempel '\n",
      " 'payet aksen  sedang' ' bordir sedang' ' bordir besar' 'bordir  besar'\n",
      " 'bordir  kecil' 'bordir besar ' 'bordir  besar ' 'bordir  sedang '\n",
      " 'opneisel  tertutup'] \n",
      "\n"
     ]
    }
   ],
   "source": [
    "# Cek data unik pada tiap variabel kategori\n",
    "for col in ['model', 'bahan', 'ornamen']:\n",
    "    print(f\"{col.title()}:\\n\", df[col].unique(), \"\\n\")"
   ]
  },
  {
   "cell_type": "code",
   "execution_count": 87,
   "id": "f43338ff-4a27-4c96-a736-485e75dee9f5",
   "metadata": {},
   "outputs": [],
   "source": [
    "# Standarisasi format variabel kategori\n",
    "cat_cols = ['model', 'bahan', 'ornamen']\n",
    "\n",
    "for col in cat_cols:\n",
    "    df[col] = df[col].str.title().str.strip().str.replace(r'\\s+', ' ', regex=True)"
   ]
  },
  {
   "cell_type": "code",
   "execution_count": 88,
   "id": "664dd2cf-6065-4be2-976d-13ab0a866f40",
   "metadata": {},
   "outputs": [],
   "source": [
    "# Menyeragamkan penulisan data di kolom 'model' dan 'ornamen'\n",
    "df.replace({\n",
    "    'model': {\n",
    "        'Gaun Midi': 'Midi Dress', \n",
    "        'Gaun Maxi': 'Maxi Dress'},\n",
    "    'ornamen': {\n",
    "        '-': 'None'\n",
    "    }\n",
    "}, inplace=True)"
   ]
  },
  {
   "cell_type": "markdown",
   "id": "3e0d6d75-a478-4ebb-860c-6b6060566d8f",
   "metadata": {},
   "source": [
    "### Exploratory Data Analysis"
   ]
  },
  {
   "cell_type": "code",
   "execution_count": 89,
   "id": "c7a8dcc5",
   "metadata": {},
   "outputs": [
    {
     "data": {
      "application/vnd.microsoft.datawrangler.viewer.v0+json": {
       "columns": [
        {
         "name": "index",
         "rawType": "int64",
         "type": "integer"
        },
        {
         "name": "model",
         "rawType": "object",
         "type": "string"
        },
        {
         "name": "bahan",
         "rawType": "object",
         "type": "string"
        },
        {
         "name": "ornamen",
         "rawType": "object",
         "type": "string"
        },
        {
         "name": "waktu_pengerjaan",
         "rawType": "int64",
         "type": "integer"
        },
        {
         "name": "harga_jasa",
         "rawType": "int64",
         "type": "integer"
        }
       ],
       "ref": "b37d5da9-d966-48d2-98fd-097db8faf6b5",
       "rows": [
        [
         "0",
         "Blus",
         "Katun",
         "Bordir Tempel",
         "4",
         "250000"
        ],
        [
         "1",
         "Blus",
         "Katun",
         "Renda",
         "7",
         "175000"
        ],
        [
         "2",
         "Blus",
         "Satin",
         "None",
         "7",
         "150000"
        ],
        [
         "3",
         "Blus",
         "Satin",
         "Opneisel Terbuka",
         "10",
         "175000"
        ],
        [
         "4",
         "Blus",
         "Sifon",
         "Opneisel Terbuka",
         "6",
         "175000"
        ]
       ],
       "shape": {
        "columns": 5,
        "rows": 5
       }
      },
      "text/html": [
       "<div>\n",
       "<style scoped>\n",
       "    .dataframe tbody tr th:only-of-type {\n",
       "        vertical-align: middle;\n",
       "    }\n",
       "\n",
       "    .dataframe tbody tr th {\n",
       "        vertical-align: top;\n",
       "    }\n",
       "\n",
       "    .dataframe thead th {\n",
       "        text-align: right;\n",
       "    }\n",
       "</style>\n",
       "<table border=\"1\" class=\"dataframe\">\n",
       "  <thead>\n",
       "    <tr style=\"text-align: right;\">\n",
       "      <th></th>\n",
       "      <th>model</th>\n",
       "      <th>bahan</th>\n",
       "      <th>ornamen</th>\n",
       "      <th>waktu_pengerjaan</th>\n",
       "      <th>harga_jasa</th>\n",
       "    </tr>\n",
       "  </thead>\n",
       "  <tbody>\n",
       "    <tr>\n",
       "      <th>0</th>\n",
       "      <td>Blus</td>\n",
       "      <td>Katun</td>\n",
       "      <td>Bordir Tempel</td>\n",
       "      <td>4</td>\n",
       "      <td>250000</td>\n",
       "    </tr>\n",
       "    <tr>\n",
       "      <th>1</th>\n",
       "      <td>Blus</td>\n",
       "      <td>Katun</td>\n",
       "      <td>Renda</td>\n",
       "      <td>7</td>\n",
       "      <td>175000</td>\n",
       "    </tr>\n",
       "    <tr>\n",
       "      <th>2</th>\n",
       "      <td>Blus</td>\n",
       "      <td>Satin</td>\n",
       "      <td>None</td>\n",
       "      <td>7</td>\n",
       "      <td>150000</td>\n",
       "    </tr>\n",
       "    <tr>\n",
       "      <th>3</th>\n",
       "      <td>Blus</td>\n",
       "      <td>Satin</td>\n",
       "      <td>Opneisel Terbuka</td>\n",
       "      <td>10</td>\n",
       "      <td>175000</td>\n",
       "    </tr>\n",
       "    <tr>\n",
       "      <th>4</th>\n",
       "      <td>Blus</td>\n",
       "      <td>Sifon</td>\n",
       "      <td>Opneisel Terbuka</td>\n",
       "      <td>6</td>\n",
       "      <td>175000</td>\n",
       "    </tr>\n",
       "  </tbody>\n",
       "</table>\n",
       "</div>"
      ],
      "text/plain": [
       "  model  bahan           ornamen  waktu_pengerjaan  harga_jasa\n",
       "0  Blus  Katun     Bordir Tempel                 4      250000\n",
       "1  Blus  Katun             Renda                 7      175000\n",
       "2  Blus  Satin              None                 7      150000\n",
       "3  Blus  Satin  Opneisel Terbuka                10      175000\n",
       "4  Blus  Sifon  Opneisel Terbuka                 6      175000"
      ]
     },
     "execution_count": 89,
     "metadata": {},
     "output_type": "execute_result"
    }
   ],
   "source": [
    "df.head()"
   ]
  },
  {
   "cell_type": "code",
   "execution_count": 90,
   "id": "cbab6b01-b259-4f89-b1df-a0dbbbe2e769",
   "metadata": {},
   "outputs": [
    {
     "name": "stdout",
     "output_type": "stream",
     "text": [
      "<class 'pandas.core.frame.DataFrame'>\n",
      "RangeIndex: 1114 entries, 0 to 1113\n",
      "Data columns (total 5 columns):\n",
      " #   Column            Non-Null Count  Dtype \n",
      "---  ------            --------------  ----- \n",
      " 0   model             1114 non-null   object\n",
      " 1   bahan             1114 non-null   object\n",
      " 2   ornamen           1114 non-null   object\n",
      " 3   waktu_pengerjaan  1114 non-null   int64 \n",
      " 4   harga_jasa        1114 non-null   int64 \n",
      "dtypes: int64(2), object(3)\n",
      "memory usage: 43.6+ KB\n"
     ]
    }
   ],
   "source": [
    "df.info()"
   ]
  },
  {
   "cell_type": "code",
   "execution_count": 91,
   "id": "9683c08b-2b05-47a6-bb09-736970b4c9b3",
   "metadata": {},
   "outputs": [
    {
     "data": {
      "text/plain": [
       "np.int64(143)"
      ]
     },
     "execution_count": 91,
     "metadata": {},
     "output_type": "execute_result"
    }
   ],
   "source": [
    "df.duplicated().sum()"
   ]
  },
  {
   "cell_type": "code",
   "execution_count": 92,
   "id": "5e1c2e4a-1cc1-4988-a841-50c3a3218fa4",
   "metadata": {},
   "outputs": [
    {
     "data": {
      "image/png": "[encoded data removed]",
      "text/plain": [
       "<Figure size 2000x400 with 2 Axes>"
      ]
     },
     "metadata": {},
     "output_type": "display_data"
    }
   ],
   "source": [
    "fig, axes = plt.subplots(1, 2, figsize=(20, 4))\n",
    "sns.despine(left=True)\n",
    "sns.barplot(data=df, x='model', y='waktu_pengerjaan', hue='model', errorbar='sd', palette='pastel', ax=axes[0])\n",
    "sns.barplot(data=df, x='model', y='harga_jasa', hue='model', errorbar='sd', palette='pastel', ax=axes[1])\n",
    "plt.tight_layout()\n",
    "plt.show()"
   ]
  },
  {
   "cell_type": "code",
   "execution_count": 93,
   "id": "bd7d64b3-7fd8-4831-b6e3-f2dea9a243ac",
   "metadata": {},
   "outputs": [
    {
     "data": {
      "image/png": "[encoded data removed]",
      "text/plain": [
       "<Figure size 2000x400 with 2 Axes>"
      ]
     },
     "metadata": {},
     "output_type": "display_data"
    }
   ],
   "source": [
    "fig, axes = plt.subplots(1, 2, figsize=(20, 4))\n",
    "sns.despine(left=True)\n",
    "sns.barplot(data=df, x='bahan', y='waktu_pengerjaan', hue='bahan', errorbar='sd', palette='pastel', ax=axes[0])\n",
    "sns.barplot(data=df, x='bahan', y='harga_jasa', hue='bahan', errorbar='sd', palette='pastel', ax=axes[1])\n",
    "plt.tight_layout()\n",
    "plt.show()"
   ]
  },
  {
   "cell_type": "code",
   "execution_count": 94,
   "id": "1dbeb6ad-b124-4c87-8665-a53fa31d28e9",
   "metadata": {},
   "outputs": [
    {
     "data": {
      "image/png": "[encoded data removed]",
      "text/plain": [
       "<Figure size 2000x400 with 2 Axes>"
      ]
     },
     "metadata": {},
     "output_type": "display_data"
    }
   ],
   "source": [
    "fig, axes = plt.subplots(1, 2, figsize=(20, 4))\n",
    "sns.despine(left=True)\n",
    "sns.barplot(data=df, x='ornamen', y='waktu_pengerjaan', hue='ornamen', errorbar='sd', palette='pastel', ax=axes[0])\n",
    "sns.barplot(data=df, x='ornamen', y='harga_jasa', hue='ornamen', errorbar='sd', palette='pastel', ax=axes[1])\n",
    "axes[0].tick_params(axis='x', rotation=45)\n",
    "axes[1].tick_params(axis='x', rotation=45)\n",
    "plt.tight_layout()\n",
    "plt.show()"
   ]
  },
  {
   "cell_type": "code",
   "execution_count": 95,
   "id": "4b4d4970-22ac-4515-8984-5f49c5c9c241",
   "metadata": {},
   "outputs": [
    {
     "data": {
      "text/plain": [
       "<Axes: xlabel='harga_jasa', ylabel='Count'>"
      ]
     },
     "execution_count": 95,
     "metadata": {},
     "output_type": "execute_result"
    },
    {
     "data": {
      "image/png": "[encoded data removed]",
      "text/plain": [
       "<Figure size 2000x500 with 2 Axes>"
      ]
     },
     "metadata": {},
     "output_type": "display_data"
    }
   ],
   "source": [
    "fig, axes = plt.subplots(1, 2, figsize=(20, 5))\n",
    "sns.despine(left=True)\n",
    "sns.histplot(df.waktu_pengerjaan, color=\"mediumpurple\", kde=True, ax=axes[0])\n",
    "sns.histplot(df.harga_jasa, color=\"skyblue\", kde=True, ax=axes[1])"
   ]
  },
  {
   "cell_type": "markdown",
   "id": "aeaacb6e-dc5e-4760-8b4f-0e9c13a5d7e5",
   "metadata": {},
   "source": [
    "### Preprocessing"
   ]
  },
  {
   "cell_type": "code",
   "execution_count": 96,
   "id": "79bb25ba-90ef-447a-abaf-7d0b69277f19",
   "metadata": {},
   "outputs": [
    {
     "name": "stdout",
     "output_type": "stream",
     "text": [
      "143 data duplikat berhasil dihapus\n"
     ]
    }
   ],
   "source": [
    "# Menghapus duplikasi data\n",
    "before = len(df)\n",
    "df = df.drop_duplicates()\n",
    "after = len(df)\n",
    "\n",
    "if before > after:\n",
    "    print(f\"{before - after} data duplikat berhasil dihapus\")\n",
    "else:\n",
    "    print(\"Tidak ada data duplikat yang ditemukan\")"
   ]
  },
  {
   "cell_type": "code",
   "execution_count": 97,
   "id": "8b2e2b30-b98b-4233-b6f5-97fc6841f129",
   "metadata": {},
   "outputs": [],
   "source": [
    "# Menangani outlier dengan Z-score\n",
    "df = df[\n",
    "    (np.abs(zscore(df['waktu_pengerjaan'])) < 2) &\n",
    "    (np.abs(zscore(df['harga_jasa'])) < 3)\n",
    "]"
   ]
  },
  {
   "cell_type": "markdown",
   "id": "b82cb756-a607-463a-8746-0110eb85bb03",
   "metadata": {},
   "source": [
    "### Transformasi"
   ]
  },
  {
   "cell_type": "code",
   "execution_count": 98,
   "id": "981122b3-042c-42a6-8143-df10c0a5d58f",
   "metadata": {},
   "outputs": [],
   "source": [
    "# Pemisahan fitur dan target\n",
    "X = df[['model', 'bahan', 'ornamen']]\n",
    "y = df[['waktu_pengerjaan', 'harga_jasa']]"
   ]
  },
  {
   "cell_type": "code",
   "execution_count": 99,
   "id": "52f45a2f-ae27-4132-8863-c11736422798",
   "metadata": {},
   "outputs": [],
   "source": [
    "# Split train-test\n",
    "X_train, X_test, y_train, y_test = train_test_split(\n",
    "    X, y, test_size=0.2, random_state=42\n",
    ")"
   ]
  },
  {
   "cell_type": "code",
   "execution_count": 100,
   "id": "d3c513f5-d05a-4ca6-a030-46a0dfef0c0e",
   "metadata": {},
   "outputs": [
    {
     "name": "stdout",
     "output_type": "stream",
     "text": [
      "Jumlah data latih: 744\n",
      "Jumlah data uji: 187\n"
     ]
    }
   ],
   "source": [
    "train_set = pd.concat([X_train, y_train], axis=1)\n",
    "test_set = pd.concat([X_test, y_test], axis=1)\n",
    "\n",
    "print(\"Jumlah data latih:\", len(train_set))\n",
    "print(\"Jumlah data uji:\", len(test_set))"
   ]
  },
  {
   "cell_type": "code",
   "execution_count": 101,
   "id": "e163ee79-4f66-4111-aa9f-9f4e0402a57f",
   "metadata": {},
   "outputs": [
    {
     "data": {
      "application/vnd.microsoft.datawrangler.viewer.v0+json": {
       "columns": [
        {
         "name": "index",
         "rawType": "int64",
         "type": "integer"
        },
        {
         "name": "model",
         "rawType": "object",
         "type": "string"
        },
        {
         "name": "bahan",
         "rawType": "object",
         "type": "string"
        },
        {
         "name": "ornamen",
         "rawType": "object",
         "type": "string"
        },
        {
         "name": "waktu_pengerjaan",
         "rawType": "int64",
         "type": "integer"
        },
        {
         "name": "harga_jasa",
         "rawType": "int64",
         "type": "integer"
        }
       ],
       "ref": "61dae3c1-fe02-46cf-bcfa-ac00a0eeb6d5",
       "rows": [
        [
         "55",
         "Kebaya Tradisional",
         "Sifon",
         "Bordir Besar",
         "30",
         "950000"
        ],
        [
         "326",
         "Kebaya Modern",
         "Brokat",
         "Bordir Kecil",
         "20",
         "450000"
        ],
        [
         "576",
         "Blus",
         "Satin",
         "Bordir Besar",
         "28",
         "750000"
        ],
        [
         "998",
         "Blus",
         "Katun",
         "Opneisel Terbuka",
         "22",
         "225000"
        ],
        [
         "495",
         "Kebaya Tradisional",
         "Satin",
         "Payet Aksen Besar",
         "32",
         "750000"
        ],
        [
         "106",
         "Kebaya Modern",
         "Sutra",
         "Renda",
         "18",
         "450000"
        ]
       ],
       "shape": {
        "columns": 5,
        "rows": 6
       }
      },
      "text/html": [
       "<div>\n",
       "<style scoped>\n",
       "    .dataframe tbody tr th:only-of-type {\n",
       "        vertical-align: middle;\n",
       "    }\n",
       "\n",
       "    .dataframe tbody tr th {\n",
       "        vertical-align: top;\n",
       "    }\n",
       "\n",
       "    .dataframe thead th {\n",
       "        text-align: right;\n",
       "    }\n",
       "</style>\n",
       "<table border=\"1\" class=\"dataframe\">\n",
       "  <thead>\n",
       "    <tr style=\"text-align: right;\">\n",
       "      <th></th>\n",
       "      <th>model</th>\n",
       "      <th>bahan</th>\n",
       "      <th>ornamen</th>\n",
       "      <th>waktu_pengerjaan</th>\n",
       "      <th>harga_jasa</th>\n",
       "    </tr>\n",
       "  </thead>\n",
       "  <tbody>\n",
       "    <tr>\n",
       "      <th>55</th>\n",
       "      <td>Kebaya Tradisional</td>\n",
       "      <td>Sifon</td>\n",
       "      <td>Bordir Besar</td>\n",
       "      <td>30</td>\n",
       "      <td>950000</td>\n",
       "    </tr>\n",
       "    <tr>\n",
       "      <th>326</th>\n",
       "      <td>Kebaya Modern</td>\n",
       "      <td>Brokat</td>\n",
       "      <td>Bordir Kecil</td>\n",
       "      <td>20</td>\n",
       "      <td>450000</td>\n",
       "    </tr>\n",
       "    <tr>\n",
       "      <th>576</th>\n",
       "      <td>Blus</td>\n",
       "      <td>Satin</td>\n",
       "      <td>Bordir Besar</td>\n",
       "      <td>28</td>\n",
       "      <td>750000</td>\n",
       "    </tr>\n",
       "    <tr>\n",
       "      <th>998</th>\n",
       "      <td>Blus</td>\n",
       "      <td>Katun</td>\n",
       "      <td>Opneisel Terbuka</td>\n",
       "      <td>22</td>\n",
       "      <td>225000</td>\n",
       "    </tr>\n",
       "    <tr>\n",
       "      <th>495</th>\n",
       "      <td>Kebaya Tradisional</td>\n",
       "      <td>Satin</td>\n",
       "      <td>Payet Aksen Besar</td>\n",
       "      <td>32</td>\n",
       "      <td>750000</td>\n",
       "    </tr>\n",
       "    <tr>\n",
       "      <th>106</th>\n",
       "      <td>Kebaya Modern</td>\n",
       "      <td>Sutra</td>\n",
       "      <td>Renda</td>\n",
       "      <td>18</td>\n",
       "      <td>450000</td>\n",
       "    </tr>\n",
       "  </tbody>\n",
       "</table>\n",
       "</div>"
      ],
      "text/plain": [
       "                  model   bahan            ornamen  waktu_pengerjaan  \\\n",
       "55   Kebaya Tradisional   Sifon       Bordir Besar                30   \n",
       "326       Kebaya Modern  Brokat       Bordir Kecil                20   \n",
       "576                Blus   Satin       Bordir Besar                28   \n",
       "998                Blus   Katun   Opneisel Terbuka                22   \n",
       "495  Kebaya Tradisional   Satin  Payet Aksen Besar                32   \n",
       "106       Kebaya Modern   Sutra              Renda                18   \n",
       "\n",
       "     harga_jasa  \n",
       "55       950000  \n",
       "326      450000  \n",
       "576      750000  \n",
       "998      225000  \n",
       "495      750000  \n",
       "106      450000  "
      ]
     },
     "execution_count": 101,
     "metadata": {},
     "output_type": "execute_result"
    }
   ],
   "source": [
    "# Menampilkan contoh data latih\n",
    "pd.concat([train_set.head(3), train_set.tail(3)])"
   ]
  },
  {
   "cell_type": "code",
   "execution_count": 102,
   "id": "31296afc-5104-4fb5-9e86-6f7e52d119db",
   "metadata": {},
   "outputs": [
    {
     "name": "stdout",
     "output_type": "stream",
     "text": [
      "Contoh data uji:\n"
     ]
    },
    {
     "data": {
      "application/vnd.microsoft.datawrangler.viewer.v0+json": {
       "columns": [
        {
         "name": "index",
         "rawType": "int64",
         "type": "integer"
        },
        {
         "name": "model",
         "rawType": "object",
         "type": "string"
        },
        {
         "name": "bahan",
         "rawType": "object",
         "type": "string"
        },
        {
         "name": "ornamen",
         "rawType": "object",
         "type": "string"
        },
        {
         "name": "waktu_pengerjaan",
         "rawType": "int64",
         "type": "integer"
        },
        {
         "name": "harga_jasa",
         "rawType": "int64",
         "type": "integer"
        }
       ],
       "ref": "c8dbeb17-6cfb-41db-b797-f1d52e8b7694",
       "rows": [
        [
         "956",
         "Maxi Dress",
         "Sifon",
         "Bordir Kecil",
         "20",
         "600000"
        ],
        [
         "72",
         "Blus",
         "Sutra",
         "Renda",
         "10",
         "250000"
        ],
        [
         "726",
         "Blus",
         "Katun",
         "Renda",
         "15",
         "300000"
        ],
        [
         "845",
         "Midi Dress",
         "Katun",
         "Bordir Kecil",
         "25",
         "450000"
        ],
        [
         "630",
         "Kebaya Tradisional",
         "Satin",
         "Payet Aksen Kecil",
         "28",
         "400000"
        ],
        [
         "5",
         "Blus",
         "Sifon",
         "None",
         "10",
         "150000"
        ]
       ],
       "shape": {
        "columns": 5,
        "rows": 6
       }
      },
      "text/html": [
       "<div>\n",
       "<style scoped>\n",
       "    .dataframe tbody tr th:only-of-type {\n",
       "        vertical-align: middle;\n",
       "    }\n",
       "\n",
       "    .dataframe tbody tr th {\n",
       "        vertical-align: top;\n",
       "    }\n",
       "\n",
       "    .dataframe thead th {\n",
       "        text-align: right;\n",
       "    }\n",
       "</style>\n",
       "<table border=\"1\" class=\"dataframe\">\n",
       "  <thead>\n",
       "    <tr style=\"text-align: right;\">\n",
       "      <th></th>\n",
       "      <th>model</th>\n",
       "      <th>bahan</th>\n",
       "      <th>ornamen</th>\n",
       "      <th>waktu_pengerjaan</th>\n",
       "      <th>harga_jasa</th>\n",
       "    </tr>\n",
       "  </thead>\n",
       "  <tbody>\n",
       "    <tr>\n",
       "      <th>956</th>\n",
       "      <td>Maxi Dress</td>\n",
       "      <td>Sifon</td>\n",
       "      <td>Bordir Kecil</td>\n",
       "      <td>20</td>\n",
       "      <td>600000</td>\n",
       "    </tr>\n",
       "    <tr>\n",
       "      <th>72</th>\n",
       "      <td>Blus</td>\n",
       "      <td>Sutra</td>\n",
       "      <td>Renda</td>\n",
       "      <td>10</td>\n",
       "      <td>250000</td>\n",
       "    </tr>\n",
       "    <tr>\n",
       "      <th>726</th>\n",
       "      <td>Blus</td>\n",
       "      <td>Katun</td>\n",
       "      <td>Renda</td>\n",
       "      <td>15</td>\n",
       "      <td>300000</td>\n",
       "    </tr>\n",
       "    <tr>\n",
       "      <th>845</th>\n",
       "      <td>Midi Dress</td>\n",
       "      <td>Katun</td>\n",
       "      <td>Bordir Kecil</td>\n",
       "      <td>25</td>\n",
       "      <td>450000</td>\n",
       "    </tr>\n",
       "    <tr>\n",
       "      <th>630</th>\n",
       "      <td>Kebaya Tradisional</td>\n",
       "      <td>Satin</td>\n",
       "      <td>Payet Aksen Kecil</td>\n",
       "      <td>28</td>\n",
       "      <td>400000</td>\n",
       "    </tr>\n",
       "    <tr>\n",
       "      <th>5</th>\n",
       "      <td>Blus</td>\n",
       "      <td>Sifon</td>\n",
       "      <td>None</td>\n",
       "      <td>10</td>\n",
       "      <td>150000</td>\n",
       "    </tr>\n",
       "  </tbody>\n",
       "</table>\n",
       "</div>"
      ],
      "text/plain": [
       "                  model  bahan            ornamen  waktu_pengerjaan  \\\n",
       "956          Maxi Dress  Sifon       Bordir Kecil                20   \n",
       "72                 Blus  Sutra              Renda                10   \n",
       "726                Blus  Katun              Renda                15   \n",
       "845          Midi Dress  Katun       Bordir Kecil                25   \n",
       "630  Kebaya Tradisional  Satin  Payet Aksen Kecil                28   \n",
       "5                  Blus  Sifon               None                10   \n",
       "\n",
       "     harga_jasa  \n",
       "956      600000  \n",
       "72       250000  \n",
       "726      300000  \n",
       "845      450000  \n",
       "630      400000  \n",
       "5        150000  "
      ]
     },
     "execution_count": 102,
     "metadata": {},
     "output_type": "execute_result"
    }
   ],
   "source": [
    "# Menampilkan contoh data uji\n",
    "print(\"Contoh data uji:\")\n",
    "pd.concat([test_set.head(3), test_set.tail(3)])"
   ]
  },
  {
   "cell_type": "code",
   "execution_count": 103,
   "id": "05e97cda-f270-4fe3-8836-1d08e3ba9895",
   "metadata": {},
   "outputs": [],
   "source": [
    "# One-hot encoding\n",
    "trans = ColumnTransformer(\n",
    "    transformers=[\n",
    "        ('coder', OneHotEncoder(sparse_output=False, drop='first', handle_unknown='ignore'), cat_cols)\n",
    "    ],\n",
    "    remainder='passthrough'\n",
    ")"
   ]
  },
  {
   "cell_type": "code",
   "execution_count": 104,
   "id": "fb7ef4bd-5f03-4202-a446-f8722d897df5",
   "metadata": {},
   "outputs": [
    {
     "data": {
      "application/vnd.microsoft.datawrangler.viewer.v0+json": {
       "columns": [
        {
         "name": "index",
         "rawType": "int64",
         "type": "integer"
        },
        {
         "name": "coder__model_Kebaya Modern",
         "rawType": "float64",
         "type": "float"
        },
        {
         "name": "coder__model_Kebaya Tradisional",
         "rawType": "float64",
         "type": "float"
        },
        {
         "name": "coder__model_Maxi Dress",
         "rawType": "float64",
         "type": "float"
        },
        {
         "name": "coder__model_Midi Dress",
         "rawType": "float64",
         "type": "float"
        },
        {
         "name": "coder__bahan_Katun",
         "rawType": "float64",
         "type": "float"
        },
        {
         "name": "coder__bahan_Satin",
         "rawType": "float64",
         "type": "float"
        },
        {
         "name": "coder__bahan_Sifon",
         "rawType": "float64",
         "type": "float"
        },
        {
         "name": "coder__bahan_Sutra",
         "rawType": "float64",
         "type": "float"
        },
        {
         "name": "coder__ornamen_Bordir Kecil",
         "rawType": "float64",
         "type": "float"
        },
        {
         "name": "coder__ornamen_Bordir Sedang",
         "rawType": "float64",
         "type": "float"
        },
        {
         "name": "coder__ornamen_Bordir Tempel",
         "rawType": "float64",
         "type": "float"
        },
        {
         "name": "coder__ornamen_None",
         "rawType": "float64",
         "type": "float"
        },
        {
         "name": "coder__ornamen_Opneisel Terbuka",
         "rawType": "float64",
         "type": "float"
        },
        {
         "name": "coder__ornamen_Opneisel Tertutup",
         "rawType": "float64",
         "type": "float"
        },
        {
         "name": "coder__ornamen_Payet Aksen Besar",
         "rawType": "float64",
         "type": "float"
        },
        {
         "name": "coder__ornamen_Payet Aksen Kecil",
         "rawType": "float64",
         "type": "float"
        },
        {
         "name": "coder__ornamen_Payet Aksen Sedang",
         "rawType": "float64",
         "type": "float"
        },
        {
         "name": "coder__ornamen_Payet Motif Besar",
         "rawType": "float64",
         "type": "float"
        },
        {
         "name": "coder__ornamen_Payet Motif Sedang",
         "rawType": "float64",
         "type": "float"
        },
        {
         "name": "coder__ornamen_Renda",
         "rawType": "float64",
         "type": "float"
        }
       ],
       "ref": "167ae011-d17b-42c7-9bdd-94202a2d9733",
       "rows": [
        [
         "0",
         "0.0",
         "1.0",
         "0.0",
         "0.0",
         "0.0",
         "0.0",
         "1.0",
         "0.0",
         "0.0",
         "0.0",
         "0.0",
         "0.0",
         "0.0",
         "0.0",
         "0.0",
         "0.0",
         "0.0",
         "0.0",
         "0.0",
         "0.0"
        ],
        [
         "1",
         "1.0",
         "0.0",
         "0.0",
         "0.0",
         "0.0",
         "0.0",
         "0.0",
         "0.0",
         "1.0",
         "0.0",
         "0.0",
         "0.0",
         "0.0",
         "0.0",
         "0.0",
         "0.0",
         "0.0",
         "0.0",
         "0.0",
         "0.0"
        ],
        [
         "2",
         "0.0",
         "0.0",
         "0.0",
         "0.0",
         "0.0",
         "1.0",
         "0.0",
         "0.0",
         "0.0",
         "0.0",
         "0.0",
         "0.0",
         "0.0",
         "0.0",
         "0.0",
         "0.0",
         "0.0",
         "0.0",
         "0.0",
         "0.0"
        ],
        [
         "3",
         "0.0",
         "1.0",
         "0.0",
         "0.0",
         "0.0",
         "0.0",
         "1.0",
         "0.0",
         "0.0",
         "0.0",
         "0.0",
         "0.0",
         "0.0",
         "0.0",
         "0.0",
         "0.0",
         "1.0",
         "0.0",
         "0.0",
         "0.0"
        ],
        [
         "4",
         "0.0",
         "0.0",
         "0.0",
         "0.0",
         "0.0",
         "0.0",
         "1.0",
         "0.0",
         "0.0",
         "0.0",
         "1.0",
         "0.0",
         "0.0",
         "0.0",
         "0.0",
         "0.0",
         "0.0",
         "0.0",
         "0.0",
         "0.0"
        ]
       ],
       "shape": {
        "columns": 20,
        "rows": 5
       }
      },
      "text/html": [
       "<div>\n",
       "<style scoped>\n",
       "    .dataframe tbody tr th:only-of-type {\n",
       "        vertical-align: middle;\n",
       "    }\n",
       "\n",
       "    .dataframe tbody tr th {\n",
       "        vertical-align: top;\n",
       "    }\n",
       "\n",
       "    .dataframe thead th {\n",
       "        text-align: right;\n",
       "    }\n",
       "</style>\n",
       "<table border=\"1\" class=\"dataframe\">\n",
       "  <thead>\n",
       "    <tr style=\"text-align: right;\">\n",
       "      <th></th>\n",
       "      <th>coder__model_Kebaya Modern</th>\n",
       "      <th>coder__model_Kebaya Tradisional</th>\n",
       "      <th>coder__model_Maxi Dress</th>\n",
       "      <th>coder__model_Midi Dress</th>\n",
       "      <th>coder__bahan_Katun</th>\n",
       "      <th>coder__bahan_Satin</th>\n",
       "      <th>coder__bahan_Sifon</th>\n",
       "      <th>coder__bahan_Sutra</th>\n",
       "      <th>coder__ornamen_Bordir Kecil</th>\n",
       "      <th>coder__ornamen_Bordir Sedang</th>\n",
       "      <th>coder__ornamen_Bordir Tempel</th>\n",
       "      <th>coder__ornamen_None</th>\n",
       "      <th>coder__ornamen_Opneisel Terbuka</th>\n",
       "      <th>coder__ornamen_Opneisel Tertutup</th>\n",
       "      <th>coder__ornamen_Payet Aksen Besar</th>\n",
       "      <th>coder__ornamen_Payet Aksen Kecil</th>\n",
       "      <th>coder__ornamen_Payet Aksen Sedang</th>\n",
       "      <th>coder__ornamen_Payet Motif Besar</th>\n",
       "      <th>coder__ornamen_Payet Motif Sedang</th>\n",
       "      <th>coder__ornamen_Renda</th>\n",
       "    </tr>\n",
       "  </thead>\n",
       "  <tbody>\n",
       "    <tr>\n",
       "      <th>0</th>\n",
       "      <td>0.0</td>\n",
       "      <td>1.0</td>\n",
       "      <td>0.0</td>\n",
       "      <td>0.0</td>\n",
       "      <td>0.0</td>\n",
       "      <td>0.0</td>\n",
       "      <td>1.0</td>\n",
       "      <td>0.0</td>\n",
       "      <td>0.0</td>\n",
       "      <td>0.0</td>\n",
       "      <td>0.0</td>\n",
       "      <td>0.0</td>\n",
       "      <td>0.0</td>\n",
       "      <td>0.0</td>\n",
       "      <td>0.0</td>\n",
       "      <td>0.0</td>\n",
       "      <td>0.0</td>\n",
       "      <td>0.0</td>\n",
       "      <td>0.0</td>\n",
       "      <td>0.0</td>\n",
       "    </tr>\n",
       "    <tr>\n",
       "      <th>1</th>\n",
       "      <td>1.0</td>\n",
       "      <td>0.0</td>\n",
       "      <td>0.0</td>\n",
       "      <td>0.0</td>\n",
       "      <td>0.0</td>\n",
       "      <td>0.0</td>\n",
       "      <td>0.0</td>\n",
       "      <td>0.0</td>\n",
       "      <td>1.0</td>\n",
       "      <td>0.0</td>\n",
       "      <td>0.0</td>\n",
       "      <td>0.0</td>\n",
       "      <td>0.0</td>\n",
       "      <td>0.0</td>\n",
       "      <td>0.0</td>\n",
       "      <td>0.0</td>\n",
       "      <td>0.0</td>\n",
       "      <td>0.0</td>\n",
       "      <td>0.0</td>\n",
       "      <td>0.0</td>\n",
       "    </tr>\n",
       "    <tr>\n",
       "      <th>2</th>\n",
       "      <td>0.0</td>\n",
       "      <td>0.0</td>\n",
       "      <td>0.0</td>\n",
       "      <td>0.0</td>\n",
       "      <td>0.0</td>\n",
       "      <td>1.0</td>\n",
       "      <td>0.0</td>\n",
       "      <td>0.0</td>\n",
       "      <td>0.0</td>\n",
       "      <td>0.0</td>\n",
       "      <td>0.0</td>\n",
       "      <td>0.0</td>\n",
       "      <td>0.0</td>\n",
       "      <td>0.0</td>\n",
       "      <td>0.0</td>\n",
       "      <td>0.0</td>\n",
       "      <td>0.0</td>\n",
       "      <td>0.0</td>\n",
       "      <td>0.0</td>\n",
       "      <td>0.0</td>\n",
       "    </tr>\n",
       "    <tr>\n",
       "      <th>3</th>\n",
       "      <td>0.0</td>\n",
       "      <td>1.0</td>\n",
       "      <td>0.0</td>\n",
       "      <td>0.0</td>\n",
       "      <td>0.0</td>\n",
       "      <td>0.0</td>\n",
       "      <td>1.0</td>\n",
       "      <td>0.0</td>\n",
       "      <td>0.0</td>\n",
       "      <td>0.0</td>\n",
       "      <td>0.0</td>\n",
       "      <td>0.0</td>\n",
       "      <td>0.0</td>\n",
       "      <td>0.0</td>\n",
       "      <td>0.0</td>\n",
       "      <td>0.0</td>\n",
       "      <td>1.0</td>\n",
       "      <td>0.0</td>\n",
       "      <td>0.0</td>\n",
       "      <td>0.0</td>\n",
       "    </tr>\n",
       "    <tr>\n",
       "      <th>4</th>\n",
       "      <td>0.0</td>\n",
       "      <td>0.0</td>\n",
       "      <td>0.0</td>\n",
       "      <td>0.0</td>\n",
       "      <td>0.0</td>\n",
       "      <td>0.0</td>\n",
       "      <td>1.0</td>\n",
       "      <td>0.0</td>\n",
       "      <td>0.0</td>\n",
       "      <td>0.0</td>\n",
       "      <td>1.0</td>\n",
       "      <td>0.0</td>\n",
       "      <td>0.0</td>\n",
       "      <td>0.0</td>\n",
       "      <td>0.0</td>\n",
       "      <td>0.0</td>\n",
       "      <td>0.0</td>\n",
       "      <td>0.0</td>\n",
       "      <td>0.0</td>\n",
       "      <td>0.0</td>\n",
       "    </tr>\n",
       "  </tbody>\n",
       "</table>\n",
       "</div>"
      ],
      "text/plain": [
       "   coder__model_Kebaya Modern  coder__model_Kebaya Tradisional  \\\n",
       "0                         0.0                              1.0   \n",
       "1                         1.0                              0.0   \n",
       "2                         0.0                              0.0   \n",
       "3                         0.0                              1.0   \n",
       "4                         0.0                              0.0   \n",
       "\n",
       "   coder__model_Maxi Dress  coder__model_Midi Dress  coder__bahan_Katun  \\\n",
       "0                      0.0                      0.0                 0.0   \n",
       "1                      0.0                      0.0                 0.0   \n",
       "2                      0.0                      0.0                 0.0   \n",
       "3                      0.0                      0.0                 0.0   \n",
       "4                      0.0                      0.0                 0.0   \n",
       "\n",
       "   coder__bahan_Satin  coder__bahan_Sifon  coder__bahan_Sutra  \\\n",
       "0                 0.0                 1.0                 0.0   \n",
       "1                 0.0                 0.0                 0.0   \n",
       "2                 1.0                 0.0                 0.0   \n",
       "3                 0.0                 1.0                 0.0   \n",
       "4                 0.0                 1.0                 0.0   \n",
       "\n",
       "   coder__ornamen_Bordir Kecil  coder__ornamen_Bordir Sedang  \\\n",
       "0                          0.0                           0.0   \n",
       "1                          1.0                           0.0   \n",
       "2                          0.0                           0.0   \n",
       "3                          0.0                           0.0   \n",
       "4                          0.0                           0.0   \n",
       "\n",
       "   coder__ornamen_Bordir Tempel  coder__ornamen_None  \\\n",
       "0                           0.0                  0.0   \n",
       "1                           0.0                  0.0   \n",
       "2                           0.0                  0.0   \n",
       "3                           0.0                  0.0   \n",
       "4                           1.0                  0.0   \n",
       "\n",
       "   coder__ornamen_Opneisel Terbuka  coder__ornamen_Opneisel Tertutup  \\\n",
       "0                              0.0                               0.0   \n",
       "1                              0.0                               0.0   \n",
       "2                              0.0                               0.0   \n",
       "3                              0.0                               0.0   \n",
       "4                              0.0                               0.0   \n",
       "\n",
       "   coder__ornamen_Payet Aksen Besar  coder__ornamen_Payet Aksen Kecil  \\\n",
       "0                               0.0                               0.0   \n",
       "1                               0.0                               0.0   \n",
       "2                               0.0                               0.0   \n",
       "3                               0.0                               0.0   \n",
       "4                               0.0                               0.0   \n",
       "\n",
       "   coder__ornamen_Payet Aksen Sedang  coder__ornamen_Payet Motif Besar  \\\n",
       "0                                0.0                               0.0   \n",
       "1                                0.0                               0.0   \n",
       "2                                0.0                               0.0   \n",
       "3                                1.0                               0.0   \n",
       "4                                0.0                               0.0   \n",
       "\n",
       "   coder__ornamen_Payet Motif Sedang  coder__ornamen_Renda  \n",
       "0                                0.0                   0.0  \n",
       "1                                0.0                   0.0  \n",
       "2                                0.0                   0.0  \n",
       "3                                0.0                   0.0  \n",
       "4                                0.0                   0.0  "
      ]
     },
     "execution_count": 104,
     "metadata": {},
     "output_type": "execute_result"
    }
   ],
   "source": [
    "# Terapkan transformasi pada data latih\n",
    "X_train_encoded = trans.fit_transform(X_train)\n",
    "\n",
    "encoded_df = pd.DataFrame(X_train_encoded, columns=trans.get_feature_names_out())\n",
    "encoded_df.head()"
   ]
  },
  {
   "cell_type": "markdown",
   "id": "75385e06-f5f1-4003-88fe-7ef9c21b2ca1",
   "metadata": {},
   "source": [
    "### Pemodelan Linear Regression"
   ]
  },
  {
   "cell_type": "code",
   "execution_count": 105,
   "id": "dbd2e48c-19a9-43bd-951e-777641df02ec",
   "metadata": {
    "scrolled": true
   },
   "outputs": [
    {
     "data": {
      "text/html": [
       "<style>#sk-container-id-3 {\n",
       "  /* Definition of color scheme common for light and dark mode */\n",
       "  --sklearn-color-text: #000;\n",
       "  --sklearn-color-text-muted: #666;\n",
       "  --sklearn-color-line: gray;\n",
       "  /* Definition of color scheme for unfitted estimators */\n",
       "  --sklearn-color-unfitted-level-0: #fff5e6;\n",
       "  --sklearn-color-unfitted-level-1: #f6e4d2;\n",
       "  --sklearn-color-unfitted-level-2: #ffe0b3;\n",
       "  --sklearn-color-unfitted-level-3: chocolate;\n",
       "  /* Definition of color scheme for fitted estimators */\n",
       "  --sklearn-color-fitted-level-0: #f0f8ff;\n",
       "  --sklearn-color-fitted-level-1: #d4ebff;\n",
       "  --sklearn-color-fitted-level-2: #b3dbfd;\n",
       "  --sklearn-color-fitted-level-3: cornflowerblue;\n",
       "\n",
       "  /* Specific color for light theme */\n",
       "  --sklearn-color-text-on-default-background: var(--sg-text-color, var(--theme-code-foreground, var(--jp-content-font-color1, black)));\n",
       "  --sklearn-color-background: var(--sg-background-color, var(--theme-background, var(--jp-layout-color0, white)));\n",
       "  --sklearn-color-border-box: var(--sg-text-color, var(--theme-code-foreground, var(--jp-content-font-color1, black)));\n",
       "  --sklearn-color-icon: #696969;\n",
       "\n",
       "  @media (prefers-color-scheme: dark) {\n",
       "    /* Redefinition of color scheme for dark theme */\n",
       "    --sklearn-color-text-on-default-background: var(--sg-text-color, var(--theme-code-foreground, var(--jp-content-font-color1, white)));\n",
       "    --sklearn-color-background: var(--sg-background-color, var(--theme-background, var(--jp-layout-color0, #111)));\n",
       "    --sklearn-color-border-box: var(--sg-text-color, var(--theme-code-foreground, var(--jp-content-font-color1, white)));\n",
       "    --sklearn-color-icon: #878787;\n",
       "  }\n",
       "}\n",
       "\n",
       "#sk-container-id-3 {\n",
       "  color: var(--sklearn-color-text);\n",
       "}\n",
       "\n",
       "#sk-container-id-3 pre {\n",
       "  padding: 0;\n",
       "}\n",
       "\n",
       "#sk-container-id-3 input.sk-hidden--visually {\n",
       "  border: 0;\n",
       "  clip: rect(1px 1px 1px 1px);\n",
       "  clip: rect(1px, 1px, 1px, 1px);\n",
       "  height: 1px;\n",
       "  margin: -1px;\n",
       "  overflow: hidden;\n",
       "  padding: 0;\n",
       "  position: absolute;\n",
       "  width: 1px;\n",
       "}\n",
       "\n",
       "#sk-container-id-3 div.sk-dashed-wrapped {\n",
       "  border: 1px dashed var(--sklearn-color-line);\n",
       "  margin: 0 0.4em 0.5em 0.4em;\n",
       "  box-sizing: border-box;\n",
       "  padding-bottom: 0.4em;\n",
       "  background-color: var(--sklearn-color-background);\n",
       "}\n",
       "\n",
       "#sk-container-id-3 div.sk-container {\n",
       "  /* jupyter's `normalize.less` sets `[hidden] { display: none; }`\n",
       "     but bootstrap.min.css set `[hidden] { display: none !important; }`\n",
       "     so we also need the `!important` here to be able to override the\n",
       "     default hidden behavior on the sphinx rendered scikit-learn.org.\n",
       "     See: https://github.com/scikit-learn/scikit-learn/issues/21755 */\n",
       "  display: inline-block !important;\n",
       "  position: relative;\n",
       "}\n",
       "\n",
       "#sk-container-id-3 div.sk-text-repr-fallback {\n",
       "  display: none;\n",
       "}\n",
       "\n",
       "div.sk-parallel-item,\n",
       "div.sk-serial,\n",
       "div.sk-item {\n",
       "  /* draw centered vertical line to link estimators */\n",
       "  background-image: linear-gradient(var(--sklearn-color-text-on-default-background), var(--sklearn-color-text-on-default-background));\n",
       "  background-size: 2px 100%;\n",
       "  background-repeat: no-repeat;\n",
       "  background-position: center center;\n",
       "}\n",
       "\n",
       "/* Parallel-specific style estimator block */\n",
       "\n",
       "#sk-container-id-3 div.sk-parallel-item::after {\n",
       "  content: \"\";\n",
       "  width: 100%;\n",
       "  border-bottom: 2px solid var(--sklearn-color-text-on-default-background);\n",
       "  flex-grow: 1;\n",
       "}\n",
       "\n",
       "#sk-container-id-3 div.sk-parallel {\n",
       "  display: flex;\n",
       "  align-items: stretch;\n",
       "  justify-content: center;\n",
       "  background-color: var(--sklearn-color-background);\n",
       "  position: relative;\n",
       "}\n",
       "\n",
       "#sk-container-id-3 div.sk-parallel-item {\n",
       "  display: flex;\n",
       "  flex-direction: column;\n",
       "}\n",
       "\n",
       "#sk-container-id-3 div.sk-parallel-item:first-child::after {\n",
       "  align-self: flex-end;\n",
       "  width: 50%;\n",
       "}\n",
       "\n",
       "#sk-container-id-3 div.sk-parallel-item:last-child::after {\n",
       "  align-self: flex-start;\n",
       "  width: 50%;\n",
       "}\n",
       "\n",
       "#sk-container-id-3 div.sk-parallel-item:only-child::after {\n",
       "  width: 0;\n",
       "}\n",
       "\n",
       "/* Serial-specific style estimator block */\n",
       "\n",
       "#sk-container-id-3 div.sk-serial {\n",
       "  display: flex;\n",
       "  flex-direction: column;\n",
       "  align-items: center;\n",
       "  background-color: var(--sklearn-color-background);\n",
       "  padding-right: 1em;\n",
       "  padding-left: 1em;\n",
       "}\n",
       "\n",
       "\n",
       "/* Toggleable style: style used for estimator/Pipeline/ColumnTransformer box that is\n",
       "clickable and can be expanded/collapsed.\n",
       "- Pipeline and ColumnTransformer use this feature and define the default style\n",
       "- Estimators will overwrite some part of the style using the `sk-estimator` class\n",
       "*/\n",
       "\n",
       "/* Pipeline and ColumnTransformer style (default) */\n",
       "\n",
       "#sk-container-id-3 div.sk-toggleable {\n",
       "  /* Default theme specific background. It is overwritten whether we have a\n",
       "  specific estimator or a Pipeline/ColumnTransformer */\n",
       "  background-color: var(--sklearn-color-background);\n",
       "}\n",
       "\n",
       "/* Toggleable label */\n",
       "#sk-container-id-3 label.sk-toggleable__label {\n",
       "  cursor: pointer;\n",
       "  display: flex;\n",
       "  width: 100%;\n",
       "  margin-bottom: 0;\n",
       "  padding: 0.5em;\n",
       "  box-sizing: border-box;\n",
       "  text-align: center;\n",
       "  align-items: start;\n",
       "  justify-content: space-between;\n",
       "  gap: 0.5em;\n",
       "}\n",
       "\n",
       "#sk-container-id-3 label.sk-toggleable__label .caption {\n",
       "  font-size: 0.6rem;\n",
       "  font-weight: lighter;\n",
       "  color: var(--sklearn-color-text-muted);\n",
       "}\n",
       "\n",
       "#sk-container-id-3 label.sk-toggleable__label-arrow:before {\n",
       "  /* Arrow on the left of the label */\n",
       "  content: \"▸\";\n",
       "  float: left;\n",
       "  margin-right: 0.25em;\n",
       "  color: var(--sklearn-color-icon);\n",
       "}\n",
       "\n",
       "#sk-container-id-3 label.sk-toggleable__label-arrow:hover:before {\n",
       "  color: var(--sklearn-color-text);\n",
       "}\n",
       "\n",
       "/* Toggleable content - dropdown */\n",
       "\n",
       "#sk-container-id-3 div.sk-toggleable__content {\n",
       "  max-height: 0;\n",
       "  max-width: 0;\n",
       "  overflow: hidden;\n",
       "  text-align: left;\n",
       "  /* unfitted */\n",
       "  background-color: var(--sklearn-color-unfitted-level-0);\n",
       "}\n",
       "\n",
       "#sk-container-id-3 div.sk-toggleable__content.fitted {\n",
       "  /* fitted */\n",
       "  background-color: var(--sklearn-color-fitted-level-0);\n",
       "}\n",
       "\n",
       "#sk-container-id-3 div.sk-toggleable__content pre {\n",
       "  margin: 0.2em;\n",
       "  border-radius: 0.25em;\n",
       "  color: var(--sklearn-color-text);\n",
       "  /* unfitted */\n",
       "  background-color: var(--sklearn-color-unfitted-level-0);\n",
       "}\n",
       "\n",
       "#sk-container-id-3 div.sk-toggleable__content.fitted pre {\n",
       "  /* unfitted */\n",
       "  background-color: var(--sklearn-color-fitted-level-0);\n",
       "}\n",
       "\n",
       "#sk-container-id-3 input.sk-toggleable__control:checked~div.sk-toggleable__content {\n",
       "  /* Expand drop-down */\n",
       "  max-height: 200px;\n",
       "  max-width: 100%;\n",
       "  overflow: auto;\n",
       "}\n",
       "\n",
       "#sk-container-id-3 input.sk-toggleable__control:checked~label.sk-toggleable__label-arrow:before {\n",
       "  content: \"▾\";\n",
       "}\n",
       "\n",
       "/* Pipeline/ColumnTransformer-specific style */\n",
       "\n",
       "#sk-container-id-3 div.sk-label input.sk-toggleable__control:checked~label.sk-toggleable__label {\n",
       "  color: var(--sklearn-color-text);\n",
       "  background-color: var(--sklearn-color-unfitted-level-2);\n",
       "}\n",
       "\n",
       "#sk-container-id-3 div.sk-label.fitted input.sk-toggleable__control:checked~label.sk-toggleable__label {\n",
       "  background-color: var(--sklearn-color-fitted-level-2);\n",
       "}\n",
       "\n",
       "/* Estimator-specific style */\n",
       "\n",
       "/* Colorize estimator box */\n",
       "#sk-container-id-3 div.sk-estimator input.sk-toggleable__control:checked~label.sk-toggleable__label {\n",
       "  /* unfitted */\n",
       "  background-color: var(--sklearn-color-unfitted-level-2);\n",
       "}\n",
       "\n",
       "#sk-container-id-3 div.sk-estimator.fitted input.sk-toggleable__control:checked~label.sk-toggleable__label {\n",
       "  /* fitted */\n",
       "  background-color: var(--sklearn-color-fitted-level-2);\n",
       "}\n",
       "\n",
       "#sk-container-id-3 div.sk-label label.sk-toggleable__label,\n",
       "#sk-container-id-3 div.sk-label label {\n",
       "  /* The background is the default theme color */\n",
       "  color: var(--sklearn-color-text-on-default-background);\n",
       "}\n",
       "\n",
       "/* On hover, darken the color of the background */\n",
       "#sk-container-id-3 div.sk-label:hover label.sk-toggleable__label {\n",
       "  color: var(--sklearn-color-text);\n",
       "  background-color: var(--sklearn-color-unfitted-level-2);\n",
       "}\n",
       "\n",
       "/* Label box, darken color on hover, fitted */\n",
       "#sk-container-id-3 div.sk-label.fitted:hover label.sk-toggleable__label.fitted {\n",
       "  color: var(--sklearn-color-text);\n",
       "  background-color: var(--sklearn-color-fitted-level-2);\n",
       "}\n",
       "\n",
       "/* Estimator label */\n",
       "\n",
       "#sk-container-id-3 div.sk-label label {\n",
       "  font-family: monospace;\n",
       "  font-weight: bold;\n",
       "  display: inline-block;\n",
       "  line-height: 1.2em;\n",
       "}\n",
       "\n",
       "#sk-container-id-3 div.sk-label-container {\n",
       "  text-align: center;\n",
       "}\n",
       "\n",
       "/* Estimator-specific */\n",
       "#sk-container-id-3 div.sk-estimator {\n",
       "  font-family: monospace;\n",
       "  border: 1px dotted var(--sklearn-color-border-box);\n",
       "  border-radius: 0.25em;\n",
       "  box-sizing: border-box;\n",
       "  margin-bottom: 0.5em;\n",
       "  /* unfitted */\n",
       "  background-color: var(--sklearn-color-unfitted-level-0);\n",
       "}\n",
       "\n",
       "#sk-container-id-3 div.sk-estimator.fitted {\n",
       "  /* fitted */\n",
       "  background-color: var(--sklearn-color-fitted-level-0);\n",
       "}\n",
       "\n",
       "/* on hover */\n",
       "#sk-container-id-3 div.sk-estimator:hover {\n",
       "  /* unfitted */\n",
       "  background-color: var(--sklearn-color-unfitted-level-2);\n",
       "}\n",
       "\n",
       "#sk-container-id-3 div.sk-estimator.fitted:hover {\n",
       "  /* fitted */\n",
       "  background-color: var(--sklearn-color-fitted-level-2);\n",
       "}\n",
       "\n",
       "/* Specification for estimator info (e.g. \"i\" and \"?\") */\n",
       "\n",
       "/* Common style for \"i\" and \"?\" */\n",
       "\n",
       ".sk-estimator-doc-link,\n",
       "a:link.sk-estimator-doc-link,\n",
       "a:visited.sk-estimator-doc-link {\n",
       "  float: right;\n",
       "  font-size: smaller;\n",
       "  line-height: 1em;\n",
       "  font-family: monospace;\n",
       "  background-color: var(--sklearn-color-background);\n",
       "  border-radius: 1em;\n",
       "  height: 1em;\n",
       "  width: 1em;\n",
       "  text-decoration: none !important;\n",
       "  margin-left: 0.5em;\n",
       "  text-align: center;\n",
       "  /* unfitted */\n",
       "  border: var(--sklearn-color-unfitted-level-1) 1pt solid;\n",
       "  color: var(--sklearn-color-unfitted-level-1);\n",
       "}\n",
       "\n",
       ".sk-estimator-doc-link.fitted,\n",
       "a:link.sk-estimator-doc-link.fitted,\n",
       "a:visited.sk-estimator-doc-link.fitted {\n",
       "  /* fitted */\n",
       "  border: var(--sklearn-color-fitted-level-1) 1pt solid;\n",
       "  color: var(--sklearn-color-fitted-level-1);\n",
       "}\n",
       "\n",
       "/* On hover */\n",
       "div.sk-estimator:hover .sk-estimator-doc-link:hover,\n",
       ".sk-estimator-doc-link:hover,\n",
       "div.sk-label-container:hover .sk-estimator-doc-link:hover,\n",
       ".sk-estimator-doc-link:hover {\n",
       "  /* unfitted */\n",
       "  background-color: var(--sklearn-color-unfitted-level-3);\n",
       "  color: var(--sklearn-color-background);\n",
       "  text-decoration: none;\n",
       "}\n",
       "\n",
       "div.sk-estimator.fitted:hover .sk-estimator-doc-link.fitted:hover,\n",
       ".sk-estimator-doc-link.fitted:hover,\n",
       "div.sk-label-container:hover .sk-estimator-doc-link.fitted:hover,\n",
       ".sk-estimator-doc-link.fitted:hover {\n",
       "  /* fitted */\n",
       "  background-color: var(--sklearn-color-fitted-level-3);\n",
       "  color: var(--sklearn-color-background);\n",
       "  text-decoration: none;\n",
       "}\n",
       "\n",
       "/* Span, style for the box shown on hovering the info icon */\n",
       ".sk-estimator-doc-link span {\n",
       "  display: none;\n",
       "  z-index: 9999;\n",
       "  position: relative;\n",
       "  font-weight: normal;\n",
       "  right: .2ex;\n",
       "  padding: .5ex;\n",
       "  margin: .5ex;\n",
       "  width: min-content;\n",
       "  min-width: 20ex;\n",
       "  max-width: 50ex;\n",
       "  color: var(--sklearn-color-text);\n",
       "  box-shadow: 2pt 2pt 4pt #999;\n",
       "  /* unfitted */\n",
       "  background: var(--sklearn-color-unfitted-level-0);\n",
       "  border: .5pt solid var(--sklearn-color-unfitted-level-3);\n",
       "}\n",
       "\n",
       ".sk-estimator-doc-link.fitted span {\n",
       "  /* fitted */\n",
       "  background: var(--sklearn-color-fitted-level-0);\n",
       "  border: var(--sklearn-color-fitted-level-3);\n",
       "}\n",
       "\n",
       ".sk-estimator-doc-link:hover span {\n",
       "  display: block;\n",
       "}\n",
       "\n",
       "/* \"?\"-specific style due to the `<a>` HTML tag */\n",
       "\n",
       "#sk-container-id-3 a.estimator_doc_link {\n",
       "  float: right;\n",
       "  font-size: 1rem;\n",
       "  line-height: 1em;\n",
       "  font-family: monospace;\n",
       "  background-color: var(--sklearn-color-background);\n",
       "  border-radius: 1rem;\n",
       "  height: 1rem;\n",
       "  width: 1rem;\n",
       "  text-decoration: none;\n",
       "  /* unfitted */\n",
       "  color: var(--sklearn-color-unfitted-level-1);\n",
       "  border: var(--sklearn-color-unfitted-level-1) 1pt solid;\n",
       "}\n",
       "\n",
       "#sk-container-id-3 a.estimator_doc_link.fitted {\n",
       "  /* fitted */\n",
       "  border: var(--sklearn-color-fitted-level-1) 1pt solid;\n",
       "  color: var(--sklearn-color-fitted-level-1);\n",
       "}\n",
       "\n",
       "/* On hover */\n",
       "#sk-container-id-3 a.estimator_doc_link:hover {\n",
       "  /* unfitted */\n",
       "  background-color: var(--sklearn-color-unfitted-level-3);\n",
       "  color: var(--sklearn-color-background);\n",
       "  text-decoration: none;\n",
       "}\n",
       "\n",
       "#sk-container-id-3 a.estimator_doc_link.fitted:hover {\n",
       "  /* fitted */\n",
       "  background-color: var(--sklearn-color-fitted-level-3);\n",
       "}\n",
       "</style><div id=\"sk-container-id-3\" class=\"sk-top-container\"><div class=\"sk-text-repr-fallback\"><pre>Pipeline(steps=[(&#x27;transform&#x27;,\n",
       "                 ColumnTransformer(remainder=&#x27;passthrough&#x27;,\n",
       "                                   transformers=[(&#x27;coder&#x27;,\n",
       "                                                  OneHotEncoder(drop=&#x27;first&#x27;,\n",
       "                                                                handle_unknown=&#x27;ignore&#x27;,\n",
       "                                                                sparse_output=False),\n",
       "                                                  [&#x27;model&#x27;, &#x27;bahan&#x27;,\n",
       "                                                   &#x27;ornamen&#x27;])])),\n",
       "                (&#x27;model&#x27;, MultiOutputRegressor(estimator=LinearRegression()))])</pre><b>In a Jupyter environment, please rerun this cell to show the HTML representation or trust the notebook. <br />On GitHub, the HTML representation is unable to render, please try loading this page with nbviewer.org.</b></div><div class=\"sk-container\" hidden><div class=\"sk-item sk-dashed-wrapped\"><div class=\"sk-label-container\"><div class=\"sk-label fitted sk-toggleable\"><input class=\"sk-toggleable__control sk-hidden--visually\" id=\"sk-estimator-id-19\" type=\"checkbox\" ><label for=\"sk-estimator-id-19\" class=\"sk-toggleable__label fitted sk-toggleable__label-arrow\"><div><div>Pipeline</div></div><div><a class=\"sk-estimator-doc-link fitted\" rel=\"noreferrer\" target=\"_blank\" href=\"https://scikit-learn.org/1.6/modules/generated/sklearn.pipeline.Pipeline.html\">?<span>Documentation for Pipeline</span></a><span class=\"sk-estimator-doc-link fitted\">i<span>Fitted</span></span></div></label><div class=\"sk-toggleable__content fitted\"><pre>Pipeline(steps=[(&#x27;transform&#x27;,\n",
       "                 ColumnTransformer(remainder=&#x27;passthrough&#x27;,\n",
       "                                   transformers=[(&#x27;coder&#x27;,\n",
       "                                                  OneHotEncoder(drop=&#x27;first&#x27;,\n",
       "                                                                handle_unknown=&#x27;ignore&#x27;,\n",
       "                                                                sparse_output=False),\n",
       "                                                  [&#x27;model&#x27;, &#x27;bahan&#x27;,\n",
       "                                                   &#x27;ornamen&#x27;])])),\n",
       "                (&#x27;model&#x27;, MultiOutputRegressor(estimator=LinearRegression()))])</pre></div> </div></div><div class=\"sk-serial\"><div class=\"sk-item sk-dashed-wrapped\"><div class=\"sk-label-container\"><div class=\"sk-label fitted sk-toggleable\"><input class=\"sk-toggleable__control sk-hidden--visually\" id=\"sk-estimator-id-20\" type=\"checkbox\" ><label for=\"sk-estimator-id-20\" class=\"sk-toggleable__label fitted sk-toggleable__label-arrow\"><div><div>transform: ColumnTransformer</div></div><div><a class=\"sk-estimator-doc-link fitted\" rel=\"noreferrer\" target=\"_blank\" href=\"https://scikit-learn.org/1.6/modules/generated/sklearn.compose.ColumnTransformer.html\">?<span>Documentation for transform: ColumnTransformer</span></a></div></label><div class=\"sk-toggleable__content fitted\"><pre>ColumnTransformer(remainder=&#x27;passthrough&#x27;,\n",
       "                  transformers=[(&#x27;coder&#x27;,\n",
       "                                 OneHotEncoder(drop=&#x27;first&#x27;,\n",
       "                                               handle_unknown=&#x27;ignore&#x27;,\n",
       "                                               sparse_output=False),\n",
       "                                 [&#x27;model&#x27;, &#x27;bahan&#x27;, &#x27;ornamen&#x27;])])</pre></div> </div></div><div class=\"sk-parallel\"><div class=\"sk-parallel-item\"><div class=\"sk-item\"><div class=\"sk-label-container\"><div class=\"sk-label fitted sk-toggleable\"><input class=\"sk-toggleable__control sk-hidden--visually\" id=\"sk-estimator-id-21\" type=\"checkbox\" ><label for=\"sk-estimator-id-21\" class=\"sk-toggleable__label fitted sk-toggleable__label-arrow\"><div><div>coder</div></div></label><div class=\"sk-toggleable__content fitted\"><pre>[&#x27;model&#x27;, &#x27;bahan&#x27;, &#x27;ornamen&#x27;]</pre></div> </div></div><div class=\"sk-serial\"><div class=\"sk-item\"><div class=\"sk-estimator fitted sk-toggleable\"><input class=\"sk-toggleable__control sk-hidden--visually\" id=\"sk-estimator-id-22\" type=\"checkbox\" ><label for=\"sk-estimator-id-22\" class=\"sk-toggleable__label fitted sk-toggleable__label-arrow\"><div><div>OneHotEncoder</div></div><div><a class=\"sk-estimator-doc-link fitted\" rel=\"noreferrer\" target=\"_blank\" href=\"https://scikit-learn.org/1.6/modules/generated/sklearn.preprocessing.OneHotEncoder.html\">?<span>Documentation for OneHotEncoder</span></a></div></label><div class=\"sk-toggleable__content fitted\"><pre>OneHotEncoder(drop=&#x27;first&#x27;, handle_unknown=&#x27;ignore&#x27;, sparse_output=False)</pre></div> </div></div></div></div></div><div class=\"sk-parallel-item\"><div class=\"sk-item\"><div class=\"sk-label-container\"><div class=\"sk-label fitted sk-toggleable\"><input class=\"sk-toggleable__control sk-hidden--visually\" id=\"sk-estimator-id-23\" type=\"checkbox\" ><label for=\"sk-estimator-id-23\" class=\"sk-toggleable__label fitted sk-toggleable__label-arrow\"><div><div>remainder</div></div></label><div class=\"sk-toggleable__content fitted\"><pre>[]</pre></div> </div></div><div class=\"sk-serial\"><div class=\"sk-item\"><div class=\"sk-estimator fitted sk-toggleable\"><input class=\"sk-toggleable__control sk-hidden--visually\" id=\"sk-estimator-id-24\" type=\"checkbox\" ><label for=\"sk-estimator-id-24\" class=\"sk-toggleable__label fitted sk-toggleable__label-arrow\"><div><div>passthrough</div></div></label><div class=\"sk-toggleable__content fitted\"><pre>passthrough</pre></div> </div></div></div></div></div></div></div><div class=\"sk-item sk-dashed-wrapped\"><div class=\"sk-label-container\"><div class=\"sk-label fitted sk-toggleable\"><input class=\"sk-toggleable__control sk-hidden--visually\" id=\"sk-estimator-id-25\" type=\"checkbox\" ><label for=\"sk-estimator-id-25\" class=\"sk-toggleable__label fitted sk-toggleable__label-arrow\"><div><div>model: MultiOutputRegressor</div></div><div><a class=\"sk-estimator-doc-link fitted\" rel=\"noreferrer\" target=\"_blank\" href=\"https://scikit-learn.org/1.6/modules/generated/sklearn.multioutput.MultiOutputRegressor.html\">?<span>Documentation for model: MultiOutputRegressor</span></a></div></label><div class=\"sk-toggleable__content fitted\"><pre>MultiOutputRegressor(estimator=LinearRegression())</pre></div> </div></div><div class=\"sk-parallel\"><div class=\"sk-parallel-item\"><div class=\"sk-item\"><div class=\"sk-label-container\"><div class=\"sk-label fitted sk-toggleable\"><input class=\"sk-toggleable__control sk-hidden--visually\" id=\"sk-estimator-id-26\" type=\"checkbox\" ><label for=\"sk-estimator-id-26\" class=\"sk-toggleable__label fitted sk-toggleable__label-arrow\"><div><div>estimator: LinearRegression</div></div></label><div class=\"sk-toggleable__content fitted\"><pre>LinearRegression()</pre></div> </div></div><div class=\"sk-serial\"><div class=\"sk-item\"><div class=\"sk-estimator fitted sk-toggleable\"><input class=\"sk-toggleable__control sk-hidden--visually\" id=\"sk-estimator-id-27\" type=\"checkbox\" ><label for=\"sk-estimator-id-27\" class=\"sk-toggleable__label fitted sk-toggleable__label-arrow\"><div><div>LinearRegression</div></div><div><a class=\"sk-estimator-doc-link fitted\" rel=\"noreferrer\" target=\"_blank\" href=\"https://scikit-learn.org/1.6/modules/generated/sklearn.linear_model.LinearRegression.html\">?<span>Documentation for LinearRegression</span></a></div></label><div class=\"sk-toggleable__content fitted\"><pre>LinearRegression()</pre></div> </div></div></div></div></div></div></div></div></div></div></div>"
      ],
      "text/plain": [
       "Pipeline(steps=[('transform',\n",
       "                 ColumnTransformer(remainder='passthrough',\n",
       "                                   transformers=[('coder',\n",
       "                                                  OneHotEncoder(drop='first',\n",
       "                                                                handle_unknown='ignore',\n",
       "                                                                sparse_output=False),\n",
       "                                                  ['model', 'bahan',\n",
       "                                                   'ornamen'])])),\n",
       "                ('model', MultiOutputRegressor(estimator=LinearRegression()))])"
      ]
     },
     "execution_count": 105,
     "metadata": {},
     "output_type": "execute_result"
    }
   ],
   "source": [
    "# Linear Regression\n",
    "lr = MultiOutputRegressor(LinearRegression(fit_intercept=True))\n",
    "\n",
    "pipe_lr = Pipeline([\n",
    "    ('transform', trans),\n",
    "    ('model', lr)\n",
    "])\n",
    "\n",
    "pipe_lr.fit(X_train, y_train)"
   ]
  },
  {
   "cell_type": "code",
   "execution_count": 106,
   "id": "a84c52ba-249d-49fd-93ff-79cbf01c9633",
   "metadata": {},
   "outputs": [
    {
     "name": "stdout",
     "output_type": "stream",
     "text": [
      "Target 1: Intercept = 26.474258199500998, Coefficients = [  3.22005027   1.34551017   5.28707752   3.65196508  -2.24046438\n",
      "  -0.59107503  -0.97065841   0.10007338  -7.6931019   -3.24258398\n",
      " -11.53362522 -19.52526899 -11.51188811  -7.50927866   0.33236175\n",
      "  -8.31801264  -4.00562517   2.63679346  -1.9864234  -13.55742463]\n",
      "Target 2: Intercept = 653652.6677779623, Coefficients = [ 157242.28567958  103138.14009528  223654.47149435  175366.27467466\n",
      "  -11475.78822987   -5905.53266369    -663.58992529   62451.08530069\n",
      " -358757.98503965 -224827.04933467 -449615.44255668 -451547.20355883\n",
      " -444857.61509622 -414548.47409391   -6289.23805522 -338295.87787246\n",
      " -198849.13907279   56911.24651059 -119797.06264485 -441789.59658891]\n"
     ]
    }
   ],
   "source": [
    "# Output model\n",
    "for i, est in enumerate(pipe_lr.named_steps['model'].estimators_):\n",
    "    print(f\"Target {i+1}: Intercept = {est.intercept_}, Coefficients = {est.coef_}\")"
   ]
  },
  {
   "cell_type": "markdown",
   "id": "d4ff28dc-14a8-48a8-80fd-1ec4ace3a08e",
   "metadata": {},
   "source": [
    "### Evaluasi"
   ]
  },
  {
   "cell_type": "code",
   "execution_count": 107,
   "id": "488c2df6-5b7a-4b7e-8fa6-133ce7e71457",
   "metadata": {},
   "outputs": [
    {
     "name": "stdout",
     "output_type": "stream",
     "text": [
      "Linear Regression\n",
      "R² Waktu Pengerjaan: 0.7917 | RMSE: 3.6937\n",
      "R² Harga Jasa:       0.9208 | RMSE: 58,194.23\n"
     ]
    }
   ],
   "source": [
    "# Linear Regression\n",
    "y_pred_lr = pipe_lr.predict(X_test)\n",
    "\n",
    "r2_lr = r2_score(y_test, y_pred_lr, multioutput='raw_values')\n",
    "rmse_lr = np.sqrt(mean_squared_error(y_test, y_pred_lr, multioutput='raw_values'))\n",
    "\n",
    "print(\"Linear Regression\")\n",
    "print(f\"R² Waktu Pengerjaan: {r2_lr[0]:.4f} | RMSE: {rmse_lr[0]:,.4f}\")\n",
    "print(f\"R² Harga Jasa:       {r2_lr[1]:.4f} | RMSE: {rmse_lr[1]:,.2f}\")"
   ]
  },
  {
   "cell_type": "code",
   "execution_count": 108,
   "id": "df1255c9-5546-45e1-9a43-265086ffc240",
   "metadata": {},
   "outputs": [
    {
     "name": "stdout",
     "output_type": "stream",
     "text": [
      "R² (avg):  0.8563  |  RMSE (avg): 41149.5318\n"
     ]
    }
   ],
   "source": [
    "r2_avg   = r2_score(y_test, y_pred_lr, multioutput='uniform_average')\n",
    "rmse_avg = np.sqrt(mean_squared_error( y_test, y_pred_lr))\n",
    "\n",
    "print(f\"R² (avg):  {r2_avg:.4f}  |  RMSE (avg): {rmse_avg:.4f}\")"
   ]
  },
  {
   "cell_type": "code",
   "execution_count": 109,
   "id": "30a54c69-adde-4ae0-bc43-60f5de00abc9",
   "metadata": {},
   "outputs": [
    {
     "name": "stdout",
     "output_type": "stream",
     "text": [
      "             model  bahan           ornamen  Aktual Waktu  Aktual Harga  Prediksi Waktu  Prediksi Harga\n",
      "Kebaya Tradisional  Satin Payet Aksen Kecil            28        400000              19         412,589\n",
      "              Blus  Sifon              None             8        150000               6         201,442\n",
      "        Maxi Dress  Satin             Renda            18        425000              18         429,612\n",
      "        Midi Dress  Katun              None             7        400000               8         365,996\n",
      "        Midi Dress Brokat Payet Motif Besar            35        950000              33         885,930\n"
     ]
    }
   ],
   "source": [
    "# Pilih 5 baris acak dan buat prediksi\n",
    "idx = X_test.sample(5, random_state=42).index\n",
    "preds = pipe_lr.predict(X_test.loc[idx])\n",
    "\n",
    "# Gabungkan hasil aktual dan prediksi\n",
    "comparison = X_test.loc[idx].copy()\n",
    "comparison['Aktual Waktu'] = y_test.loc[idx, 'waktu_pengerjaan']\n",
    "comparison['Aktual Harga'] = y_test.loc[idx, 'harga_jasa']\n",
    "comparison['Prediksi Waktu'] = preds[:, 0]\n",
    "comparison['Prediksi Harga'] = preds[:, 1]\n",
    "\n",
    "# Tampilkan hasil dengan format tanpa desimal\n",
    "print(comparison.to_string(index=False, float_format='{:,.0f}'.format))"
   ]
  },
  {
   "cell_type": "code",
   "execution_count": 110,
   "id": "393f00d8-8023-4ff9-922c-9ec94112c74a",
   "metadata": {},
   "outputs": [],
   "source": [
    "y_test_1 = y_test['waktu_pengerjaan'].values\n",
    "y_test_2 = y_test['harga_jasa'].values\n",
    "\n",
    "y_pred_1 = y_pred_lr[:, 0]\n",
    "y_pred_2 = y_pred_lr[:, 1]"
   ]
  },
  {
   "cell_type": "code",
   "execution_count": 111,
   "id": "e9593391-1cc2-4317-b571-0d136d31ba2b",
   "metadata": {},
   "outputs": [
    {
     "data": {
      "image/png": "[encoded data removed]",
      "text/plain": [
       "<Figure size 1400x600 with 2 Axes>"
      ]
     },
     "metadata": {},
     "output_type": "display_data"
    }
   ],
   "source": [
    "fig, axes = plt.subplots(1, 2, figsize=(14, 6))\n",
    "\n",
    "# Plot 1: waktu_pengerjaan\n",
    "axes[0].scatter(y_test_1, y_pred_1, alpha=0.7)\n",
    "axes[0].set_xlabel('Actual Waktu Pengerjaan')\n",
    "axes[0].set_ylabel('Predicted Waktu Pengerjaan')\n",
    "axes[0].set_title('Prediksi vs Aktual Waktu Pengerjaan')\n",
    "axes[0].plot([y_test_1.min(), y_test_1.max()], [y_test_1.min(), y_test_1.max()], 'r--')\n",
    "\n",
    "# Plot 2: harga_jasa\n",
    "axes[1].scatter(y_test_2, y_pred_2, alpha=0.7)\n",
    "axes[1].set_xlabel('Actual Harga Jasa')\n",
    "axes[1].set_ylabel('Predicted Harga Jasa')\n",
    "axes[1].set_title('Prediksi vs Aktual Harga Jasa')\n",
    "axes[1].plot([y_test_2.min(), y_test_2.max()], [y_test_2.min(), y_test_2.max()], 'r--')\n",
    "\n",
    "plt.tight_layout()\n",
    "plt.show()"
   ]
  },
  {
   "cell_type": "markdown",
   "id": "cdf592a7-b621-4235-b025-2b90b3a1d9d8",
   "metadata": {},
   "source": [
    "### Save Model"
   ]
  },
  {
   "cell_type": "code",
   "execution_count": 112,
   "id": "fa6c04d6-7b9a-4c2e-a674-50c5841b6d48",
   "metadata": {},
   "outputs": [
    {
     "data": {
      "text/plain": [
       "['../models/model_akhir.pkl']"
      ]
     },
     "execution_count": 112,
     "metadata": {},
     "output_type": "execute_result"
    }
   ],
   "source": [
    "joblib.dump(pipe_lr, '../models/model_akhir.pkl')"
   ]
  }
 ],
 "metadata": {
  "kernelspec": {
   "display_name": "Python 3",
   "language": "python",
   "name": "python3"
  },
  "language_info": {
   "codemirror_mode": {
    "name": "ipython",
    "version": 3
   },
   "file_extension": ".py",
   "mimetype": "text/x-python",
   "name": "python",
   "nbconvert_exporter": "python",
   "pygments_lexer": "ipython3",
   "version": "3.11.9"
  }
 },
 "nbformat": 4,
 "nbformat_minor": 5
}
