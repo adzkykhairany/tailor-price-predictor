{
 "cells": [
  {
   "cell_type": "markdown",
   "id": "22a3b038-b664-4844-af17-80fb4d20a5c9",
   "metadata": {},
   "source": [
    "### Library"
   ]
  },
  {
   "cell_type": "code",
   "execution_count": 43,
   "id": "a32cf106-94d7-492e-a659-5b209cd916d0",
   "metadata": {},
   "outputs": [],
   "source": [
    "import re\n",
    "import glob\n",
    "import numpy as np\n",
    "import pandas as pd\n",
    "import joblib\n",
    "from sklearn.model_selection import train_test_split\n",
    "from sklearn.compose import ColumnTransformer\n",
    "from sklearn.preprocessing import OneHotEncoder\n",
    "from sklearn.linear_model import LinearRegression\n",
    "from sklearn.neighbors import KNeighborsRegressor\n",
    "from sklearn.ensemble import RandomForestRegressor, GradientBoostingRegressor\n",
    "from sklearn.pipeline import Pipeline\n",
    "from sklearn.metrics import mean_absolute_error, mean_squared_error, r2_score"
   ]
  },
  {
   "cell_type": "markdown",
   "id": "c89ee4bf-e392-4fa3-8f00-50b298afb20c",
   "metadata": {},
   "source": [
    "### Dataset"
   ]
  },
  {
   "cell_type": "code",
   "execution_count": 44,
   "id": "c01a1df9-c278-4ac8-a4f2-8cf051899c38",
   "metadata": {
    "scrolled": true
   },
   "outputs": [
    {
     "name": "stdout",
     "output_type": "stream",
     "text": [
      "✅ Successfully combined 8 CSV files\n"
     ]
    }
   ],
   "source": [
    "file_paths = glob.glob('D:/ta_project/data/raw/*.csv')\n",
    "if not file_paths:\n",
    "    raise FileNotFoundError(\"No CSV files found in the specified directory.\")\n",
    "\n",
    "data = pd.concat([pd.read_csv(file) for file in file_paths], ignore_index=True)\n",
    "data.to_csv('D:/ta_project/data/processed/combined_data.csv', index=False)\n",
    "print(f\"✅ Successfully combined {len(file_paths)} CSV files\")"
   ]
  },
  {
   "cell_type": "code",
   "execution_count": 45,
   "id": "e81a5335-aa03-4fa4-9b87-bb129f2bffef",
   "metadata": {},
   "outputs": [
    {
     "ename": "FileNotFoundError",
     "evalue": "[Errno 2] No such file or directory: 'D:ta_project/data/processed/combined_data.csv'",
     "output_type": "error",
     "traceback": [
      "\u001b[31m---------------------------------------------------------------------------\u001b[39m",
      "\u001b[31mFileNotFoundError\u001b[39m                         Traceback (most recent call last)",
      "\u001b[36mCell\u001b[39m\u001b[36m \u001b[39m\u001b[32mIn[45]\u001b[39m\u001b[32m, line 1\u001b[39m\n\u001b[32m----> \u001b[39m\u001b[32m1\u001b[39m df = \u001b[43mpd\u001b[49m\u001b[43m.\u001b[49m\u001b[43mread_csv\u001b[49m\u001b[43m(\u001b[49m\u001b[33;43m'\u001b[39;49m\u001b[33;43mD:ta_project/data/processed/combined_data.csv\u001b[39;49m\u001b[33;43m'\u001b[39;49m\u001b[43m)\u001b[49m\n\u001b[32m      2\u001b[39m df.head(\u001b[32m5\u001b[39m)\n",
      "\u001b[36mFile \u001b[39m\u001b[32mc:\\Users\\Kayaki\\AppData\\Local\\Programs\\Python\\Python311\\Lib\\site-packages\\pandas\\io\\parsers\\readers.py:1026\u001b[39m, in \u001b[36mread_csv\u001b[39m\u001b[34m(filepath_or_buffer, sep, delimiter, header, names, index_col, usecols, dtype, engine, converters, true_values, false_values, skipinitialspace, skiprows, skipfooter, nrows, na_values, keep_default_na, na_filter, verbose, skip_blank_lines, parse_dates, infer_datetime_format, keep_date_col, date_parser, date_format, dayfirst, cache_dates, iterator, chunksize, compression, thousands, decimal, lineterminator, quotechar, quoting, doublequote, escapechar, comment, encoding, encoding_errors, dialect, on_bad_lines, delim_whitespace, low_memory, memory_map, float_precision, storage_options, dtype_backend)\u001b[39m\n\u001b[32m   1013\u001b[39m kwds_defaults = _refine_defaults_read(\n\u001b[32m   1014\u001b[39m     dialect,\n\u001b[32m   1015\u001b[39m     delimiter,\n\u001b[32m   (...)\u001b[39m\u001b[32m   1022\u001b[39m     dtype_backend=dtype_backend,\n\u001b[32m   1023\u001b[39m )\n\u001b[32m   1024\u001b[39m kwds.update(kwds_defaults)\n\u001b[32m-> \u001b[39m\u001b[32m1026\u001b[39m \u001b[38;5;28;01mreturn\u001b[39;00m \u001b[43m_read\u001b[49m\u001b[43m(\u001b[49m\u001b[43mfilepath_or_buffer\u001b[49m\u001b[43m,\u001b[49m\u001b[43m \u001b[49m\u001b[43mkwds\u001b[49m\u001b[43m)\u001b[49m\n",
      "\u001b[36mFile \u001b[39m\u001b[32mc:\\Users\\Kayaki\\AppData\\Local\\Programs\\Python\\Python311\\Lib\\site-packages\\pandas\\io\\parsers\\readers.py:620\u001b[39m, in \u001b[36m_read\u001b[39m\u001b[34m(filepath_or_buffer, kwds)\u001b[39m\n\u001b[32m    617\u001b[39m _validate_names(kwds.get(\u001b[33m\"\u001b[39m\u001b[33mnames\u001b[39m\u001b[33m\"\u001b[39m, \u001b[38;5;28;01mNone\u001b[39;00m))\n\u001b[32m    619\u001b[39m \u001b[38;5;66;03m# Create the parser.\u001b[39;00m\n\u001b[32m--> \u001b[39m\u001b[32m620\u001b[39m parser = \u001b[43mTextFileReader\u001b[49m\u001b[43m(\u001b[49m\u001b[43mfilepath_or_buffer\u001b[49m\u001b[43m,\u001b[49m\u001b[43m \u001b[49m\u001b[43m*\u001b[49m\u001b[43m*\u001b[49m\u001b[43mkwds\u001b[49m\u001b[43m)\u001b[49m\n\u001b[32m    622\u001b[39m \u001b[38;5;28;01mif\u001b[39;00m chunksize \u001b[38;5;129;01mor\u001b[39;00m iterator:\n\u001b[32m    623\u001b[39m     \u001b[38;5;28;01mreturn\u001b[39;00m parser\n",
      "\u001b[36mFile \u001b[39m\u001b[32mc:\\Users\\Kayaki\\AppData\\Local\\Programs\\Python\\Python311\\Lib\\site-packages\\pandas\\io\\parsers\\readers.py:1620\u001b[39m, in \u001b[36mTextFileReader.__init__\u001b[39m\u001b[34m(self, f, engine, **kwds)\u001b[39m\n\u001b[32m   1617\u001b[39m     \u001b[38;5;28mself\u001b[39m.options[\u001b[33m\"\u001b[39m\u001b[33mhas_index_names\u001b[39m\u001b[33m\"\u001b[39m] = kwds[\u001b[33m\"\u001b[39m\u001b[33mhas_index_names\u001b[39m\u001b[33m\"\u001b[39m]\n\u001b[32m   1619\u001b[39m \u001b[38;5;28mself\u001b[39m.handles: IOHandles | \u001b[38;5;28;01mNone\u001b[39;00m = \u001b[38;5;28;01mNone\u001b[39;00m\n\u001b[32m-> \u001b[39m\u001b[32m1620\u001b[39m \u001b[38;5;28mself\u001b[39m._engine = \u001b[38;5;28;43mself\u001b[39;49m\u001b[43m.\u001b[49m\u001b[43m_make_engine\u001b[49m\u001b[43m(\u001b[49m\u001b[43mf\u001b[49m\u001b[43m,\u001b[49m\u001b[43m \u001b[49m\u001b[38;5;28;43mself\u001b[39;49m\u001b[43m.\u001b[49m\u001b[43mengine\u001b[49m\u001b[43m)\u001b[49m\n",
      "\u001b[36mFile \u001b[39m\u001b[32mc:\\Users\\Kayaki\\AppData\\Local\\Programs\\Python\\Python311\\Lib\\site-packages\\pandas\\io\\parsers\\readers.py:1880\u001b[39m, in \u001b[36mTextFileReader._make_engine\u001b[39m\u001b[34m(self, f, engine)\u001b[39m\n\u001b[32m   1878\u001b[39m     \u001b[38;5;28;01mif\u001b[39;00m \u001b[33m\"\u001b[39m\u001b[33mb\u001b[39m\u001b[33m\"\u001b[39m \u001b[38;5;129;01mnot\u001b[39;00m \u001b[38;5;129;01min\u001b[39;00m mode:\n\u001b[32m   1879\u001b[39m         mode += \u001b[33m\"\u001b[39m\u001b[33mb\u001b[39m\u001b[33m\"\u001b[39m\n\u001b[32m-> \u001b[39m\u001b[32m1880\u001b[39m \u001b[38;5;28mself\u001b[39m.handles = \u001b[43mget_handle\u001b[49m\u001b[43m(\u001b[49m\n\u001b[32m   1881\u001b[39m \u001b[43m    \u001b[49m\u001b[43mf\u001b[49m\u001b[43m,\u001b[49m\n\u001b[32m   1882\u001b[39m \u001b[43m    \u001b[49m\u001b[43mmode\u001b[49m\u001b[43m,\u001b[49m\n\u001b[32m   1883\u001b[39m \u001b[43m    \u001b[49m\u001b[43mencoding\u001b[49m\u001b[43m=\u001b[49m\u001b[38;5;28;43mself\u001b[39;49m\u001b[43m.\u001b[49m\u001b[43moptions\u001b[49m\u001b[43m.\u001b[49m\u001b[43mget\u001b[49m\u001b[43m(\u001b[49m\u001b[33;43m\"\u001b[39;49m\u001b[33;43mencoding\u001b[39;49m\u001b[33;43m\"\u001b[39;49m\u001b[43m,\u001b[49m\u001b[43m \u001b[49m\u001b[38;5;28;43;01mNone\u001b[39;49;00m\u001b[43m)\u001b[49m\u001b[43m,\u001b[49m\n\u001b[32m   1884\u001b[39m \u001b[43m    \u001b[49m\u001b[43mcompression\u001b[49m\u001b[43m=\u001b[49m\u001b[38;5;28;43mself\u001b[39;49m\u001b[43m.\u001b[49m\u001b[43moptions\u001b[49m\u001b[43m.\u001b[49m\u001b[43mget\u001b[49m\u001b[43m(\u001b[49m\u001b[33;43m\"\u001b[39;49m\u001b[33;43mcompression\u001b[39;49m\u001b[33;43m\"\u001b[39;49m\u001b[43m,\u001b[49m\u001b[43m \u001b[49m\u001b[38;5;28;43;01mNone\u001b[39;49;00m\u001b[43m)\u001b[49m\u001b[43m,\u001b[49m\n\u001b[32m   1885\u001b[39m \u001b[43m    \u001b[49m\u001b[43mmemory_map\u001b[49m\u001b[43m=\u001b[49m\u001b[38;5;28;43mself\u001b[39;49m\u001b[43m.\u001b[49m\u001b[43moptions\u001b[49m\u001b[43m.\u001b[49m\u001b[43mget\u001b[49m\u001b[43m(\u001b[49m\u001b[33;43m\"\u001b[39;49m\u001b[33;43mmemory_map\u001b[39;49m\u001b[33;43m\"\u001b[39;49m\u001b[43m,\u001b[49m\u001b[43m \u001b[49m\u001b[38;5;28;43;01mFalse\u001b[39;49;00m\u001b[43m)\u001b[49m\u001b[43m,\u001b[49m\n\u001b[32m   1886\u001b[39m \u001b[43m    \u001b[49m\u001b[43mis_text\u001b[49m\u001b[43m=\u001b[49m\u001b[43mis_text\u001b[49m\u001b[43m,\u001b[49m\n\u001b[32m   1887\u001b[39m \u001b[43m    \u001b[49m\u001b[43merrors\u001b[49m\u001b[43m=\u001b[49m\u001b[38;5;28;43mself\u001b[39;49m\u001b[43m.\u001b[49m\u001b[43moptions\u001b[49m\u001b[43m.\u001b[49m\u001b[43mget\u001b[49m\u001b[43m(\u001b[49m\u001b[33;43m\"\u001b[39;49m\u001b[33;43mencoding_errors\u001b[39;49m\u001b[33;43m\"\u001b[39;49m\u001b[43m,\u001b[49m\u001b[43m \u001b[49m\u001b[33;43m\"\u001b[39;49m\u001b[33;43mstrict\u001b[39;49m\u001b[33;43m\"\u001b[39;49m\u001b[43m)\u001b[49m\u001b[43m,\u001b[49m\n\u001b[32m   1888\u001b[39m \u001b[43m    \u001b[49m\u001b[43mstorage_options\u001b[49m\u001b[43m=\u001b[49m\u001b[38;5;28;43mself\u001b[39;49m\u001b[43m.\u001b[49m\u001b[43moptions\u001b[49m\u001b[43m.\u001b[49m\u001b[43mget\u001b[49m\u001b[43m(\u001b[49m\u001b[33;43m\"\u001b[39;49m\u001b[33;43mstorage_options\u001b[39;49m\u001b[33;43m\"\u001b[39;49m\u001b[43m,\u001b[49m\u001b[43m \u001b[49m\u001b[38;5;28;43;01mNone\u001b[39;49;00m\u001b[43m)\u001b[49m\u001b[43m,\u001b[49m\n\u001b[32m   1889\u001b[39m \u001b[43m\u001b[49m\u001b[43m)\u001b[49m\n\u001b[32m   1890\u001b[39m \u001b[38;5;28;01massert\u001b[39;00m \u001b[38;5;28mself\u001b[39m.handles \u001b[38;5;129;01mis\u001b[39;00m \u001b[38;5;129;01mnot\u001b[39;00m \u001b[38;5;28;01mNone\u001b[39;00m\n\u001b[32m   1891\u001b[39m f = \u001b[38;5;28mself\u001b[39m.handles.handle\n",
      "\u001b[36mFile \u001b[39m\u001b[32mc:\\Users\\Kayaki\\AppData\\Local\\Programs\\Python\\Python311\\Lib\\site-packages\\pandas\\io\\common.py:873\u001b[39m, in \u001b[36mget_handle\u001b[39m\u001b[34m(path_or_buf, mode, encoding, compression, memory_map, is_text, errors, storage_options)\u001b[39m\n\u001b[32m    868\u001b[39m \u001b[38;5;28;01melif\u001b[39;00m \u001b[38;5;28misinstance\u001b[39m(handle, \u001b[38;5;28mstr\u001b[39m):\n\u001b[32m    869\u001b[39m     \u001b[38;5;66;03m# Check whether the filename is to be opened in binary mode.\u001b[39;00m\n\u001b[32m    870\u001b[39m     \u001b[38;5;66;03m# Binary mode does not support 'encoding' and 'newline'.\u001b[39;00m\n\u001b[32m    871\u001b[39m     \u001b[38;5;28;01mif\u001b[39;00m ioargs.encoding \u001b[38;5;129;01mand\u001b[39;00m \u001b[33m\"\u001b[39m\u001b[33mb\u001b[39m\u001b[33m\"\u001b[39m \u001b[38;5;129;01mnot\u001b[39;00m \u001b[38;5;129;01min\u001b[39;00m ioargs.mode:\n\u001b[32m    872\u001b[39m         \u001b[38;5;66;03m# Encoding\u001b[39;00m\n\u001b[32m--> \u001b[39m\u001b[32m873\u001b[39m         handle = \u001b[38;5;28mopen\u001b[39m(\n\u001b[32m    874\u001b[39m             handle,\n\u001b[32m    875\u001b[39m             ioargs.mode,\n\u001b[32m    876\u001b[39m             encoding=ioargs.encoding,\n\u001b[32m    877\u001b[39m             errors=errors,\n\u001b[32m    878\u001b[39m             newline=\u001b[33m\"\u001b[39m\u001b[33m\"\u001b[39m,\n\u001b[32m    879\u001b[39m         )\n\u001b[32m    880\u001b[39m     \u001b[38;5;28;01melse\u001b[39;00m:\n\u001b[32m    881\u001b[39m         \u001b[38;5;66;03m# Binary mode\u001b[39;00m\n\u001b[32m    882\u001b[39m         handle = \u001b[38;5;28mopen\u001b[39m(handle, ioargs.mode)\n",
      "\u001b[31mFileNotFoundError\u001b[39m: [Errno 2] No such file or directory: 'D:ta_project/data/processed/combined_data.csv'"
     ]
    }
   ],
   "source": [
    "df = pd.read_csv('D:ta_project/data/processed/combined_data.csv')\n",
    "df.head(5)"
   ]
  },
  {
   "cell_type": "code",
   "execution_count": null,
   "id": "e5c6c1e8-a1cc-4df8-8294-720c18df609e",
   "metadata": {},
   "outputs": [
    {
     "name": "stdout",
     "output_type": "stream",
     "text": [
      "<class 'pandas.core.frame.DataFrame'>\n",
      "RangeIndex: 739 entries, 0 to 738\n",
      "Data columns (total 6 columns):\n",
      " #   Column                   Non-Null Count  Dtype \n",
      "---  ------                   --------------  ----- \n",
      " 0   No                       739 non-null    int64 \n",
      " 1   Model Pakaian            739 non-null    object\n",
      " 2   Jenis Bahan              739 non-null    object\n",
      " 3   Waktu Pengerjaan (hari)  739 non-null    int64 \n",
      " 4   Detail Tambahan          739 non-null    object\n",
      " 5   Harga Jasa (Rp)          739 non-null    object\n",
      "dtypes: int64(2), object(4)\n",
      "memory usage: 34.8+ KB\n"
     ]
    }
   ],
   "source": [
    "df.info()"
   ]
  },
  {
   "cell_type": "code",
   "execution_count": null,
   "id": "35773f16-5bd1-4f8d-8abf-015af963ee33",
   "metadata": {},
   "outputs": [
    {
     "name": "stdout",
     "output_type": "stream",
     "text": [
      "No                         0\n",
      "Model Pakaian              0\n",
      "Jenis Bahan                0\n",
      "Waktu Pengerjaan (hari)    0\n",
      "Detail Tambahan            0\n",
      "Harga Jasa (Rp)            0\n",
      "dtype: int64\n"
     ]
    }
   ],
   "source": [
    "print(df.isnull().sum())"
   ]
  },
  {
   "cell_type": "markdown",
   "id": "009af0de-593f-4a0f-849f-cb75966d4433",
   "metadata": {},
   "source": [
    "### Data Cleaning"
   ]
  },
  {
   "cell_type": "code",
   "execution_count": null,
   "id": "25e61517-fde8-4a37-bf07-07858d69e199",
   "metadata": {},
   "outputs": [],
   "source": [
    "if 'No' in df.columns:\n",
    "    df.drop(labels=['No'], axis=1, inplace=True)"
   ]
  },
  {
   "cell_type": "code",
   "execution_count": null,
   "id": "0b2d2f7b-ebb3-4c44-8a72-4a7bf934149a",
   "metadata": {},
   "outputs": [],
   "source": [
    "df = df.rename(columns={\n",
    "    'Model Pakaian': 'model',\n",
    "    'Jenis Bahan': 'bahan',\n",
    "    'Waktu Pengerjaan (hari)': 'waktu_pengerjaan',\n",
    "    'Detail Tambahan': 'ornamen',\n",
    "    'Harga Jasa (Rp)': 'harga_jasa'\n",
    "})"
   ]
  },
  {
   "cell_type": "code",
   "execution_count": null,
   "id": "40d4fced-752a-45d8-bd7b-9bbff0c1658f",
   "metadata": {},
   "outputs": [],
   "source": [
    "def clean_price(price):\n",
    "    cleaned = re.sub(r'[^\\d]', '', str(price)) # regex used\n",
    "    return int(cleaned) if cleaned else None\n",
    "\n",
    "df['harga_jasa'] = df['harga_jasa'].apply(clean_price)\n",
    "df = df.dropna(subset=['harga_jasa'])"
   ]
  },
  {
   "cell_type": "code",
   "execution_count": null,
   "id": "0c8b9138-f7d4-4bfe-b926-066a87a5fa0e",
   "metadata": {},
   "outputs": [],
   "source": [
    "model_mapping = {\n",
    "    'Gaun midi': 'midi dress',\n",
    "    'Gaun maxi': 'maxi dress'\n",
    "}\n",
    "\n",
    "df['model'] = df['model'].replace(model_mapping)"
   ]
  },
  {
   "cell_type": "code",
   "execution_count": null,
   "id": "aa8784af-a87c-4f78-89bb-2c7c4406acbb",
   "metadata": {},
   "outputs": [],
   "source": [
    "cat_cols = ['model', 'bahan', 'ornamen']\n",
    "\n",
    "for col in cat_cols:\n",
    "    df[col] = df[col].str.lower().str.strip()"
   ]
  },
  {
   "cell_type": "code",
   "execution_count": null,
   "id": "b92e858e-fbab-434a-961a-6650c74a54c0",
   "metadata": {},
   "outputs": [],
   "source": [
    "# Ornament keyword mapping\n",
    "ornament_keywords = {\n",
    "    'bordir': ['bordir', 'bordit'],\n",
    "    'payet': ['payet', 'payat'],\n",
    "    'renda': ['renda'],\n",
    "    'opneisel': ['opneisel', '0pneisel'],\n",
    "    'none': ['-']\n",
    "}\n",
    "\n",
    "# Detect ornament labels\n",
    "def labels_detection(text):\n",
    "    if pd.isna(text):\n",
    "        return []\n",
    "    labels = set()\n",
    "    for label, keywords in ornament_keywords.items():\n",
    "        if any(kw in text for kw in keywords):\n",
    "            labels.add(label)\n",
    "    return list(labels)\n",
    "\n",
    "# Apply detection and store as list\n",
    "df['ornament_list'] = df['ornamen'].apply(labels_detection)"
   ]
  },
  {
   "cell_type": "code",
   "execution_count": null,
   "id": "dc884806-f8ad-41fa-a733-60838c09fa8a",
   "metadata": {},
   "outputs": [],
   "source": [
    "# Filter rows with only one ornament\n",
    "df = df[df['ornament_list'].apply(len) == 1].copy()\n",
    "\n",
    "# Convert list back to string\n",
    "df['ornamen'] = df['ornament_list'].apply(lambda x: x[0] if x else 'none')\n",
    "df.drop(columns=['ornament_list'], inplace=True)"
   ]
  },
  {
   "cell_type": "code",
   "execution_count": null,
   "id": "f8468e43-c637-400a-99ec-9af65e6c2730",
   "metadata": {},
   "outputs": [
    {
     "name": "stdout",
     "output_type": "stream",
     "text": [
      "✅ Preprocessing complete! Final dataset shape: (678, 5)\n"
     ]
    }
   ],
   "source": [
    "print(\"✅ Preprocessing complete! Final dataset shape:\", df.shape)"
   ]
  },
  {
   "cell_type": "markdown",
   "id": "6d08b5f3-efa8-460f-a2f4-ff28d9948474",
   "metadata": {},
   "source": [
    "### Train Test Split"
   ]
  },
  {
   "cell_type": "code",
   "execution_count": null,
   "id": "2b96c1d5-fd41-415d-9e31-055711721711",
   "metadata": {},
   "outputs": [],
   "source": [
    "# Split data\n",
    "X = df.drop('harga_jasa', axis=1)\n",
    "y = df['harga_jasa']\n",
    "X_train, X_test, y_train, y_test = train_test_split(X, y, test_size=0.4, random_state=42)"
   ]
  },
  {
   "cell_type": "markdown",
   "id": "da05bdea-73c5-4fdf-bf55-ffa28823a34e",
   "metadata": {},
   "source": [
    "### Modelling"
   ]
  },
  {
   "cell_type": "code",
   "execution_count": null,
   "id": "bfbc8017-1925-4cde-8931-07487f84cc05",
   "metadata": {},
   "outputs": [],
   "source": [
    "# Linear Regression\n",
    "trans = ColumnTransformer(\n",
    "    transformers=[\n",
    "        ('col', OneHotEncoder(sparse_output=False, drop='first'), ['model', 'bahan', 'ornamen'])\n",
    "    ], \n",
    "    remainder='passthrough'\n",
    ")\n",
    "\n",
    "lr = LinearRegression()\n",
    "\n",
    "pipe = Pipeline([\n",
    "    ('transform', trans),\n",
    "    ('model', lr)\n",
    "])\n",
    "\n",
    "pipe.fit(X_train, y_train)\n",
    "\n",
    "y_pred = pipe.predict(X_test)"
   ]
  },
  {
   "cell_type": "code",
   "execution_count": null,
   "id": "5ca91716-8084-453f-b1c1-744e0754f508",
   "metadata": {},
   "outputs": [
    {
     "name": "stdout",
     "output_type": "stream",
     "text": [
      "R2 Score:  0.6643660303808256\n",
      "MAE:  54182.824033706194\n"
     ]
    }
   ],
   "source": [
    "print('R2 Score: ', r2_score(y_test, y_pred))\n",
    "print('MAE: ', mean_absolute_error(y_test, y_pred))"
   ]
  },
  {
   "cell_type": "code",
   "execution_count": null,
   "id": "de734ed4-d451-4d13-b124-1a21d43dd776",
   "metadata": {},
   "outputs": [],
   "source": [
    "# K-Neighbors Regressor\n",
    "knr = KNeighborsRegressor(n_neighbors=3)\n",
    "\n",
    "pipe = Pipeline([\n",
    "    ('trans', trans),\n",
    "    ('knr', knr)\n",
    "])\n",
    "\n",
    "pipe.fit(X_train, y_train)\n",
    "\n",
    "y_pred = pipe.predict(X_test)"
   ]
  },
  {
   "cell_type": "code",
   "execution_count": null,
   "id": "7462c358-a717-47d7-9dea-02768a8eb303",
   "metadata": {},
   "outputs": [
    {
     "name": "stdout",
     "output_type": "stream",
     "text": [
      "R2 Score:  0.5406427613680985\n",
      "MAE:  63229.16666666668\n"
     ]
    }
   ],
   "source": [
    "print('R2 Score: ', r2_score(y_test, y_pred))\n",
    "print('MAE: ', mean_absolute_error(y_test, y_pred))"
   ]
  },
  {
   "cell_type": "code",
   "execution_count": null,
   "id": "2caaca50-e7aa-4586-a6fe-bb70ddd5f29f",
   "metadata": {},
   "outputs": [],
   "source": [
    "# Random Forest Regressor\n",
    "rfr = RandomForestRegressor(n_estimators=100,\n",
    "                              random_state=3,\n",
    "                              max_samples=0.5,\n",
    "                              max_features=0.75,\n",
    "                              max_depth=15)\n",
    "\n",
    "pipe1 = Pipeline([\n",
    "    ('transform', trans),\n",
    "    ('model', rfr)\n",
    "])\n",
    "\n",
    "pipe1.fit(X_train, y_train)\n",
    "\n",
    "y_pred = pipe1.predict(X_test)"
   ]
  },
  {
   "cell_type": "code",
   "execution_count": null,
   "id": "11f88167-b24e-4037-84a4-eadbde3e4675",
   "metadata": {},
   "outputs": [
    {
     "name": "stdout",
     "output_type": "stream",
     "text": [
      "R2 Score:  0.6738052251181561\n",
      "MAE:  49969.292717086835\n"
     ]
    }
   ],
   "source": [
    "print('R2 Score: ', r2_score(y_test, y_pred))\n",
    "print('MAE: ', mean_absolute_error(y_test, y_pred))"
   ]
  },
  {
   "cell_type": "code",
   "execution_count": null,
   "id": "da591be0-87d0-4ea3-a743-0b22aba0a059",
   "metadata": {},
   "outputs": [],
   "source": [
    "# Gradient Boosting Regressor\n",
    "gbr = GradientBoostingRegressor(n_estimators=500)\n",
    "\n",
    "pipe = Pipeline([\n",
    "    ('trans', trans),\n",
    "    ('gbr', gbr)\n",
    "])\n",
    "\n",
    "pipe.fit(X_train, y_train)\n",
    "\n",
    "y_pred = pipe.predict(X_test)"
   ]
  },
  {
   "cell_type": "code",
   "execution_count": null,
   "id": "3ac5d202-5402-4a4d-ba63-4265286861de",
   "metadata": {},
   "outputs": [
    {
     "name": "stdout",
     "output_type": "stream",
     "text": [
      "R2 Score:  0.6157751313813198\n",
      "MAE:  53090.629567175805\n"
     ]
    }
   ],
   "source": [
    "print('R2 Score: ', r2_score(y_test, y_pred))\n",
    "print('MAE: ', mean_absolute_error(y_test, y_pred))"
   ]
  },
  {
   "cell_type": "code",
   "execution_count": null,
   "id": "48eec6dc-9132-44c6-8f03-1e3eb9cb6fe5",
   "metadata": {},
   "outputs": [],
   "source": [
    "def predict_price(model_input, bahan_input, ornamen_input, waktu_input):\n",
    "    df_input = pd.DataFrame([{\n",
    "        'model': model_input,\n",
    "        'bahan': bahan_input,\n",
    "        'ornamen': ornamen_input,\n",
    "        'waktu_pengerjaan': waktu_input\n",
    "    }])\n",
    "    \n",
    "    # Prediksi langsung pakai pipeline\n",
    "    pred = pipe1.predict(df_input)[0]\n",
    "    rentang = (int(pred - 100000), int(pred + 100000))\n",
    "    return f\"Estimasi harga jasa jahit: Rp{rentang[0]:,} - Rp{rentang[1]:,}\""
   ]
  },
  {
   "cell_type": "code",
   "execution_count": null,
   "id": "478b908b-95f9-4cac-8bbc-3be2a26130c8",
   "metadata": {},
   "outputs": [
    {
     "name": "stdout",
     "output_type": "stream",
     "text": [
      "Estimasi harga jasa jahit: Rp320,458 - Rp520,458\n"
     ]
    }
   ],
   "source": [
    "# Contoh prediksi\n",
    "print(predict_price(\"kebaya tradisional\", \"brokat\", \"payet\", 7))"
   ]
  },
  {
   "cell_type": "code",
   "execution_count": null,
   "id": "57d46788-f3f5-43de-900b-20d6bbf242de",
   "metadata": {},
   "outputs": [
    {
     "data": {
      "text/plain": [
       "['C:/Users/Kayaki/ta_project/models/model.pkl']"
      ]
     },
     "execution_count": 42,
     "metadata": {},
     "output_type": "execute_result"
    }
   ],
   "source": [
    "# Save model\n",
    "joblib.dump(pipe1, 'D:/ta_project/models/model.pkl')"
   ]
  }
 ],
 "metadata": {
  "kernelspec": {
   "display_name": "Python 3 (ipykernel)",
   "language": "python",
   "name": "python3"
  },
  "language_info": {
   "codemirror_mode": {
    "name": "ipython",
    "version": 3
   },
   "file_extension": ".py",
   "mimetype": "text/x-python",
   "name": "python",
   "nbconvert_exporter": "python",
   "pygments_lexer": "ipython3",
   "version": "3.11.9"
  }
 },
 "nbformat": 4,
 "nbformat_minor": 5
}
