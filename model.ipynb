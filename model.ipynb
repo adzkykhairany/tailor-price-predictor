{
 "cells": [
  {
   "cell_type": "markdown",
   "metadata": {},
   "source": [
    "### Library"
   ]
  },
  {
   "cell_type": "code",
   "execution_count": 1240,
   "metadata": {},
   "outputs": [],
   "source": [
    "# Import libraries\n",
    "import pandas as pd\n",
    "import glob\n",
    "import numpy as np\n",
    "import matplotlib.pyplot as plt\n",
    "import seaborn as sns\n",
    "from sklearn.preprocessing import OneHotEncoder, OrdinalEncoder\n",
    "from sklearn.model_selection import train_test_split\n",
    "from sklearn.linear_model import LinearRegression\n",
    "from sklearn.metrics import mean_absolute_error, mean_squared_error, mean_squared_log_error, r2_score"
   ]
  },
  {
   "cell_type": "markdown",
   "metadata": {},
   "source": [
    "### Load Dataset"
   ]
  },
  {
   "cell_type": "code",
   "execution_count": 1241,
   "metadata": {},
   "outputs": [
    {
     "name": "stdout",
     "output_type": "stream",
     "text": [
      "Successfully combined 8 CSV files\n"
     ]
    }
   ],
   "source": [
    "# Combine Data\n",
    "file_paths = glob.glob('D:/ta_project/data/raw/*.csv') \n",
    "data = pd.concat([pd.read_csv(file) for file in file_paths], ignore_index=True)\n",
    "data.to_csv('D:/ta_project/data/processed/combined_data.csv', index=False)\n",
    "print(f\"Successfully combined {len(file_paths)} CSV files\")"
   ]
  },
  {
   "cell_type": "code",
   "execution_count": 1242,
   "metadata": {},
   "outputs": [
    {
     "data": {
      "application/vnd.microsoft.datawrangler.viewer.v0+json": {
       "columns": [
        {
         "name": "index",
         "rawType": "int64",
         "type": "integer"
        },
        {
         "name": "No",
         "rawType": "int64",
         "type": "integer"
        },
        {
         "name": "Model Pakaian",
         "rawType": "object",
         "type": "string"
        },
        {
         "name": "Jenis Bahan",
         "rawType": "object",
         "type": "string"
        },
        {
         "name": "Waktu Pengerjaan (hari)",
         "rawType": "int64",
         "type": "integer"
        },
        {
         "name": "Detail Tambahan",
         "rawType": "object",
         "type": "string"
        },
        {
         "name": "Harga Jasa (Rp)",
         "rawType": "object",
         "type": "string"
        }
       ],
       "conversionMethod": "pd.DataFrame",
       "ref": "bce113c9-139f-4821-b342-e174aa9485b5",
       "rows": [
        [
         "0",
         "1",
         "Kebaya Tradisional",
         "Katun",
         "25",
         "bordir tangan, bawah, payet aksen",
         "Rp750.000"
        ],
        [
         "1",
         "2",
         "Kebaya Tradisional",
         "Katun",
         "7",
         "renda",
         "Rp250.000"
        ],
        [
         "2",
         "3",
         "Kebaya Tradisional",
         "Sutra",
         "10",
         "-",
         "Rp350.000"
        ],
        [
         "3",
         "4",
         "Kebaya Tradisional",
         "Sutra",
         "25",
         "payet aksen tangan, panel dada",
         "Rp700.000"
        ],
        [
         "4",
         "5",
         "Kebaya Tradisional",
         "Brokat",
         "14",
         "-",
         "Rp350.000"
        ],
        [
         "5",
         "6",
         "Kebaya Tradisional",
         "Brokat",
         "18",
         "payet aksen panel, tangan",
         "Rp700.000"
        ],
        [
         "6",
         "7",
         "Kebaya Tradisional",
         "Sifon",
         "7",
         "-",
         "Rp250.000"
        ],
        [
         "7",
         "8",
         "Kebaya Tradisional",
         "Sifon",
         "20",
         "bordir panel, payet motif",
         "Rp650.000"
        ],
        [
         "8",
         "9",
         "Kebaya Tradisional",
         "Satin",
         "8",
         "-",
         "Rp250.000"
        ],
        [
         "9",
         "10",
         "Kebaya Tradisional",
         "Satin",
         "20",
         "payet panel",
         "Rp500.000"
        ]
       ],
       "shape": {
        "columns": 6,
        "rows": 10
       }
      },
      "text/html": [
       "<div>\n",
       "<style scoped>\n",
       "    .dataframe tbody tr th:only-of-type {\n",
       "        vertical-align: middle;\n",
       "    }\n",
       "\n",
       "    .dataframe tbody tr th {\n",
       "        vertical-align: top;\n",
       "    }\n",
       "\n",
       "    .dataframe thead th {\n",
       "        text-align: right;\n",
       "    }\n",
       "</style>\n",
       "<table border=\"1\" class=\"dataframe\">\n",
       "  <thead>\n",
       "    <tr style=\"text-align: right;\">\n",
       "      <th></th>\n",
       "      <th>No</th>\n",
       "      <th>Model Pakaian</th>\n",
       "      <th>Jenis Bahan</th>\n",
       "      <th>Waktu Pengerjaan (hari)</th>\n",
       "      <th>Detail Tambahan</th>\n",
       "      <th>Harga Jasa (Rp)</th>\n",
       "    </tr>\n",
       "  </thead>\n",
       "  <tbody>\n",
       "    <tr>\n",
       "      <th>0</th>\n",
       "      <td>1</td>\n",
       "      <td>Kebaya Tradisional</td>\n",
       "      <td>Katun</td>\n",
       "      <td>25</td>\n",
       "      <td>bordir tangan, bawah, payet aksen</td>\n",
       "      <td>Rp750.000</td>\n",
       "    </tr>\n",
       "    <tr>\n",
       "      <th>1</th>\n",
       "      <td>2</td>\n",
       "      <td>Kebaya Tradisional</td>\n",
       "      <td>Katun</td>\n",
       "      <td>7</td>\n",
       "      <td>renda</td>\n",
       "      <td>Rp250.000</td>\n",
       "    </tr>\n",
       "    <tr>\n",
       "      <th>2</th>\n",
       "      <td>3</td>\n",
       "      <td>Kebaya Tradisional</td>\n",
       "      <td>Sutra</td>\n",
       "      <td>10</td>\n",
       "      <td>-</td>\n",
       "      <td>Rp350.000</td>\n",
       "    </tr>\n",
       "    <tr>\n",
       "      <th>3</th>\n",
       "      <td>4</td>\n",
       "      <td>Kebaya Tradisional</td>\n",
       "      <td>Sutra</td>\n",
       "      <td>25</td>\n",
       "      <td>payet aksen tangan, panel dada</td>\n",
       "      <td>Rp700.000</td>\n",
       "    </tr>\n",
       "    <tr>\n",
       "      <th>4</th>\n",
       "      <td>5</td>\n",
       "      <td>Kebaya Tradisional</td>\n",
       "      <td>Brokat</td>\n",
       "      <td>14</td>\n",
       "      <td>-</td>\n",
       "      <td>Rp350.000</td>\n",
       "    </tr>\n",
       "    <tr>\n",
       "      <th>5</th>\n",
       "      <td>6</td>\n",
       "      <td>Kebaya Tradisional</td>\n",
       "      <td>Brokat</td>\n",
       "      <td>18</td>\n",
       "      <td>payet aksen panel, tangan</td>\n",
       "      <td>Rp700.000</td>\n",
       "    </tr>\n",
       "    <tr>\n",
       "      <th>6</th>\n",
       "      <td>7</td>\n",
       "      <td>Kebaya Tradisional</td>\n",
       "      <td>Sifon</td>\n",
       "      <td>7</td>\n",
       "      <td>-</td>\n",
       "      <td>Rp250.000</td>\n",
       "    </tr>\n",
       "    <tr>\n",
       "      <th>7</th>\n",
       "      <td>8</td>\n",
       "      <td>Kebaya Tradisional</td>\n",
       "      <td>Sifon</td>\n",
       "      <td>20</td>\n",
       "      <td>bordir panel, payet motif</td>\n",
       "      <td>Rp650.000</td>\n",
       "    </tr>\n",
       "    <tr>\n",
       "      <th>8</th>\n",
       "      <td>9</td>\n",
       "      <td>Kebaya Tradisional</td>\n",
       "      <td>Satin</td>\n",
       "      <td>8</td>\n",
       "      <td>-</td>\n",
       "      <td>Rp250.000</td>\n",
       "    </tr>\n",
       "    <tr>\n",
       "      <th>9</th>\n",
       "      <td>10</td>\n",
       "      <td>Kebaya Tradisional</td>\n",
       "      <td>Satin</td>\n",
       "      <td>20</td>\n",
       "      <td>payet panel</td>\n",
       "      <td>Rp500.000</td>\n",
       "    </tr>\n",
       "  </tbody>\n",
       "</table>\n",
       "</div>"
      ],
      "text/plain": [
       "   No       Model Pakaian Jenis Bahan  Waktu Pengerjaan (hari)  \\\n",
       "0   1  Kebaya Tradisional       Katun                       25   \n",
       "1   2  Kebaya Tradisional       Katun                        7   \n",
       "2   3  Kebaya Tradisional       Sutra                       10   \n",
       "3   4  Kebaya Tradisional       Sutra                       25   \n",
       "4   5  Kebaya Tradisional      Brokat                       14   \n",
       "5   6  Kebaya Tradisional      Brokat                       18   \n",
       "6   7  Kebaya Tradisional       Sifon                        7   \n",
       "7   8  Kebaya Tradisional       Sifon                       20   \n",
       "8   9  Kebaya Tradisional       Satin                        8   \n",
       "9  10  Kebaya Tradisional       Satin                       20   \n",
       "\n",
       "                     Detail Tambahan Harga Jasa (Rp)  \n",
       "0  bordir tangan, bawah, payet aksen       Rp750.000  \n",
       "1                              renda       Rp250.000  \n",
       "2                                  -       Rp350.000  \n",
       "3     payet aksen tangan, panel dada       Rp700.000  \n",
       "4                                  -       Rp350.000  \n",
       "5          payet aksen panel, tangan       Rp700.000  \n",
       "6                                  -       Rp250.000  \n",
       "7          bordir panel, payet motif       Rp650.000  \n",
       "8                                  -       Rp250.000  \n",
       "9                        payet panel       Rp500.000  "
      ]
     },
     "execution_count": 1242,
     "metadata": {},
     "output_type": "execute_result"
    }
   ],
   "source": [
    "# Load data\n",
    "df = pd.read_csv('D:/ta_project/data/processed/combined_data.csv')\n",
    "df.head(10)"
   ]
  },
  {
   "cell_type": "markdown",
   "metadata": {},
   "source": [
    "### EDA Pertama (Pre-Preprocessing)"
   ]
  },
  {
   "cell_type": "markdown",
   "metadata": {},
   "source": [
    ".info(), .describe(), plot distribusi"
   ]
  },
  {
   "cell_type": "code",
   "execution_count": 1243,
   "metadata": {},
   "outputs": [
    {
     "name": "stdout",
     "output_type": "stream",
     "text": [
      "<class 'pandas.core.frame.DataFrame'>\n",
      "RangeIndex: 739 entries, 0 to 738\n",
      "Data columns (total 6 columns):\n",
      " #   Column                   Non-Null Count  Dtype \n",
      "---  ------                   --------------  ----- \n",
      " 0   No                       739 non-null    int64 \n",
      " 1   Model Pakaian            739 non-null    object\n",
      " 2   Jenis Bahan              739 non-null    object\n",
      " 3   Waktu Pengerjaan (hari)  739 non-null    int64 \n",
      " 4   Detail Tambahan          739 non-null    object\n",
      " 5   Harga Jasa (Rp)          739 non-null    object\n",
      "dtypes: int64(2), object(4)\n",
      "memory usage: 34.8+ KB\n"
     ]
    }
   ],
   "source": [
    "# Check for structure and data types\n",
    "df.info()"
   ]
  },
  {
   "cell_type": "code",
   "execution_count": 1244,
   "metadata": {},
   "outputs": [
    {
     "data": {
      "text/plain": [
       "No                         0\n",
       "Model Pakaian              0\n",
       "Jenis Bahan                0\n",
       "Waktu Pengerjaan (hari)    0\n",
       "Detail Tambahan            0\n",
       "Harga Jasa (Rp)            0\n",
       "dtype: int64"
      ]
     },
     "execution_count": 1244,
     "metadata": {},
     "output_type": "execute_result"
    }
   ],
   "source": [
    "# Check for missing values\n",
    "df.isnull().sum()"
   ]
  },
  {
   "cell_type": "markdown",
   "metadata": {},
   "source": [
    "### Preprocessing"
   ]
  },
  {
   "cell_type": "code",
   "execution_count": 1245,
   "metadata": {},
   "outputs": [],
   "source": [
    "# Drop unnecessary column\n",
    "df.drop(labels=['No'], axis=1, inplace=True)"
   ]
  },
  {
   "cell_type": "code",
   "execution_count": 1246,
   "metadata": {},
   "outputs": [],
   "source": [
    "# Rename column names\n",
    "df = df.rename(columns={\n",
    "    'Model Pakaian': 'model',\n",
    "    'Jenis Bahan': 'bahan',\n",
    "    'Waktu Pengerjaan (hari)': 'waktu_pengerjaan',\n",
    "    'Detail Tambahan': 'ornamen',\n",
    "    'Harga Jasa (Rp)': 'harga_jasa'\n",
    "})"
   ]
  },
  {
   "cell_type": "code",
   "execution_count": 1247,
   "metadata": {},
   "outputs": [
    {
     "name": "stdout",
     "output_type": "stream",
     "text": [
      "Duplicate Data: 71 data\n"
     ]
    }
   ],
   "source": [
    "# Check duplicates\n",
    "print(\"Duplicate Data:\", df.duplicated().sum(), \"data\")"
   ]
  },
  {
   "cell_type": "code",
   "execution_count": 1248,
   "metadata": {},
   "outputs": [
    {
     "name": "stdout",
     "output_type": "stream",
     "text": [
      "Duplicate data had been removed\n"
     ]
    }
   ],
   "source": [
    "# Remove duplicates\n",
    "df = df.drop_duplicates().reset_index(drop=True)\n",
    "print(\"Duplicate data had been removed\")"
   ]
  },
  {
   "cell_type": "code",
   "execution_count": 1249,
   "metadata": {},
   "outputs": [],
   "source": [
    "# Clean and convert harga to integer\n",
    "def clean_price(price):\n",
    "    try:\n",
    "        cleaned = str(price).replace('Rp', '').replace('.', '').replace(',', '').replace('-', '').strip()\n",
    "        return int(cleaned)\n",
    "    except:\n",
    "        return None\n",
    "\n",
    "df['harga_jasa'] = df['harga_jasa'].apply(clean_price)"
   ]
  },
  {
   "cell_type": "code",
   "execution_count": 1250,
   "metadata": {},
   "outputs": [
    {
     "name": "stdout",
     "output_type": "stream",
     "text": [
      "Unique values in column model:\n",
      " ['Kebaya Tradisional' 'Kebaya modern' 'Blus' 'Gaun midi' 'Gaun maxi'\n",
      " 'Kebaya Modern' 'Midi Dress' 'Maxi Dress'] \n",
      "\n",
      "Unique values in column bahan:\n",
      " ['Katun' 'Sutra' 'Brokat' 'Sifon' 'Satin'] \n",
      "\n"
     ]
    }
   ],
   "source": [
    "# Check unique values in model and bahan variable\n",
    "mb_columns = ['model', 'bahan']\n",
    "\n",
    "for col in mb_columns:\n",
    "    print(f\"Unique values in column {col}:\\n\", df[col].unique(), \"\\n\")\n"
   ]
  },
  {
   "cell_type": "code",
   "execution_count": 1251,
   "metadata": {},
   "outputs": [],
   "source": [
    "# Mapping to replace values\n",
    "model_mapping = {\n",
    "    'Gaun midi': 'midi dress',\n",
    "    'Gaun maxi': 'maxi dress'\n",
    "}\n",
    "\n",
    "df['model'] = df['model'].replace(model_mapping)"
   ]
  },
  {
   "cell_type": "code",
   "execution_count": 1252,
   "metadata": {},
   "outputs": [],
   "source": [
    "# Standardize text format in categorical variables\n",
    "for col in ['model', 'bahan', 'ornamen']:\n",
    "    df[col] = df[col].str.lower().str.strip()"
   ]
  },
  {
   "cell_type": "code",
   "execution_count": 1253,
   "metadata": {},
   "outputs": [
    {
     "data": {
      "text/plain": [
       "['-',\n",
       " '0pneisel dada',\n",
       " '0pneisel pinggang',\n",
       " 'bordir  panel dada',\n",
       " 'bordir bawah',\n",
       " 'bordir bawah aksen',\n",
       " 'bordir bawah kecil',\n",
       " 'bordir bawah kecil, ujung lengan',\n",
       " 'bordir bawah, leher',\n",
       " 'bordir bawah, ujung lengan',\n",
       " 'bordir bawah, ujung tangan, payet aksen',\n",
       " 'bordir bawsh aksen',\n",
       " 'bordir beff aksen',\n",
       " 'bordir beff sedang',\n",
       " 'bordir dada',\n",
       " 'bordir dada kecil',\n",
       " 'bordir dada sedang, tangan, payet motif',\n",
       " 'bordir dada tempel kecil',\n",
       " 'bordir dada, bawah',\n",
       " 'bordir dada, punggung',\n",
       " 'bordir dada, punggung, payet motif',\n",
       " 'bordir dada, punggung, payet motif full',\n",
       " 'bordir dada, tangan',\n",
       " 'bordir dada, ujung lengan',\n",
       " 'bordir full panel dada, bawah, tangan',\n",
       " 'bordir full panel, bawah, ujung lengan',\n",
       " 'bordir kalung',\n",
       " 'bordir kecil beff',\n",
       " 'bordir kecil dada panel',\n",
       " 'bordir kecil leher',\n",
       " 'bordir kerah, manset tangan',\n",
       " 'bordir leher',\n",
       " 'bordir leher + payet motif',\n",
       " 'bordir leher kecil',\n",
       " 'bordir leher, tangan',\n",
       " 'bordir manset lengan',\n",
       " 'bordir panel dada kecil, ujung tangan',\n",
       " 'bordir panel kecil',\n",
       " 'bordir panel, bawah',\n",
       " 'bordir panel, bawah, ujung lengan',\n",
       " 'bordir panel, payet motif',\n",
       " 'bordir pinggang, tangan',\n",
       " 'bordir sedang dada',\n",
       " 'bordir sedang leher, bawah',\n",
       " 'bordir sedang ujung lengan',\n",
       " 'bordir tangan',\n",
       " 'bordir tangan aksen',\n",
       " 'bordir tangan, bawah, payet aksen',\n",
       " 'bordir tempe dada, punggung',\n",
       " 'bordir tempel bawah besar',\n",
       " 'bordir tempel bawah besar + payet aksen',\n",
       " 'bordir tempel bawah sedang',\n",
       " 'bordir tempel bawah, payet motif',\n",
       " 'bordir tempel bawah, ujung lengan',\n",
       " 'bordir tempel beff',\n",
       " 'bordir tempel besar bawah',\n",
       " 'bordir tempel besar dada',\n",
       " 'bordir tempel besar punggung',\n",
       " 'bordir tempel dada',\n",
       " 'bordir tempel dada besar',\n",
       " 'bordir tempel dada sedang,  punggung, + payet motif',\n",
       " 'bordir tempel dada+payet aksen',\n",
       " 'bordir tempel dada, punggung',\n",
       " 'bordir tempel dada, punggung + payet aksen',\n",
       " 'bordir tempel dada, punggung + payet motif',\n",
       " 'bordir tempel dada, punggung +payet motif',\n",
       " 'bordir tempel dada, punggung, ujung lengan + payet  motif',\n",
       " 'bordir tempel dada, tangan+ payet aksen',\n",
       " 'bordir tempel dada, ujung lengan',\n",
       " 'bordir tempel full',\n",
       " 'bordir tempel full panel, bawah, ujung lengan',\n",
       " 'bordir tempel kalung',\n",
       " 'bordir tempel kalung + payet motif',\n",
       " 'bordir tempel kalur + payet motif',\n",
       " 'bordir tempel lebar bawah',\n",
       " 'bordir tempel leher',\n",
       " 'bordir tempel leher, pinggang',\n",
       " 'bordir tempel panel',\n",
       " 'bordir tempel pinggang + payet motif',\n",
       " 'bordir tempel pinggang ,payet motif',\n",
       " 'bordir tempel punggung',\n",
       " 'bordir tempel sedang bawah, payet motif leher',\n",
       " 'bordir tempel sedang dada, bawah',\n",
       " 'bordir tempel sedang pinggang',\n",
       " 'bordit tempel dada, punggung',\n",
       " 'opeisel dada + payet aksen',\n",
       " 'opneisel dada',\n",
       " 'opneisel dada sampai bawah',\n",
       " 'opneisel dada+payet aksen',\n",
       " 'opneisel dada, lengan',\n",
       " 'opneisel dada, lengan atas',\n",
       " 'opneisel dada, payet aksen',\n",
       " 'opneisel dada, payet aksen dada',\n",
       " 'opneisel dada, payet dada aksen',\n",
       " 'opneisel dada, pinggang',\n",
       " 'opneisel dada, pinggang + payet aksen',\n",
       " 'opneisel dada, pinggul',\n",
       " 'opneisel dada, punggung + payet',\n",
       " 'opneisel dada, tangan',\n",
       " 'opneisel kerah, manset',\n",
       " 'opneisel kerah.',\n",
       " 'opneisel leher',\n",
       " 'opneisel lengan',\n",
       " 'opneisel lengan atas',\n",
       " 'opneisel pinggah',\n",
       " 'opneisel pinggang',\n",
       " 'opneisel pinggang + payet aksen',\n",
       " 'opneisel pinggang +payet aksen',\n",
       " 'opneisel pinggang aksen',\n",
       " 'opneisel pinggang, payet aksen',\n",
       " 'opneisel pinggang, payet masen',\n",
       " 'opneisel pinggang, payet tabur pinggang',\n",
       " 'opneisel pinggang, ujung lengan',\n",
       " 'opneisel pinggul',\n",
       " 'opneisel punggung',\n",
       " 'opneisel tangan',\n",
       " 'opneisel tangan, tangan tabur dada,tanagan',\n",
       " 'opneisel terbuka dada',\n",
       " 'opneisel ujung tangan',\n",
       " 'payat bawah aksem',\n",
       " 'payet  lis leher',\n",
       " 'payet aksen',\n",
       " 'payet aksen  leher, tangan',\n",
       " 'payet aksen bawah',\n",
       " 'payet aksen dada',\n",
       " 'payet aksen dada aksen',\n",
       " 'payet aksen full',\n",
       " 'payet aksen full baju',\n",
       " 'payet aksen kerah',\n",
       " 'payet aksen kerah, ujung lengan',\n",
       " 'payet aksen leher',\n",
       " 'payet aksen leher, tangan',\n",
       " 'payet aksen motif',\n",
       " 'payet aksen motif badan',\n",
       " 'payet aksen panel, beff, ujunjg lengan',\n",
       " 'payet aksen panel, tangan',\n",
       " 'payet aksen pinggang',\n",
       " 'payet aksen tangan, panel dada',\n",
       " 'payet aksen ujung tangan',\n",
       " 'payet bawah, ujung tangan aksen',\n",
       " 'payet beff',\n",
       " 'payet beff  aksen',\n",
       " 'payet beff aksen',\n",
       " 'payet beff motif',\n",
       " 'payet beff, tangan',\n",
       " 'payet beff, ujung lengan',\n",
       " 'payet dada',\n",
       " 'payet dada aksen',\n",
       " 'payet dada kotif',\n",
       " 'payet dada motif',\n",
       " 'payet dada, punggung',\n",
       " 'payet dada, tangan',\n",
       " 'payet dada, tangan aksen',\n",
       " 'payet dada, tangan motif',\n",
       " 'payet full',\n",
       " 'payet full badan',\n",
       " 'payet full dada, ujung lengan',\n",
       " 'payet kalung',\n",
       " 'payet kalung aksen, ujung lengan',\n",
       " 'payet kalung full',\n",
       " 'payet kalung full, ujung lengan',\n",
       " 'payet kalung motif',\n",
       " 'payet kalung, tangan',\n",
       " 'payet kalung, ujung tangan',\n",
       " 'payet kerah , manset full',\n",
       " 'payet lehe aksen',\n",
       " 'payet leher',\n",
       " 'payet leher aksen',\n",
       " 'payet leher aksen, ujung lengan',\n",
       " 'payet leher full',\n",
       " 'payet leher lis',\n",
       " 'payet leher motif',\n",
       " 'payet leher motif, ujung lengan',\n",
       " 'payet leher, tangan aksen',\n",
       " 'payet leher, tangan, bawah',\n",
       " 'payet leher, ujung lengan',\n",
       " 'payet leher.',\n",
       " 'payet lis aksen leher , ujung lengan',\n",
       " 'payet motif  beff, ujung lengan',\n",
       " 'payet motif aksen bawah ,ujung tangan',\n",
       " 'payet motif dada, bawah, ujung lengan full',\n",
       " 'payet motif dada, tangan aksen',\n",
       " 'payet motif full panel',\n",
       " 'payet motif kalung, tangan',\n",
       " 'payet motif leher, bawah tangan',\n",
       " 'payet motif leher, ujungan lengan',\n",
       " 'payet motif manset lengan',\n",
       " 'payet motif panel',\n",
       " 'payet motif tipis',\n",
       " 'payet panel',\n",
       " 'payet panel aksen',\n",
       " 'payet panel aksen, ujung lengan',\n",
       " 'payet panel aksen, ujung tangan',\n",
       " 'payet panel dada aksen',\n",
       " 'payet panel motif',\n",
       " 'payet panel sedang',\n",
       " 'payet panel, beff motif',\n",
       " 'payet pinggang aksen',\n",
       " 'payet pinggang motif',\n",
       " 'payet pinggang, ujung lengan',\n",
       " 'payet ujung lengan aksen',\n",
       " 'renda',\n",
       " 'renda aksen leher',\n",
       " 'renda bawa, tangan',\n",
       " 'renda bawah',\n",
       " 'renda bawah + tangan',\n",
       " 'renda bawah lebar',\n",
       " 'renda bawah, payet aksen',\n",
       " 'renda bawah, tangan',\n",
       " 'renda bawah, ujung lengan',\n",
       " 'renda bawah, ujung lengan+ payet aksen',\n",
       " 'renda bawah, ujung tangan',\n",
       " 'renda bawah, ujung tangan, payet aksen',\n",
       " 'renda beaar dada, punggung payet aksen',\n",
       " 'renda besar bawah, ujung lengan + payet aksen',\n",
       " 'renda besar bawah, ujung tangan',\n",
       " 'renda besar dada + payet aksen',\n",
       " 'renda besar dada + payet motif',\n",
       " 'renda besar dada, payet motif',\n",
       " 'renda besar panel, bawah',\n",
       " 'renda besar pinggang + bawah',\n",
       " 'renda besar pinggang+payet motif',\n",
       " 'renda besar pinggang, bawah + payet aksen',\n",
       " 'renda besar pinggang, payet aksen',\n",
       " 'renda dada',\n",
       " 'renda dada besar',\n",
       " 'renda dada kecil',\n",
       " 'renda dada lebar, payet aksen',\n",
       " 'renda dada, bawah',\n",
       " 'renda dada, pinggang',\n",
       " 'renda dada, punggung',\n",
       " 'renda dada, punggung, ujung tangan',\n",
       " 'renda dada, tangan',\n",
       " 'renda dada, tàngan',\n",
       " 'renda dada, ujung lengan',\n",
       " 'renda dada, ujung tangan',\n",
       " 'renda dada, ukung lengan',\n",
       " 'renda kecil bawah',\n",
       " 'renda kecil bawah, ujung lengan',\n",
       " 'renda kecil dada',\n",
       " 'renda kerah',\n",
       " 'renda kerah, dada',\n",
       " 'renda kerah, manset',\n",
       " 'renda kerah, tangan',\n",
       " 'renda lebar bawah',\n",
       " 'renda lebar bawah, ujung lengan',\n",
       " 'renda lebar dada + payet aksen',\n",
       " 'renda lebar dada panel',\n",
       " 'renda lebar kerah, ujung lengan',\n",
       " 'renda lebar leher, bawah',\n",
       " 'renda lebar pinggang',\n",
       " 'renda lebar pinggang + payet motif',\n",
       " 'renda leher',\n",
       " 'renda leher +ujung lengan',\n",
       " 'renda leher dan tangan',\n",
       " 'renda leher, bawah',\n",
       " 'renda leher, tangan',\n",
       " 'renda leher, ujung lengan, bawah',\n",
       " 'renda leher, ujung tangan',\n",
       " 'renda panel',\n",
       " 'renda panel + payet',\n",
       " 'renda panel dada',\n",
       " 'renda panel dada, bawah',\n",
       " 'renda panel dada, bawah, tangan',\n",
       " 'renda panel dada, tangan',\n",
       " 'renda panel kecil',\n",
       " 'renda panel kecil + lengan',\n",
       " 'renda panel kecil, ujung lengan',\n",
       " 'renda panel sedang',\n",
       " 'renda panel+ payet aksen',\n",
       " 'renda panel, bawah,',\n",
       " 'renda panel, bawah, ujung lengan',\n",
       " 'renda panel, payet aksen panel',\n",
       " 'renda pinggang',\n",
       " 'renda pinggang , bawah',\n",
       " 'renda pinggang lebar, payet aksen',\n",
       " 'renda pinggang, bawah',\n",
       " 'renda pinggang, ujung lengan',\n",
       " 'renda sedang panel',\n",
       " 'renda sedang pinggang + payet motif',\n",
       " 'renda sedang pinggang, payet aksen',\n",
       " 'renda tangan',\n",
       " 'renda ujung lengan, kerah']"
      ]
     },
     "execution_count": 1253,
     "metadata": {},
     "output_type": "execute_result"
    }
   ],
   "source": [
    "# Check unique values in ornamen variable\n",
    "unique_details = df['ornamen'].dropna().unique()\n",
    "unique_details_sorted = sorted(unique_details)\n",
    "unique_details_sorted[:400]"
   ]
  },
  {
   "cell_type": "code",
   "execution_count": 1254,
   "metadata": {},
   "outputs": [],
   "source": [
    "kategori_keywords = {\n",
    "    'bordir': ['bordir', 'bordit'],\n",
    "    'payet': ['payet', 'payat'],\n",
    "    'renda': ['renda'],\n",
    "    'opneisel': ['opneisel', '0pneisel'],\n",
    "    'none': ['-']\n",
    "}\n",
    "\n",
    "def deteksi_labels(text):\n",
    "    if pd.isna(text):\n",
    "        return []\n",
    "    text = text.lower()\n",
    "    labels = set()\n",
    "    for label, keywords in kategori_keywords.items():\n",
    "        if any(kw in text for kw in keywords):\n",
    "            labels.add(label)\n",
    "    return list(labels)\n",
    "\n",
    "# 3. Update isi kolom 'ornamen' dengan label yang distandarkan\n",
    "df['ornamen'] = df['ornamen'].apply(lambda x: ', '.join(deteksi_labels(x)))"
   ]
  },
  {
   "cell_type": "code",
   "execution_count": 1255,
   "metadata": {},
   "outputs": [
    {
     "name": "stdout",
     "output_type": "stream",
     "text": [
      "Unique values in column ornamen:\n",
      " ['payet, bordir' 'renda' 'none' 'payet' 'bordir' 'payet, opneisel'\n",
      " 'opneisel' 'payet, renda'] \n",
      "\n"
     ]
    }
   ],
   "source": [
    "# Check unique values in ornamen variable\n",
    "for col in ['ornamen']:\n",
    "    print(f\"Unique values in column {col}:\\n\", df[col].unique(), \"\\n\")"
   ]
  },
  {
   "cell_type": "code",
   "execution_count": 1256,
   "metadata": {},
   "outputs": [],
   "source": [
    "# Filter rows that have only one ornament\n",
    "# df = df[df['ornamen'].str.count(',') == 0]"
   ]
  },
  {
   "cell_type": "code",
   "execution_count": 1257,
   "metadata": {},
   "outputs": [
    {
     "name": "stdout",
     "output_type": "stream",
     "text": [
      "<class 'pandas.core.frame.DataFrame'>\n",
      "RangeIndex: 668 entries, 0 to 667\n",
      "Data columns (total 5 columns):\n",
      " #   Column            Non-Null Count  Dtype \n",
      "---  ------            --------------  ----- \n",
      " 0   model             668 non-null    object\n",
      " 1   bahan             668 non-null    object\n",
      " 2   waktu_pengerjaan  668 non-null    int64 \n",
      " 3   ornamen           668 non-null    object\n",
      " 4   harga_jasa        668 non-null    int64 \n",
      "dtypes: int64(2), object(3)\n",
      "memory usage: 26.2+ KB\n"
     ]
    }
   ],
   "source": [
    "df.info()"
   ]
  },
  {
   "cell_type": "code",
   "execution_count": 1258,
   "metadata": {},
   "outputs": [
    {
     "data": {
      "application/vnd.microsoft.datawrangler.viewer.v0+json": {
       "columns": [
        {
         "name": "index",
         "rawType": "int64",
         "type": "integer"
        },
        {
         "name": "model",
         "rawType": "object",
         "type": "string"
        },
        {
         "name": "bahan",
         "rawType": "object",
         "type": "string"
        },
        {
         "name": "waktu_pengerjaan",
         "rawType": "int64",
         "type": "integer"
        },
        {
         "name": "ornamen",
         "rawType": "object",
         "type": "string"
        },
        {
         "name": "harga_jasa",
         "rawType": "int64",
         "type": "integer"
        }
       ],
       "conversionMethod": "pd.DataFrame",
       "ref": "3edccf1d-e938-4af7-b227-a6a327a2773d",
       "rows": [
        [
         "0",
         "kebaya tradisional",
         "katun",
         "25",
         "payet, bordir",
         "750000"
        ],
        [
         "1",
         "kebaya tradisional",
         "katun",
         "7",
         "renda",
         "250000"
        ],
        [
         "2",
         "kebaya tradisional",
         "sutra",
         "10",
         "none",
         "350000"
        ],
        [
         "3",
         "kebaya tradisional",
         "sutra",
         "25",
         "payet",
         "700000"
        ],
        [
         "4",
         "kebaya tradisional",
         "brokat",
         "14",
         "none",
         "350000"
        ]
       ],
       "shape": {
        "columns": 5,
        "rows": 5
       }
      },
      "text/html": [
       "<div>\n",
       "<style scoped>\n",
       "    .dataframe tbody tr th:only-of-type {\n",
       "        vertical-align: middle;\n",
       "    }\n",
       "\n",
       "    .dataframe tbody tr th {\n",
       "        vertical-align: top;\n",
       "    }\n",
       "\n",
       "    .dataframe thead th {\n",
       "        text-align: right;\n",
       "    }\n",
       "</style>\n",
       "<table border=\"1\" class=\"dataframe\">\n",
       "  <thead>\n",
       "    <tr style=\"text-align: right;\">\n",
       "      <th></th>\n",
       "      <th>model</th>\n",
       "      <th>bahan</th>\n",
       "      <th>waktu_pengerjaan</th>\n",
       "      <th>ornamen</th>\n",
       "      <th>harga_jasa</th>\n",
       "    </tr>\n",
       "  </thead>\n",
       "  <tbody>\n",
       "    <tr>\n",
       "      <th>0</th>\n",
       "      <td>kebaya tradisional</td>\n",
       "      <td>katun</td>\n",
       "      <td>25</td>\n",
       "      <td>payet, bordir</td>\n",
       "      <td>750000</td>\n",
       "    </tr>\n",
       "    <tr>\n",
       "      <th>1</th>\n",
       "      <td>kebaya tradisional</td>\n",
       "      <td>katun</td>\n",
       "      <td>7</td>\n",
       "      <td>renda</td>\n",
       "      <td>250000</td>\n",
       "    </tr>\n",
       "    <tr>\n",
       "      <th>2</th>\n",
       "      <td>kebaya tradisional</td>\n",
       "      <td>sutra</td>\n",
       "      <td>10</td>\n",
       "      <td>none</td>\n",
       "      <td>350000</td>\n",
       "    </tr>\n",
       "    <tr>\n",
       "      <th>3</th>\n",
       "      <td>kebaya tradisional</td>\n",
       "      <td>sutra</td>\n",
       "      <td>25</td>\n",
       "      <td>payet</td>\n",
       "      <td>700000</td>\n",
       "    </tr>\n",
       "    <tr>\n",
       "      <th>4</th>\n",
       "      <td>kebaya tradisional</td>\n",
       "      <td>brokat</td>\n",
       "      <td>14</td>\n",
       "      <td>none</td>\n",
       "      <td>350000</td>\n",
       "    </tr>\n",
       "  </tbody>\n",
       "</table>\n",
       "</div>"
      ],
      "text/plain": [
       "                model   bahan  waktu_pengerjaan        ornamen  harga_jasa\n",
       "0  kebaya tradisional   katun                25  payet, bordir      750000\n",
       "1  kebaya tradisional   katun                 7          renda      250000\n",
       "2  kebaya tradisional   sutra                10           none      350000\n",
       "3  kebaya tradisional   sutra                25          payet      700000\n",
       "4  kebaya tradisional  brokat                14           none      350000"
      ]
     },
     "execution_count": 1258,
     "metadata": {},
     "output_type": "execute_result"
    }
   ],
   "source": [
    "df.head()"
   ]
  },
  {
   "cell_type": "markdown",
   "metadata": {},
   "source": [
    "### EDA"
   ]
  },
  {
   "cell_type": "markdown",
   "metadata": {},
   "source": [
    "#### Encoding"
   ]
  },
  {
   "cell_type": "code",
   "execution_count": 1259,
   "metadata": {},
   "outputs": [
    {
     "ename": "KeyError",
     "evalue": "'pengalaman_penjahit'",
     "output_type": "error",
     "traceback": [
      "\u001b[31m---------------------------------------------------------------------------\u001b[39m",
      "\u001b[31mKeyError\u001b[39m                                  Traceback (most recent call last)",
      "\u001b[36mFile \u001b[39m\u001b[32mc:\\Users\\Kayaki\\AppData\\Local\\Programs\\Python\\Python311\\Lib\\site-packages\\pandas\\core\\indexes\\base.py:3805\u001b[39m, in \u001b[36mIndex.get_loc\u001b[39m\u001b[34m(self, key)\u001b[39m\n\u001b[32m   3804\u001b[39m \u001b[38;5;28;01mtry\u001b[39;00m:\n\u001b[32m-> \u001b[39m\u001b[32m3805\u001b[39m     \u001b[38;5;28;01mreturn\u001b[39;00m \u001b[38;5;28;43mself\u001b[39;49m\u001b[43m.\u001b[49m\u001b[43m_engine\u001b[49m\u001b[43m.\u001b[49m\u001b[43mget_loc\u001b[49m\u001b[43m(\u001b[49m\u001b[43mcasted_key\u001b[49m\u001b[43m)\u001b[49m\n\u001b[32m   3806\u001b[39m \u001b[38;5;28;01mexcept\u001b[39;00m \u001b[38;5;167;01mKeyError\u001b[39;00m \u001b[38;5;28;01mas\u001b[39;00m err:\n",
      "\u001b[36mFile \u001b[39m\u001b[32mindex.pyx:167\u001b[39m, in \u001b[36mpandas._libs.index.IndexEngine.get_loc\u001b[39m\u001b[34m()\u001b[39m\n",
      "\u001b[36mFile \u001b[39m\u001b[32mindex.pyx:196\u001b[39m, in \u001b[36mpandas._libs.index.IndexEngine.get_loc\u001b[39m\u001b[34m()\u001b[39m\n",
      "\u001b[36mFile \u001b[39m\u001b[32mpandas\\\\_libs\\\\hashtable_class_helper.pxi:7081\u001b[39m, in \u001b[36mpandas._libs.hashtable.PyObjectHashTable.get_item\u001b[39m\u001b[34m()\u001b[39m\n",
      "\u001b[36mFile \u001b[39m\u001b[32mpandas\\\\_libs\\\\hashtable_class_helper.pxi:7089\u001b[39m, in \u001b[36mpandas._libs.hashtable.PyObjectHashTable.get_item\u001b[39m\u001b[34m()\u001b[39m\n",
      "\u001b[31mKeyError\u001b[39m: 'pengalaman_penjahit'",
      "\nThe above exception was the direct cause of the following exception:\n",
      "\u001b[31mKeyError\u001b[39m                                  Traceback (most recent call last)",
      "\u001b[36mCell\u001b[39m\u001b[36m \u001b[39m\u001b[32mIn[1259]\u001b[39m\u001b[32m, line 8\u001b[39m\n\u001b[32m      2\u001b[39m ordinal_cols = {\n\u001b[32m      3\u001b[39m     \u001b[33m'\u001b[39m\u001b[33mwaktu_pengerjaan\u001b[39m\u001b[33m'\u001b[39m: [\u001b[33m'\u001b[39m\u001b[33mreguler\u001b[39m\u001b[33m'\u001b[39m, \u001b[33m'\u001b[39m\u001b[33mekspres\u001b[39m\u001b[33m'\u001b[39m],\n\u001b[32m      4\u001b[39m     \u001b[33m'\u001b[39m\u001b[33mpengalaman_penjahit\u001b[39m\u001b[33m'\u001b[39m: [\u001b[33m'\u001b[39m\u001b[33mpemula\u001b[39m\u001b[33m'\u001b[39m, \u001b[33m'\u001b[39m\u001b[33mmenengah\u001b[39m\u001b[33m'\u001b[39m, \u001b[33m'\u001b[39m\u001b[33mmahir\u001b[39m\u001b[33m'\u001b[39m]\n\u001b[32m      5\u001b[39m }\n\u001b[32m      7\u001b[39m \u001b[38;5;28;01mfor\u001b[39;00m col, categories \u001b[38;5;129;01min\u001b[39;00m ordinal_cols.items():\n\u001b[32m----> \u001b[39m\u001b[32m8\u001b[39m     \u001b[38;5;28;01mif\u001b[39;00m \u001b[43mdf\u001b[49m\u001b[43m[\u001b[49m\u001b[43mcol\u001b[49m\u001b[43m]\u001b[49m.dtype == \u001b[33m'\u001b[39m\u001b[33mobject\u001b[39m\u001b[33m'\u001b[39m:\n\u001b[32m      9\u001b[39m         encoder = OrdinalEncoder(categories=[categories])\n\u001b[32m     10\u001b[39m         df[[col]] = encoder.fit_transform(df[[col]])\n",
      "\u001b[36mFile \u001b[39m\u001b[32mc:\\Users\\Kayaki\\AppData\\Local\\Programs\\Python\\Python311\\Lib\\site-packages\\pandas\\core\\frame.py:4102\u001b[39m, in \u001b[36mDataFrame.__getitem__\u001b[39m\u001b[34m(self, key)\u001b[39m\n\u001b[32m   4100\u001b[39m \u001b[38;5;28;01mif\u001b[39;00m \u001b[38;5;28mself\u001b[39m.columns.nlevels > \u001b[32m1\u001b[39m:\n\u001b[32m   4101\u001b[39m     \u001b[38;5;28;01mreturn\u001b[39;00m \u001b[38;5;28mself\u001b[39m._getitem_multilevel(key)\n\u001b[32m-> \u001b[39m\u001b[32m4102\u001b[39m indexer = \u001b[38;5;28;43mself\u001b[39;49m\u001b[43m.\u001b[49m\u001b[43mcolumns\u001b[49m\u001b[43m.\u001b[49m\u001b[43mget_loc\u001b[49m\u001b[43m(\u001b[49m\u001b[43mkey\u001b[49m\u001b[43m)\u001b[49m\n\u001b[32m   4103\u001b[39m \u001b[38;5;28;01mif\u001b[39;00m is_integer(indexer):\n\u001b[32m   4104\u001b[39m     indexer = [indexer]\n",
      "\u001b[36mFile \u001b[39m\u001b[32mc:\\Users\\Kayaki\\AppData\\Local\\Programs\\Python\\Python311\\Lib\\site-packages\\pandas\\core\\indexes\\base.py:3812\u001b[39m, in \u001b[36mIndex.get_loc\u001b[39m\u001b[34m(self, key)\u001b[39m\n\u001b[32m   3807\u001b[39m     \u001b[38;5;28;01mif\u001b[39;00m \u001b[38;5;28misinstance\u001b[39m(casted_key, \u001b[38;5;28mslice\u001b[39m) \u001b[38;5;129;01mor\u001b[39;00m (\n\u001b[32m   3808\u001b[39m         \u001b[38;5;28misinstance\u001b[39m(casted_key, abc.Iterable)\n\u001b[32m   3809\u001b[39m         \u001b[38;5;129;01mand\u001b[39;00m \u001b[38;5;28many\u001b[39m(\u001b[38;5;28misinstance\u001b[39m(x, \u001b[38;5;28mslice\u001b[39m) \u001b[38;5;28;01mfor\u001b[39;00m x \u001b[38;5;129;01min\u001b[39;00m casted_key)\n\u001b[32m   3810\u001b[39m     ):\n\u001b[32m   3811\u001b[39m         \u001b[38;5;28;01mraise\u001b[39;00m InvalidIndexError(key)\n\u001b[32m-> \u001b[39m\u001b[32m3812\u001b[39m     \u001b[38;5;28;01mraise\u001b[39;00m \u001b[38;5;167;01mKeyError\u001b[39;00m(key) \u001b[38;5;28;01mfrom\u001b[39;00m\u001b[38;5;250m \u001b[39m\u001b[34;01merr\u001b[39;00m\n\u001b[32m   3813\u001b[39m \u001b[38;5;28;01mexcept\u001b[39;00m \u001b[38;5;167;01mTypeError\u001b[39;00m:\n\u001b[32m   3814\u001b[39m     \u001b[38;5;66;03m# If we have a listlike key, _check_indexing_error will raise\u001b[39;00m\n\u001b[32m   3815\u001b[39m     \u001b[38;5;66;03m#  InvalidIndexError. Otherwise we fall through and re-raise\u001b[39;00m\n\u001b[32m   3816\u001b[39m     \u001b[38;5;66;03m#  the TypeError.\u001b[39;00m\n\u001b[32m   3817\u001b[39m     \u001b[38;5;28mself\u001b[39m._check_indexing_error(key)\n",
      "\u001b[31mKeyError\u001b[39m: 'pengalaman_penjahit'"
     ]
    }
   ],
   "source": [
    "# Ordinal encoding\n",
    "ordinal_cols = {\n",
    "    'waktu_pengerjaan': ['reguler', 'ekspres'],\n",
    "    'pengalaman_penjahit': ['pemula', 'menengah', 'mahir']\n",
    "}\n",
    "    \n",
    "for col, categories in ordinal_cols.items():\n",
    "    if df[col].dtype == 'object':\n",
    "        encoder = OrdinalEncoder(categories=[categories])\n",
    "        df[[col]] = encoder.fit_transform(df[[col]])"
   ]
  },
  {
   "cell_type": "code",
   "execution_count": null,
   "metadata": {},
   "outputs": [],
   "source": [
    "# One hot encoding\n",
    "cat_cols = ['model', 'bahan', 'ornamen']\n",
    "\n",
    "if any(df[col].dtype == 'object' for col in cat_cols):\n",
    "    cat_encoder = OneHotEncoder(drop='first', sparse_output=False)\n",
    "    encoded_array = cat_encoder.fit_transform(df[cat_cols])\n",
    "    encoded_df = pd.DataFrame(encoded_array, columns=cat_encoder.get_feature_names_out(cat_cols), index=df.index)\n",
    "\n",
    "    df = df.drop(columns=cat_cols)\n",
    "    df = pd.concat([df, encoded_df], axis=1)"
   ]
  },
  {
   "cell_type": "code",
   "execution_count": null,
   "metadata": {},
   "outputs": [
    {
     "data": {
      "application/vnd.microsoft.datawrangler.viewer.v0+json": {
       "columns": [
        {
         "name": "index",
         "rawType": "int64",
         "type": "integer"
        },
        {
         "name": "waktu_pengerjaan",
         "rawType": "float64",
         "type": "float"
        },
        {
         "name": "pengalaman_penjahit",
         "rawType": "float64",
         "type": "float"
        },
        {
         "name": "model_kebaya modern",
         "rawType": "float64",
         "type": "float"
        },
        {
         "name": "model_kebaya tradisional",
         "rawType": "float64",
         "type": "float"
        },
        {
         "name": "model_maxi dress",
         "rawType": "float64",
         "type": "float"
        },
        {
         "name": "model_midi dress",
         "rawType": "float64",
         "type": "float"
        },
        {
         "name": "bahan_lace",
         "rawType": "float64",
         "type": "float"
        },
        {
         "name": "bahan_satin",
         "rawType": "float64",
         "type": "float"
        },
        {
         "name": "bahan_sifon",
         "rawType": "float64",
         "type": "float"
        },
        {
         "name": "bahan_sutra",
         "rawType": "float64",
         "type": "float"
        },
        {
         "name": "ornamen_opnaisel",
         "rawType": "float64",
         "type": "float"
        },
        {
         "name": "ornamen_payet",
         "rawType": "float64",
         "type": "float"
        },
        {
         "name": "ornamen_renda",
         "rawType": "float64",
         "type": "float"
        },
        {
         "name": "ornamen_tanpa ornamen",
         "rawType": "float64",
         "type": "float"
        },
        {
         "name": "harga_jasa",
         "rawType": "int64",
         "type": "integer"
        }
       ],
       "conversionMethod": "pd.DataFrame",
       "ref": "7d92be36-76c1-4e43-bea6-9914fcd958f9",
       "rows": [
        [
         "0",
         "0.0",
         "0.0",
         "0.0",
         "1.0",
         "0.0",
         "0.0",
         "0.0",
         "0.0",
         "0.0",
         "0.0",
         "0.0",
         "0.0",
         "0.0",
         "1.0",
         "250000"
        ],
        [
         "1",
         "1.0",
         "1.0",
         "0.0",
         "1.0",
         "0.0",
         "0.0",
         "0.0",
         "0.0",
         "0.0",
         "0.0",
         "0.0",
         "0.0",
         "0.0",
         "0.0",
         "300000"
        ],
        [
         "2",
         "0.0",
         "2.0",
         "0.0",
         "1.0",
         "0.0",
         "0.0",
         "0.0",
         "0.0",
         "0.0",
         "1.0",
         "0.0",
         "0.0",
         "0.0",
         "0.0",
         "950000"
        ],
        [
         "3",
         "1.0",
         "0.0",
         "0.0",
         "1.0",
         "0.0",
         "0.0",
         "1.0",
         "0.0",
         "0.0",
         "0.0",
         "0.0",
         "1.0",
         "0.0",
         "0.0",
         "350000"
        ],
        [
         "4",
         "0.0",
         "1.0",
         "0.0",
         "1.0",
         "0.0",
         "0.0",
         "0.0",
         "0.0",
         "1.0",
         "0.0",
         "0.0",
         "1.0",
         "0.0",
         "0.0",
         "450000"
        ]
       ],
       "shape": {
        "columns": 15,
        "rows": 5
       }
      },
      "text/html": [
       "<div>\n",
       "<style scoped>\n",
       "    .dataframe tbody tr th:only-of-type {\n",
       "        vertical-align: middle;\n",
       "    }\n",
       "\n",
       "    .dataframe tbody tr th {\n",
       "        vertical-align: top;\n",
       "    }\n",
       "\n",
       "    .dataframe thead th {\n",
       "        text-align: right;\n",
       "    }\n",
       "</style>\n",
       "<table border=\"1\" class=\"dataframe\">\n",
       "  <thead>\n",
       "    <tr style=\"text-align: right;\">\n",
       "      <th></th>\n",
       "      <th>waktu_pengerjaan</th>\n",
       "      <th>pengalaman_penjahit</th>\n",
       "      <th>model_kebaya modern</th>\n",
       "      <th>model_kebaya tradisional</th>\n",
       "      <th>model_maxi dress</th>\n",
       "      <th>model_midi dress</th>\n",
       "      <th>bahan_lace</th>\n",
       "      <th>bahan_satin</th>\n",
       "      <th>bahan_sifon</th>\n",
       "      <th>bahan_sutra</th>\n",
       "      <th>ornamen_opnaisel</th>\n",
       "      <th>ornamen_payet</th>\n",
       "      <th>ornamen_renda</th>\n",
       "      <th>ornamen_tanpa ornamen</th>\n",
       "      <th>harga_jasa</th>\n",
       "    </tr>\n",
       "  </thead>\n",
       "  <tbody>\n",
       "    <tr>\n",
       "      <th>0</th>\n",
       "      <td>0.0</td>\n",
       "      <td>0.0</td>\n",
       "      <td>0.0</td>\n",
       "      <td>1.0</td>\n",
       "      <td>0.0</td>\n",
       "      <td>0.0</td>\n",
       "      <td>0.0</td>\n",
       "      <td>0.0</td>\n",
       "      <td>0.0</td>\n",
       "      <td>0.0</td>\n",
       "      <td>0.0</td>\n",
       "      <td>0.0</td>\n",
       "      <td>0.0</td>\n",
       "      <td>1.0</td>\n",
       "      <td>250000</td>\n",
       "    </tr>\n",
       "    <tr>\n",
       "      <th>1</th>\n",
       "      <td>1.0</td>\n",
       "      <td>1.0</td>\n",
       "      <td>0.0</td>\n",
       "      <td>1.0</td>\n",
       "      <td>0.0</td>\n",
       "      <td>0.0</td>\n",
       "      <td>0.0</td>\n",
       "      <td>0.0</td>\n",
       "      <td>0.0</td>\n",
       "      <td>0.0</td>\n",
       "      <td>0.0</td>\n",
       "      <td>0.0</td>\n",
       "      <td>0.0</td>\n",
       "      <td>0.0</td>\n",
       "      <td>300000</td>\n",
       "    </tr>\n",
       "    <tr>\n",
       "      <th>2</th>\n",
       "      <td>0.0</td>\n",
       "      <td>2.0</td>\n",
       "      <td>0.0</td>\n",
       "      <td>1.0</td>\n",
       "      <td>0.0</td>\n",
       "      <td>0.0</td>\n",
       "      <td>0.0</td>\n",
       "      <td>0.0</td>\n",
       "      <td>0.0</td>\n",
       "      <td>1.0</td>\n",
       "      <td>0.0</td>\n",
       "      <td>0.0</td>\n",
       "      <td>0.0</td>\n",
       "      <td>0.0</td>\n",
       "      <td>950000</td>\n",
       "    </tr>\n",
       "    <tr>\n",
       "      <th>3</th>\n",
       "      <td>1.0</td>\n",
       "      <td>0.0</td>\n",
       "      <td>0.0</td>\n",
       "      <td>1.0</td>\n",
       "      <td>0.0</td>\n",
       "      <td>0.0</td>\n",
       "      <td>1.0</td>\n",
       "      <td>0.0</td>\n",
       "      <td>0.0</td>\n",
       "      <td>0.0</td>\n",
       "      <td>0.0</td>\n",
       "      <td>1.0</td>\n",
       "      <td>0.0</td>\n",
       "      <td>0.0</td>\n",
       "      <td>350000</td>\n",
       "    </tr>\n",
       "    <tr>\n",
       "      <th>4</th>\n",
       "      <td>0.0</td>\n",
       "      <td>1.0</td>\n",
       "      <td>0.0</td>\n",
       "      <td>1.0</td>\n",
       "      <td>0.0</td>\n",
       "      <td>0.0</td>\n",
       "      <td>0.0</td>\n",
       "      <td>0.0</td>\n",
       "      <td>1.0</td>\n",
       "      <td>0.0</td>\n",
       "      <td>0.0</td>\n",
       "      <td>1.0</td>\n",
       "      <td>0.0</td>\n",
       "      <td>0.0</td>\n",
       "      <td>450000</td>\n",
       "    </tr>\n",
       "  </tbody>\n",
       "</table>\n",
       "</div>"
      ],
      "text/plain": [
       "   waktu_pengerjaan  pengalaman_penjahit  model_kebaya modern  \\\n",
       "0               0.0                  0.0                  0.0   \n",
       "1               1.0                  1.0                  0.0   \n",
       "2               0.0                  2.0                  0.0   \n",
       "3               1.0                  0.0                  0.0   \n",
       "4               0.0                  1.0                  0.0   \n",
       "\n",
       "   model_kebaya tradisional  model_maxi dress  model_midi dress  bahan_lace  \\\n",
       "0                       1.0               0.0               0.0         0.0   \n",
       "1                       1.0               0.0               0.0         0.0   \n",
       "2                       1.0               0.0               0.0         0.0   \n",
       "3                       1.0               0.0               0.0         1.0   \n",
       "4                       1.0               0.0               0.0         0.0   \n",
       "\n",
       "   bahan_satin  bahan_sifon  bahan_sutra  ornamen_opnaisel  ornamen_payet  \\\n",
       "0          0.0          0.0          0.0               0.0            0.0   \n",
       "1          0.0          0.0          0.0               0.0            0.0   \n",
       "2          0.0          0.0          1.0               0.0            0.0   \n",
       "3          0.0          0.0          0.0               0.0            1.0   \n",
       "4          0.0          1.0          0.0               0.0            1.0   \n",
       "\n",
       "   ornamen_renda  ornamen_tanpa ornamen  harga_jasa  \n",
       "0            0.0                    1.0      250000  \n",
       "1            0.0                    0.0      300000  \n",
       "2            0.0                    0.0      950000  \n",
       "3            0.0                    0.0      350000  \n",
       "4            0.0                    0.0      450000  "
      ]
     },
     "execution_count": 528,
     "metadata": {},
     "output_type": "execute_result"
    }
   ],
   "source": [
    "# Construct feature matrix X and target variable y\n",
    "X = df.drop(columns=['harga_jasa'])\n",
    "y = df['harga_jasa']\n",
    "\n",
    "final_df = pd.concat([X, y], axis=1)\n",
    "final_df.head()"
   ]
  },
  {
   "cell_type": "code",
   "execution_count": null,
   "metadata": {},
   "outputs": [
    {
     "name": "stdout",
     "output_type": "stream",
     "text": [
      "Data Info After Encoding:\n",
      "<class 'pandas.core.frame.DataFrame'>\n",
      "RangeIndex: 99 entries, 0 to 98\n",
      "Data columns (total 15 columns):\n",
      " #   Column                    Non-Null Count  Dtype  \n",
      "---  ------                    --------------  -----  \n",
      " 0   waktu_pengerjaan          99 non-null     float64\n",
      " 1   pengalaman_penjahit       99 non-null     float64\n",
      " 2   harga_jasa                99 non-null     int64  \n",
      " 3   model_kebaya modern       99 non-null     float64\n",
      " 4   model_kebaya tradisional  99 non-null     float64\n",
      " 5   model_maxi dress          99 non-null     float64\n",
      " 6   model_midi dress          99 non-null     float64\n",
      " 7   bahan_lace                99 non-null     float64\n",
      " 8   bahan_satin               99 non-null     float64\n",
      " 9   bahan_sifon               99 non-null     float64\n",
      " 10  bahan_sutra               99 non-null     float64\n",
      " 11  ornamen_opnaisel          99 non-null     float64\n",
      " 12  ornamen_payet             99 non-null     float64\n",
      " 13  ornamen_renda             99 non-null     float64\n",
      " 14  ornamen_tanpa ornamen     99 non-null     float64\n",
      "dtypes: float64(14), int64(1)\n",
      "memory usage: 11.7 KB\n"
     ]
    }
   ],
   "source": [
    "print(\"Data Info After Encoding:\")\n",
    "df.info()"
   ]
  },
  {
   "cell_type": "code",
   "execution_count": null,
   "metadata": {},
   "outputs": [
    {
     "data": {
      "image/png": "[encoded data removed]",
      "text/plain": [
       "<Figure size 800x500 with 1 Axes>"
      ]
     },
     "metadata": {},
     "output_type": "display_data"
    },
    {
     "data": {
      "image/png": "[encoded data removed]",
      "text/plain": [
       "<Figure size 800x500 with 1 Axes>"
      ]
     },
     "metadata": {},
     "output_type": "display_data"
    }
   ],
   "source": [
    "# Histogram harga_jasa\n",
    "plt.figure(figsize=(8, 5))\n",
    "sns.histplot(y, bins=20, kde=True)\n",
    "plt.title(\"Distribusi Harga Jasa\")\n",
    "plt.xlabel(\"harga_jasa\")\n",
    "plt.ylabel(\"Frekuensi\")\n",
    "plt.show()\n",
    "\n",
    "# Boxplot harga_jasa\n",
    "plt.figure(figsize=(8, 5))\n",
    "sns.boxplot(x=y)\n",
    "plt.title(\"Boxplot Harga Jasa\")\n",
    "plt.xlabel(\"harga_jasa\")\n",
    "plt.show()"
   ]
  },
  {
   "cell_type": "code",
   "execution_count": null,
   "metadata": {},
   "outputs": [
    {
     "data": {
      "image/png": "[encoded data removed]",
      "text/plain": [
       "<Figure size 600x400 with 1 Axes>"
      ]
     },
     "metadata": {},
     "output_type": "display_data"
    },
    {
     "data": {
      "image/png": "[encoded data removed]",
      "text/plain": [
       "<Figure size 600x400 with 1 Axes>"
      ]
     },
     "metadata": {},
     "output_type": "display_data"
    }
   ],
   "source": [
    "# Barplot waktu pengerjaan\n",
    "plt.figure(figsize=(6, 4))\n",
    "sns.countplot(x=df['waktu_pengerjaan'])\n",
    "plt.title(\"Distribusi Waktu Pengerjaan\")\n",
    "plt.xlabel(\"Kategori Waktu Pengerjaan\")\n",
    "plt.ylabel(\"Jumlah\")\n",
    "plt.xticks(ticks=[0, 1], labels=['reguler', 'ekspres'])\n",
    "plt.show()\n",
    "\n",
    "# Barplot pengalaman penjahit\n",
    "plt.figure(figsize=(6, 4))\n",
    "sns.countplot(x=df['pengalaman_penjahit'])\n",
    "plt.title(\"Distribusi Pengalaman Penjahit\")\n",
    "plt.xlabel(\"Kategori Pengalaman\")\n",
    "plt.ylabel(\"Jumlah\")\n",
    "plt.xticks(ticks=[0, 1, 2], labels=['pemula', 'menengah', 'mahir'])\n",
    "plt.show()"
   ]
  },
  {
   "cell_type": "code",
   "execution_count": null,
   "metadata": {},
   "outputs": [
    {
     "data": {
      "image/png": "[encoded data removed]",
      "text/plain": [
       "<Figure size 1000x500 with 1 Axes>"
      ]
     },
     "metadata": {},
     "output_type": "display_data"
    }
   ],
   "source": [
    "# Cek distribusi one-hot encoding\n",
    "encoded_cols = [col for col in df.columns if col.startswith(('model_', 'bahan_', 'ornamen_'))]\n",
    "\n",
    "# Plot distribusi fitur one-hot encoding\n",
    "df[encoded_cols].sum().plot(kind='bar', figsize=(10, 5))\n",
    "plt.title(\"Distribusi Fitur One-Hot Encoding\")\n",
    "plt.xlabel(\"Kategori\")\n",
    "plt.ylabel(\"Jumlah Data\")\n",
    "plt.xticks(rotation=45)\n",
    "plt.show()"
   ]
  },
  {
   "cell_type": "markdown",
   "metadata": {},
   "source": [
    "### Split Data"
   ]
  },
  {
   "cell_type": "markdown",
   "metadata": {},
   "source": [
    "#### train_test_split"
   ]
  },
  {
   "cell_type": "markdown",
   "metadata": {},
   "source": [
    "### Modeling"
   ]
  },
  {
   "cell_type": "markdown",
   "metadata": {},
   "source": [
    "#### LinearRegression().fit()"
   ]
  },
  {
   "cell_type": "markdown",
   "metadata": {},
   "source": [
    "### Evaluation"
   ]
  },
  {
   "cell_type": "markdown",
   "metadata": {},
   "source": [
    "#### MAE, MSE, R²"
   ]
  },
  {
   "cell_type": "markdown",
   "metadata": {},
   "source": [
    "### Visualisasi Hasil"
   ]
  },
  {
   "cell_type": "markdown",
   "metadata": {},
   "source": [
    "#### Scatter plot, residual plot"
   ]
  }
 ],
 "metadata": {
  "kernelspec": {
   "display_name": "Python 3",
   "language": "python",
   "name": "python3"
  },
  "language_info": {
   "codemirror_mode": {
    "name": "ipython",
    "version": 3
   },
   "file_extension": ".py",
   "mimetype": "text/x-python",
   "name": "python",
   "nbconvert_exporter": "python",
   "pygments_lexer": "ipython3",
   "version": "3.11.9"
  }
 },
 "nbformat": 4,
 "nbformat_minor": 2
}
