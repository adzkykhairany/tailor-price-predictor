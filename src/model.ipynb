{
 "cells": [
  {
   "cell_type": "code",
   "execution_count": 7,
   "metadata": {},
   "outputs": [],
   "source": [
    "# Import libraries\n",
    "import pandas as pd\n",
    "import numpy as np\n",
    "import matplotlib.pyplot as plt\n",
    "import seaborn as sns\n",
    "from sklearn.preprocessing import LabelEncoder, OneHotEncoder\n",
    "from sklearn.model_selection import train_test_split\n",
    "from sklearn.linear_model import LinearRegression\n",
    "from sklearn.metrics import mean_absolute_error, mean_squared_error, mean_squared_log_error, r2_score"
   ]
  },
  {
   "cell_type": "code",
   "execution_count": 8,
   "metadata": {},
   "outputs": [
    {
     "data": {
      "application/vnd.microsoft.datawrangler.viewer.v0+json": {
       "columns": [
        {
         "name": "index",
         "rawType": "int64",
         "type": "integer"
        },
        {
         "name": "No",
         "rawType": "int64",
         "type": "integer"
        },
        {
         "name": "Model Pakaian",
         "rawType": "object",
         "type": "string"
        },
        {
         "name": "Jenis Bahan",
         "rawType": "object",
         "type": "string"
        },
        {
         "name": "Waktu Pengerjaan",
         "rawType": "object",
         "type": "string"
        },
        {
         "name": "Pengalaman Penjahit",
         "rawType": "object",
         "type": "string"
        },
        {
         "name": "Detail Tambahan",
         "rawType": "object",
         "type": "string"
        },
        {
         "name": "Harga Jasa",
         "rawType": "int64",
         "type": "integer"
        }
       ],
       "conversionMethod": "pd.DataFrame",
       "ref": "17bbfa2f-7763-45c6-ae17-a9de00e30db2",
       "rows": [
        [
         "0",
         "1",
         "Kebaya Tradisional",
         "Katun",
         "Reguler",
         "Pemula",
         "Tanpa ornamen",
         "250000"
        ],
        [
         "1",
         "2",
         "Kebaya Tradisional",
         "Katun",
         "Ekspres",
         "Menengah",
         "Bordir",
         "300000"
        ],
        [
         "2",
         "3",
         "Kebaya Tradisional",
         "Sutra",
         "Reguler",
         "Mahir",
         "Bordir",
         "950000"
        ],
        [
         "3",
         "4",
         "Kebaya Tradisional",
         "Lace",
         "Ekspres",
         "Pemula",
         "Payet",
         "350000"
        ],
        [
         "4",
         "5",
         "Kebaya Tradisional",
         "Sifon",
         "Reguler",
         "Menengah",
         "Payet",
         "450000"
        ],
        [
         "5",
         "6",
         "Kebaya Modern",
         "Katun",
         "Ekspres",
         "Mahir",
         "Tanpa ornamen",
         "350000"
        ],
        [
         "6",
         "7",
         "Kebaya Modern",
         "Sutra",
         "Reguler",
         "Pemula",
         "Bordir",
         "320000"
        ],
        [
         "7",
         "8",
         "Kebaya Modern",
         "Lace",
         "Ekspres",
         "Menengah",
         "Payet",
         "380000"
        ],
        [
         "8",
         "9",
         "Kebaya Modern",
         "Sifon",
         "Reguler",
         "Mahir",
         "Payet",
         "400000"
        ],
        [
         "9",
         "10",
         "Kebaya Modern",
         "Satin",
         "Ekspres",
         "Pemula",
         "Renda",
         "370000"
        ]
       ],
       "shape": {
        "columns": 7,
        "rows": 10
       }
      },
      "text/html": [
       "<div>\n",
       "<style scoped>\n",
       "    .dataframe tbody tr th:only-of-type {\n",
       "        vertical-align: middle;\n",
       "    }\n",
       "\n",
       "    .dataframe tbody tr th {\n",
       "        vertical-align: top;\n",
       "    }\n",
       "\n",
       "    .dataframe thead th {\n",
       "        text-align: right;\n",
       "    }\n",
       "</style>\n",
       "<table border=\"1\" class=\"dataframe\">\n",
       "  <thead>\n",
       "    <tr style=\"text-align: right;\">\n",
       "      <th></th>\n",
       "      <th>No</th>\n",
       "      <th>Model Pakaian</th>\n",
       "      <th>Jenis Bahan</th>\n",
       "      <th>Waktu Pengerjaan</th>\n",
       "      <th>Pengalaman Penjahit</th>\n",
       "      <th>Detail Tambahan</th>\n",
       "      <th>Harga Jasa</th>\n",
       "    </tr>\n",
       "  </thead>\n",
       "  <tbody>\n",
       "    <tr>\n",
       "      <th>0</th>\n",
       "      <td>1</td>\n",
       "      <td>Kebaya Tradisional</td>\n",
       "      <td>Katun</td>\n",
       "      <td>Reguler</td>\n",
       "      <td>Pemula</td>\n",
       "      <td>Tanpa ornamen</td>\n",
       "      <td>250000</td>\n",
       "    </tr>\n",
       "    <tr>\n",
       "      <th>1</th>\n",
       "      <td>2</td>\n",
       "      <td>Kebaya Tradisional</td>\n",
       "      <td>Katun</td>\n",
       "      <td>Ekspres</td>\n",
       "      <td>Menengah</td>\n",
       "      <td>Bordir</td>\n",
       "      <td>300000</td>\n",
       "    </tr>\n",
       "    <tr>\n",
       "      <th>2</th>\n",
       "      <td>3</td>\n",
       "      <td>Kebaya Tradisional</td>\n",
       "      <td>Sutra</td>\n",
       "      <td>Reguler</td>\n",
       "      <td>Mahir</td>\n",
       "      <td>Bordir</td>\n",
       "      <td>950000</td>\n",
       "    </tr>\n",
       "    <tr>\n",
       "      <th>3</th>\n",
       "      <td>4</td>\n",
       "      <td>Kebaya Tradisional</td>\n",
       "      <td>Lace</td>\n",
       "      <td>Ekspres</td>\n",
       "      <td>Pemula</td>\n",
       "      <td>Payet</td>\n",
       "      <td>350000</td>\n",
       "    </tr>\n",
       "    <tr>\n",
       "      <th>4</th>\n",
       "      <td>5</td>\n",
       "      <td>Kebaya Tradisional</td>\n",
       "      <td>Sifon</td>\n",
       "      <td>Reguler</td>\n",
       "      <td>Menengah</td>\n",
       "      <td>Payet</td>\n",
       "      <td>450000</td>\n",
       "    </tr>\n",
       "    <tr>\n",
       "      <th>5</th>\n",
       "      <td>6</td>\n",
       "      <td>Kebaya Modern</td>\n",
       "      <td>Katun</td>\n",
       "      <td>Ekspres</td>\n",
       "      <td>Mahir</td>\n",
       "      <td>Tanpa ornamen</td>\n",
       "      <td>350000</td>\n",
       "    </tr>\n",
       "    <tr>\n",
       "      <th>6</th>\n",
       "      <td>7</td>\n",
       "      <td>Kebaya Modern</td>\n",
       "      <td>Sutra</td>\n",
       "      <td>Reguler</td>\n",
       "      <td>Pemula</td>\n",
       "      <td>Bordir</td>\n",
       "      <td>320000</td>\n",
       "    </tr>\n",
       "    <tr>\n",
       "      <th>7</th>\n",
       "      <td>8</td>\n",
       "      <td>Kebaya Modern</td>\n",
       "      <td>Lace</td>\n",
       "      <td>Ekspres</td>\n",
       "      <td>Menengah</td>\n",
       "      <td>Payet</td>\n",
       "      <td>380000</td>\n",
       "    </tr>\n",
       "    <tr>\n",
       "      <th>8</th>\n",
       "      <td>9</td>\n",
       "      <td>Kebaya Modern</td>\n",
       "      <td>Sifon</td>\n",
       "      <td>Reguler</td>\n",
       "      <td>Mahir</td>\n",
       "      <td>Payet</td>\n",
       "      <td>400000</td>\n",
       "    </tr>\n",
       "    <tr>\n",
       "      <th>9</th>\n",
       "      <td>10</td>\n",
       "      <td>Kebaya Modern</td>\n",
       "      <td>Satin</td>\n",
       "      <td>Ekspres</td>\n",
       "      <td>Pemula</td>\n",
       "      <td>Renda</td>\n",
       "      <td>370000</td>\n",
       "    </tr>\n",
       "  </tbody>\n",
       "</table>\n",
       "</div>"
      ],
      "text/plain": [
       "   No       Model Pakaian  ... Detail Tambahan Harga Jasa\n",
       "0   1  Kebaya Tradisional  ...   Tanpa ornamen     250000\n",
       "1   2  Kebaya Tradisional  ...          Bordir     300000\n",
       "2   3  Kebaya Tradisional  ...          Bordir     950000\n",
       "3   4  Kebaya Tradisional  ...           Payet     350000\n",
       "4   5  Kebaya Tradisional  ...           Payet     450000\n",
       "5   6       Kebaya Modern  ...   Tanpa ornamen     350000\n",
       "6   7       Kebaya Modern  ...          Bordir     320000\n",
       "7   8       Kebaya Modern  ...           Payet     380000\n",
       "8   9       Kebaya Modern  ...           Payet     400000\n",
       "9  10       Kebaya Modern  ...           Renda     370000\n",
       "\n",
       "[10 rows x 7 columns]"
      ]
     },
     "execution_count": 8,
     "metadata": {},
     "output_type": "execute_result"
    }
   ],
   "source": [
    "# Load data\n",
    "df = pd.read_csv(r'D:\\ta_project\\data\\raw\\data.csv')\n",
    "df.head(10)"
   ]
  },
  {
   "cell_type": "code",
   "execution_count": 9,
   "metadata": {},
   "outputs": [
    {
     "name": "stdout",
     "output_type": "stream",
     "text": [
      "(150, 7)\n",
      "               No      Harga Jasa\n",
      "count  150.000000      150.000000\n",
      "mean    75.500000   463800.000000\n",
      "std     43.445368   199632.783686\n",
      "min      1.000000   250000.000000\n",
      "25%     38.250000   330000.000000\n",
      "50%     75.500000   395000.000000\n",
      "75%    112.750000   480000.000000\n",
      "max    150.000000  1000000.000000\n"
     ]
    }
   ],
   "source": [
    "# Exploratory Data Analysis\n",
    "print(df.shape)\n",
    "print(df.describe())"
   ]
  }
 ],
 "metadata": {
  "kernelspec": {
   "display_name": "Python 3",
   "language": "python",
   "name": "python3"
  },
  "language_info": {
   "codemirror_mode": {
    "name": "ipython",
    "version": 3
   },
   "file_extension": ".py",
   "mimetype": "text/x-python",
   "name": "python",
   "nbconvert_exporter": "python",
   "pygments_lexer": "ipython3",
   "version": "3.11.9"
  }
 },
 "nbformat": 4,
 "nbformat_minor": 2
}
